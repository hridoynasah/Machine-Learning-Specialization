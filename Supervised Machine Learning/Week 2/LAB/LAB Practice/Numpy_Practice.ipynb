{
 "cells": [
  {
   "cell_type": "code",
   "execution_count": 2,
   "metadata": {},
   "outputs": [],
   "source": [
    "import numpy as np\n",
    "import time "
   ]
  },
  {
   "cell_type": "code",
   "execution_count": 2,
   "metadata": {},
   "outputs": [
    {
     "name": "stdout",
     "output_type": "stream",
     "text": [
      "[0. 0. 0. 0.]\n",
      "shape: (4,)\n",
      "data type: float64\n"
     ]
    }
   ],
   "source": [
    "a = np.zeros(4); print(f\"{a}\\nshape: {a.shape}\\ndata type: {a.dtype}\")"
   ]
  },
  {
   "cell_type": "code",
   "execution_count": 3,
   "metadata": {},
   "outputs": [
    {
     "name": "stdout",
     "output_type": "stream",
     "text": [
      "[0. 0. 0. 0.]\n",
      "shape: (4,)\n",
      "data type: float64\n"
     ]
    }
   ],
   "source": [
    "a = np.zeros((4,)); print(f\"{a}\\nshape: {a.shape}\\ndata type: {a.dtype}\")"
   ]
  },
  {
   "cell_type": "code",
   "execution_count": 4,
   "metadata": {},
   "outputs": [
    {
     "name": "stdout",
     "output_type": "stream",
     "text": [
      "[[0. 0. 0.]\n",
      " [0. 0. 0.]\n",
      " [0. 0. 0.]\n",
      " [0. 0. 0.]]\n",
      "shape: (4, 3)\n",
      "data type: float64\n"
     ]
    }
   ],
   "source": [
    "a = np.zeros((4,3)); print(f\"{a}\\nshape: {a.shape}\\ndata type: {a.dtype}\")"
   ]
  },
  {
   "cell_type": "code",
   "execution_count": 3,
   "metadata": {},
   "outputs": [
    {
     "name": "stdout",
     "output_type": "stream",
     "text": [
      "[0.19873232 0.00297171 0.30264923 0.73766279]\n",
      "shape: (4,)\n",
      "data type: float64\n"
     ]
    }
   ],
   "source": [
    "a = np.random.random_sample(4)\n",
    "print(f\"{a}\\nshape: {a.shape}\\ndata type: {a.dtype}\")"
   ]
  },
  {
   "cell_type": "code",
   "execution_count": null,
   "metadata": {},
   "outputs": [
    {
     "name": "stdout",
     "output_type": "stream",
     "text": [
      "[[0.59948376 0.53248153 0.7843211 ]\n",
      " [0.52191107 0.8138829  0.93711713]\n",
      " [0.66312684 0.45435217 0.33594514]]\n",
      "shape: (3, 3)\n",
      "data type: float64\n"
     ]
    }
   ],
   "source": [
    "# np.random.random_sample() -> distributed in the range [0, 1)\n",
    "a = np.random.random_sample((3,3))\n",
    "print(f\"{a}\\nshape: {a.shape}\\ndata type: {a.dtype}\")"
   ]
  },
  {
   "cell_type": "code",
   "execution_count": 7,
   "metadata": {},
   "outputs": [
    {
     "name": "stdout",
     "output_type": "stream",
     "text": [
      "[[4 9 8]\n",
      " [8 6 7]\n",
      " [7 4 5]]\n",
      "shape: (3, 3)\n",
      "data type: int32\n"
     ]
    }
   ],
   "source": [
    "a = np.random.randint(low=0, high=10, size=(3, 3))\n",
    "print(f\"{a}\\nshape: {a.shape}\\ndata type: {a.dtype}\")"
   ]
  },
  {
   "cell_type": "code",
   "execution_count": null,
   "metadata": {},
   "outputs": [],
   "source": []
  }
 ],
 "metadata": {
  "kernelspec": {
   "display_name": "base",
   "language": "python",
   "name": "python3"
  },
  "language_info": {
   "codemirror_mode": {
    "name": "ipython",
    "version": 3
   },
   "file_extension": ".py",
   "mimetype": "text/x-python",
   "name": "python",
   "nbconvert_exporter": "python",
   "pygments_lexer": "ipython3",
   "version": "3.12.7"
  }
 },
 "nbformat": 4,
 "nbformat_minor": 2
}
