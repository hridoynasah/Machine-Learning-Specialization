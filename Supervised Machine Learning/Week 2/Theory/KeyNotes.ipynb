{
 "cells": [
  {
   "cell_type": "markdown",
   "metadata": {},
   "source": [
    "**_Convergence:_** Convergence happens when the gradient becomes very small, meaning that further updates to the parameters will not significantly improve the model (i.e., the loss function stops decreasing).\n"
   ]
  }
 ],
 "metadata": {
  "language_info": {
   "name": "python"
  }
 },
 "nbformat": 4,
 "nbformat_minor": 2
}
