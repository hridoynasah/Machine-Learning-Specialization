{
 "cells": [
  {
   "cell_type": "markdown",
   "metadata": {},
   "source": [
    "### **Learned From LAB02:**\n"
   ]
  },
  {
   "cell_type": "code",
   "execution_count": 1,
   "metadata": {},
   "outputs": [],
   "source": [
    "import numpy as np\n",
    "import matplotlib.pyplot as plt\n",
    "plt.style.use('ggplot')"
   ]
  },
  {
   "cell_type": "code",
   "execution_count": 2,
   "metadata": {},
   "outputs": [
    {
     "name": "stdout",
     "output_type": "stream",
     "text": [
      "(3,)\n",
      "3\n"
     ]
    }
   ],
   "source": [
    "arr = np.array([1,2,3]) # One dimension\n",
    "print(arr.shape)  # Returns python tuple for each dimension\n",
    "l = arr.shape[0]\n",
    "print(l)"
   ]
  },
  {
   "cell_type": "code",
   "execution_count": 3,
   "metadata": {},
   "outputs": [
    {
     "name": "stdout",
     "output_type": "stream",
     "text": [
      "(2, 3)\n",
      "3\n",
      "[4 5 6]\n"
     ]
    }
   ],
   "source": [
    "arrA = np.array([[1,2,3],\n",
    "                 [4,5,6]])\n",
    "print(arrA.shape) # This array has two dimension and each dimension hase 3 elements\n",
    "l = arr.shape[0]\n",
    "print(l)\n",
    "print(arrA[1])"
   ]
  },
  {
   "cell_type": "code",
   "execution_count": 4,
   "metadata": {},
   "outputs": [
    {
     "name": "stdout",
     "output_type": "stream",
     "text": [
      "[[1 2]\n",
      " [1 2]\n",
      " [1 2]]\n",
      "(3, 2)\n"
     ]
    }
   ],
   "source": [
    "# Create a 3x2 Matrix\n",
    "arr3x2 = np.array([[1,2],\n",
    "                   [1,2],\n",
    "                   [1,2]]) \n",
    "print(arr3x2)\n",
    "print(arr3x2.shape) "
   ]
  },
  {
   "cell_type": "markdown",
   "metadata": {},
   "source": [
    "The `plt.scatter()` function in Matplotlib is used to create scatter plots, which are useful for visualizing the relationship between two variables. Below is an explanation of all the parameters used in your example (`plt.scatter(x_train, y_train, marker='x', c='r')`) and other commonly used parameters in the `scatter` function.\n",
    "\n",
    "---\n",
    "\n",
    "### **Parameters in Your Example**\n",
    "\n",
    "1. **`x_train`**:\n",
    "\n",
    "   - This represents the x-coordinates of the data points to be plotted.\n",
    "   - It should be a 1D array-like object (e.g., a list, NumPy array, or Pandas Series) containing the values for the horizontal axis.\n",
    "\n",
    "2. **`y_train`**:\n",
    "\n",
    "   - This represents the y-coordinates of the data points to be plotted.\n",
    "   - Like `x_train`, it should also be a 1D array-like object containing the values for the vertical axis.\n",
    "\n",
    "3. **`marker='x'`**:\n",
    "\n",
    "   - Specifies the shape of the markers used to represent the data points.\n",
    "   - In this case, `'x'` means that each data point will be represented by a cross (`×`).\n",
    "   - Other common marker options include:\n",
    "     - `'o'`: Circle\n",
    "     - `'s'`: Square\n",
    "     - `'D'`: Diamond\n",
    "     - `'^'`: Triangle pointing upwards\n",
    "     - `'+'`: Plus sign\n",
    "\n",
    "4. **`c='r'`**:\n",
    "   - Specifies the color of the markers.\n",
    "   - In this case, `'r'` stands for red.\n",
    "   - You can use other color abbreviations like `'b'` (blue), `'g'` (green), `'k'` (black), etc.\n",
    "   - Alternatively, you can specify colors using:\n",
    "     - Hexadecimal color codes (e.g., `'#FF5733'`)\n",
    "     - RGB tuples (e.g., `(1, 0, 0)` for red)\n",
    "     - Named colors (e.g., `'red'`, `'blue'`)\n",
    "\n",
    "---\n",
    "\n",
    "### **Other Common Parameters in `plt.scatter()`**\n",
    "\n",
    "Here are additional parameters that you can use to customize the scatter plot further:\n",
    "\n",
    "1. **`s`**:\n",
    "\n",
    "   - Specifies the size of the markers.\n",
    "   - It can be a scalar value (e.g., `50`) to set a uniform size for all markers, or an array-like object to set different sizes for each marker.\n",
    "   - Example: `s=100` makes the markers larger.\n",
    "\n",
    "2. **`alpha`**:\n",
    "\n",
    "   - Controls the transparency of the markers.\n",
    "   - Takes a value between `0` (completely transparent) and `1` (completely opaque).\n",
    "   - Example: `alpha=0.5` makes the markers semi-transparent.\n",
    "\n",
    "3. **`edgecolor`**:\n",
    "\n",
    "   - Specifies the color of the edges of the markers.\n",
    "   - Useful when the markers have a border around them.\n",
    "   - Example: `edgecolor='black'` adds a black border to the markers.\n",
    "\n",
    "4. **`linewidths`**:\n",
    "\n",
    "   - Specifies the width of the marker edges.\n",
    "   - Example: `linewidths=2` makes the marker borders thicker.\n",
    "\n",
    "5. **`label`**:\n",
    "\n",
    "   - Assigns a label to the scatter plot, which can be used in a legend.\n",
    "   - Example: `label='Training Data'` allows you to identify the data in the legend.\n",
    "\n",
    "6. **`cmap`**:\n",
    "\n",
    "   - Specifies a colormap for the markers when the `c` parameter is an array of values (e.g., for color-coding based on a third variable).\n",
    "   - Example: `cmap='viridis'` applies the \"viridis\" colormap.\n",
    "\n",
    "7. **`vmin` and `vmax`**:\n",
    "\n",
    "   - Used in conjunction with `cmap` to normalize the color mapping.\n",
    "   - `vmin` sets the minimum value for the colormap, and `vmax` sets the maximum value.\n",
    "\n",
    "8. **`norm`**:\n",
    "\n",
    "   - Allows you to specify a normalization method for the color mapping (e.g., logarithmic scaling).\n",
    "\n",
    "9. **`zorder`**:\n",
    "   - Controls the drawing order of the markers.\n",
    "   - Higher values bring the markers to the front.\n",
    "\n",
    "---\n",
    "\n",
    "### **Complete Example**\n",
    "\n",
    "Here’s an example that uses several of the parameters mentioned above:\n",
    "\n",
    "```python\n",
    "import matplotlib.pyplot as plt\n",
    "import numpy as np\n",
    "\n",
    "# Generate some random data\n",
    "x_train = np.random.rand(50)\n",
    "y_train = np.random.rand(50)\n",
    "sizes = np.random.rand(50) * 100  # Random marker sizes\n",
    "colors = np.random.rand(50)       # Random colors\n",
    "\n",
    "# Create a scatter plot\n",
    "plt.scatter(\n",
    "    x_train,\n",
    "    y_train,\n",
    "    s=sizes,          # Marker sizes\n",
    "    c=colors,         # Marker colors\n",
    "    marker='o',       # Circle markers\n",
    "    cmap='viridis',   # Colormap\n",
    "    alpha=0.7,        # Transparency\n",
    "    edgecolor='black',# Black border around markers\n",
    "    linewidths=1.5,   # Border thickness\n",
    "    label='Data Points' # Label for legend\n",
    ")\n",
    "\n",
    "# Add labels, title, and legend\n",
    "plt.xlabel('X-axis')\n",
    "plt.ylabel('Y-axis')\n",
    "plt.title('Scatter Plot Example')\n",
    "plt.legend()\n",
    "plt.colorbar(label='Color Intensity')  # Add a colorbar\n",
    "plt.show()\n",
    "```\n",
    "\n",
    "---\n",
    "\n",
    "### **Summary of Key Parameters**\n",
    "\n",
    "| Parameter    | Description                                                          |\n",
    "| ------------ | -------------------------------------------------------------------- |\n",
    "| `x`          | X-coordinates of the data points.                                    |\n",
    "| `y`          | Y-coordinates of the data points.                                    |\n",
    "| `s`          | Size of the markers (scalar or array-like).                          |\n",
    "| `c`          | Color of the markers (single color or array-like for color mapping). |\n",
    "| `marker`     | Shape of the markers (e.g., `'x'`, `'o'`, `'s'`).                    |\n",
    "| `alpha`      | Transparency of the markers (0 to 1).                                |\n",
    "| `edgecolor`  | Color of the marker edges.                                           |\n",
    "| `linewidths` | Width of the marker edges.                                           |\n",
    "| `cmap`       | Colormap for color mapping (used with `c` as an array).              |\n",
    "| `label`      | Label for the scatter plot (used in legends).                        |\n",
    "\n",
    "This flexibility allows you to create highly customized and informative scatter plots!\n"
   ]
  },
  {
   "cell_type": "code",
   "execution_count": 2,
   "metadata": {},
   "outputs": [
    {
     "data": {
      "image/png": "[encoded data removed]",
      "text/plain": [
       "<Figure size 640x480 with 1 Axes>"
      ]
     },
     "metadata": {},
     "output_type": "display_data"
    }
   ],
   "source": [
    "import numpy as np\n",
    "import matplotlib.pyplot as plt\n",
    "plt.style.use('ggplot')\n",
    "\n",
    "x_train = np.array([2, 3, 4])\n",
    "y_train = np.array([2.5, 4, 6.5])\n",
    "\n",
    "plt.plot(x_train, y_train, c = 'k', label = 'Line of the graph')\n",
    "plt.scatter(x_train, y_train, marker = 'o', c = 'r')\n",
    "plt.ylabel('Y-axis')\n",
    "plt.xlabel('X-axis')\n",
    "plt.legend()\n",
    "plt.show()"
   ]
  },
  {
   "cell_type": "markdown",
   "metadata": {},
   "source": [
    "### **LEARNED FROM LAB03:**\n"
   ]
  }
 ],
 "metadata": {
  "kernelspec": {
   "display_name": "base",
   "language": "python",
   "name": "python3"
  },
  "language_info": {
   "codemirror_mode": {
    "name": "ipython",
    "version": 3
   },
   "file_extension": ".py",
   "mimetype": "text/x-python",
   "name": "python",
   "nbconvert_exporter": "python",
   "pygments_lexer": "ipython3",
   "version": "3.12.7"
  }
 },
 "nbformat": 4,
 "nbformat_minor": 2
}
