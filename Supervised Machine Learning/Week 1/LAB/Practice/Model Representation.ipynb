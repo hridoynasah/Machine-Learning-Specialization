{
 "cells": [
  {
   "cell_type": "code",
   "execution_count": 1,
   "metadata": {},
   "outputs": [],
   "source": [
    "import numpy as np\n",
    "import matplotlib.pyplot as plt"
   ]
  },
  {
   "cell_type": "code",
   "execution_count": 3,
   "metadata": {},
   "outputs": [],
   "source": [
    "x_train = np.array([1.0, 2.0])\n",
    "y_train = np.array([300.0, 500.0])"
   ]
  },
  {
   "cell_type": "code",
   "execution_count": 7,
   "metadata": {},
   "outputs": [
    {
     "name": "stdout",
     "output_type": "stream",
     "text": [
      "M : 2\n"
     ]
    }
   ],
   "source": [
    "m = x_train.shape[0]\n",
    "print(f\"M : {m}\")"
   ]
  },
  {
   "cell_type": "markdown",
   "metadata": {},
   "source": [
    "- Cost Function Implementation\n"
   ]
  },
  {
   "cell_type": "code",
   "execution_count": null,
   "metadata": {},
   "outputs": [
    {
     "name": "stdout",
     "output_type": "stream",
     "text": [
      "Cost j(w,b): 0.208333\n"
     ]
    }
   ],
   "source": [
    "# J(w,b) = 1/2m(summation(i = 1 to m))((wx_i + b) - y_i)^2\n",
    "# def cost_function(w,b,x_train,y_train):\n",
    "#     total_error = 0\n",
    "#     m = len(x_train)\n",
    "#     for i in range(m):\n",
    "#         total_error += ((w*x_train[i]+b)-y_train[i])**2\n",
    "#     j = (1/(2*m))*total_error\n",
    "#     return j\n",
    "\n",
    "# x_train = np.array([1,2,3])\n",
    "# y_train = np.array([2,4,6])\n",
    "# w = 1.5\n",
    "# b = 0.5\n",
    "# j = cost_function(w,b,x_train,y_train)\n",
    "# print(f\"Cost j(w,b): {j:4f}\")"
   ]
  },
  {
   "cell_type": "markdown",
   "metadata": {},
   "source": [
    "- Cost Function Implementation(Using Vectorization)\n"
   ]
  },
  {
   "cell_type": "code",
   "execution_count": 23,
   "metadata": {},
   "outputs": [
    {
     "name": "stdout",
     "output_type": "stream",
     "text": [
      "Cost j(w,b): 0.2083\n"
     ]
    }
   ],
   "source": [
    "# cost function without looping\n",
    "def cost_function(w,b,x_train,y_train):\n",
    "    total_error = 0\n",
    "    m = len(x_train)\n",
    "    total_error = (((w * x_train) + b) - y_train)**2\n",
    "    total_error_sum = sum(total_error)\n",
    "    j = (1/(2*m))*total_error_sum\n",
    "    \n",
    "    return j\n",
    "\n",
    "x_train = np.array([1,2,3])\n",
    "y_train = np.array([2,4,6])\n",
    "w = 1.5\n",
    "b = 0.5\n",
    "j = cost_function(w,b,x_train,y_train)\n",
    "print(f\"Cost j(w,b): {j:.4f}\")"
   ]
  },
  {
   "cell_type": "markdown",
   "metadata": {},
   "source": [
    "- **Calculate w,b using Gradient descent algorithm**\n"
   ]
  },
  {
   "cell_type": "code",
   "execution_count": 31,
   "metadata": {},
   "outputs": [
    {
     "name": "stdout",
     "output_type": "stream",
     "text": [
      "Iteration 0: w = 0.1320, b = 0.0400, Cost = 8.6000\n",
      "Iteration 100: w = 1.0410, b = 0.6078, Cost = 0.4715\n",
      "Iteration 200: w = 0.9724, b = 0.8556, Cost = 0.4050\n",
      "Iteration 300: w = 0.9144, b = 1.0649, Cost = 0.3577\n",
      "Iteration 400: w = 0.8655, b = 1.2416, Cost = 0.3239\n",
      "Iteration 500: w = 0.8241, b = 1.3908, Cost = 0.2998\n",
      "Iteration 600: w = 0.7893, b = 1.5167, Cost = 0.2826\n",
      "Iteration 700: w = 0.7598, b = 1.6231, Cost = 0.2704\n",
      "Iteration 800: w = 0.7349, b = 1.7129, Cost = 0.2617\n",
      "Iteration 900: w = 0.7139, b = 1.7887, Cost = 0.2554\n",
      "\n",
      "Final w: 0.6964\n",
      "Final b: 1.8521\n",
      "Final Cost: 0.2511\n",
      "5.33390287740295\n"
     ]
    }
   ],
   "source": [
    "# Gradient Descent Function\n",
    "def gradient_descent(X, y, learning_rate=0.01, iterations=1000):\n",
    "    # Number of data points\n",
    "    m = len(y)\n",
    "    \n",
    "    # Starting values for w and b\n",
    "    w = 0.0\n",
    "    b = 0.0\n",
    "    \n",
    "    # Optional: Track cost to see progress\n",
    "    cost_history = []\n",
    "    \n",
    "    # Repeat for the number of iterations\n",
    "    for iteration in range(iterations):\n",
    "        # Step 1: Compute predictions (y_pred = w * X + b)\n",
    "        y_pred = w * X + b\n",
    "        \n",
    "        # Step 2: Compute gradients\n",
    "        # Gradient for w: (1/m) * sum((predictions - actual) * X)\n",
    "        dw = (1/m) * np.sum((y_pred - y) * X)\n",
    "        # Gradient for b: (1/m) * sum(predictions - actual)\n",
    "        db = (1/m) * np.sum(y_pred - y)\n",
    "        \n",
    "        # Step 3: Update w and b\n",
    "        w = w - learning_rate * dw\n",
    "        b = b - learning_rate * db\n",
    "        \n",
    "        # Optional: Calculate and store cost\n",
    "        cost = (1/(2*m)) * np.sum((y_pred - y) ** 2)\n",
    "        cost_history.append(cost)\n",
    "        \n",
    "        # Print progress every 100 iterations (optional)\n",
    "        if iteration % 100 == 0:\n",
    "            print(f\"Iteration {iteration}: w = {w:.4f}, b = {b:.4f}, Cost = {cost:.4f}\")\n",
    "    \n",
    "    # Return final w, b, and cost history\n",
    "    return w, b, cost_history\n",
    "\n",
    "# Example Data\n",
    "X = np.array([1, 2, 3, 4, 5])  # Input values\n",
    "y = np.array([2, 4, 5, 4, 5])  # Actual values\n",
    "\n",
    "# Run Gradient Descent\n",
    "learning_rate = 0.01\n",
    "iterations = 1000\n",
    "w, b, cost_history = gradient_descent(X, y, learning_rate, iterations)\n",
    "\n",
    "# Print Final Results\n",
    "print(f\"\\nFinal w: {w:.4f}\")\n",
    "print(f\"Final b: {b:.4f}\")\n",
    "print(f\"Final Cost: {cost_history[-1]:.4f}\")\n",
    "a = 5\n",
    "house_price = w * a + b\n",
    "print(house_price)"
   ]
  }
 ],
 "metadata": {
  "kernelspec": {
   "display_name": "base",
   "language": "python",
   "name": "python3"
  },
  "language_info": {
   "codemirror_mode": {
    "name": "ipython",
    "version": 3
   },
   "file_extension": ".py",
   "mimetype": "text/x-python",
   "name": "python",
   "nbconvert_exporter": "python",
   "pygments_lexer": "ipython3",
   "version": "3.12.7"
  }
 },
 "nbformat": 4,
 "nbformat_minor": 2
}
