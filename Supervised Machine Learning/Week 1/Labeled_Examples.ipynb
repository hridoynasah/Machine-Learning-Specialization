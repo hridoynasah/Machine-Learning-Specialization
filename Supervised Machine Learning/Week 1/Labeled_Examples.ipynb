{
 "cells": [
  {
   "cell_type": "markdown",
   "metadata": {},
   "source": [
    "### What Are Labeled Examples?\n",
    "\n",
    "**Labeled examples** are data points in which both the **input (X)** and the corresponding **output (Y)** are provided. They are used in **supervised learning** to teach machine learning algorithms how to map inputs to outputs.\n",
    "\n",
    "### Components of a Labeled Example\n",
    "\n",
    "1. **Input (X)**: Features or attributes used as input to the model.\n",
    "   - Example: Tumor size, patient age, house size.\n",
    "2. **Output (Y)**: The correct or desired result for the input.\n",
    "   - Example: Whether a tumor is benign or malignant, or the price of a house.\n",
    "\n",
    "### Why Are Labeled Examples Important?\n",
    "\n",
    "- They provide the \"ground truth\" that the algorithm learns from.\n",
    "- The algorithm uses these examples to identify patterns and relationships between inputs and outputs.\n",
    "- After training on labeled examples, the algorithm can predict outputs for new, unseen inputs.\n",
    "\n",
    "---\n",
    "\n",
    "### Example: Tumor Classification\n",
    "\n",
    "- **Labeled Example**:\n",
    "\n",
    "  - Input (X): Tumor size = 5 cm.\n",
    "  - Output (Y): Malignant (labeled as 1).\n",
    "  - The pair is written as: `(5 cm, 1)`.\n",
    "\n",
    "- **Dataset with Multiple Labeled Examples**:\n",
    "  ```\n",
    "  Tumor Size (X)   Diagnosis (Y)\n",
    "      3 cm             0 (Benign)\n",
    "      7 cm             1 (Malignant)\n",
    "      4 cm             0 (Benign)\n",
    "  ```\n",
    "\n",
    "---\n",
    "\n",
    "### Difference Between Labeled and Unlabeled Data\n",
    "\n",
    "- **Labeled Data**: Includes both input and the correct output.\n",
    "  - Example: Tumor size = 5 cm → Malignant (1).\n",
    "- **Unlabeled Data**: Includes only the input without the output.\n",
    "  - Example: Tumor size = 5 cm → ? (No diagnosis provided).\n",
    "\n",
    "**Labeled examples** are crucial for supervised learning, as they guide the algorithm to learn correct patterns and make accurate predictions.\n"
   ]
  }
 ],
 "metadata": {
  "language_info": {
   "name": "python"
  }
 },
 "nbformat": 4,
 "nbformat_minor": 2
}
