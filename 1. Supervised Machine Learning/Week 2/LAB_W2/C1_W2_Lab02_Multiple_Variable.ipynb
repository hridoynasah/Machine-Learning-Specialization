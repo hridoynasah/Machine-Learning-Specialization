{
 "cells": [
  {
   "cell_type": "markdown",
   "id": "371c4b63",
   "metadata": {},
   "source": [
    "<center>\n",
    "\n",
    "#### **Multiple Variable Linear Regression** \n",
    "---\n",
    "\n",
    "</center>"
   ]
  },
  {
   "cell_type": "code",
   "execution_count": 22,
   "id": "f6c04f75",
   "metadata": {},
   "outputs": [],
   "source": [
    "# Importing necessary modules\n",
    "import copy, math\n",
    "import numpy as np\n",
    "import matplotlib.pyplot as plt \n",
    "# plt.style.use('./deeplearning.mplstyle')\n",
    "np.set_printoptions(precision = 2)"
   ]
  },
  {
   "cell_type": "code",
   "execution_count": 33,
   "id": "5b626bcf",
   "metadata": {},
   "outputs": [],
   "source": [
    "# House price with multiple features \n",
    "# Here X_train is containing features of the house\n",
    "# and y_train is house price \n",
    "X_train = np.array([[2104, 5, 1, 45], [1416, 3, 2, 40], [852, 2, 1, 35]])\n",
    "y_train = np.array([460, 232, 178])"
   ]
  },
  {
   "cell_type": "code",
   "execution_count": 34,
   "id": "14e22bee",
   "metadata": {},
   "outputs": [
    {
     "name": "stdout",
     "output_type": "stream",
     "text": [
      "w_init shape: (4,), b_init type: <class 'float'>\n"
     ]
    }
   ],
   "source": [
    "b_init = 785.1811367994083\n",
    "w_init = np.array([ 0.39133535, 18.75376741, -53.36032453, -26.42131618])\n",
    "print(f\"w_init shape: {w_init.shape}, b_init type: {type(b_init)}\")"
   ]
  },
  {
   "cell_type": "code",
   "execution_count": 36,
   "id": "48f5e230",
   "metadata": {},
   "outputs": [
    {
     "name": "stdout",
     "output_type": "stream",
     "text": [
      "Price of the first house: 178.0\n"
     ]
    }
   ],
   "source": [
    "def predict_single_loop(x, w, b):\n",
    "    n = x.shape[0]\n",
    "    p = 0\n",
    "    for i in range(n):\n",
    "        p += x[i] * w[i]\n",
    "    p = p + b\n",
    "\n",
    "    return p\n",
    "\n",
    "x = X_train[2,:]\n",
    "\n",
    "price = predict_single_loop(x, w_init, b_init)\n",
    "print(f\"Price of the first house: {np.round(price)}\")"
   ]
  },
  {
   "cell_type": "code",
   "execution_count": 37,
   "id": "0f508ff3",
   "metadata": {},
   "outputs": [
    {
     "name": "stdout",
     "output_type": "stream",
     "text": [
      "Price of the first house: 460.00\n"
     ]
    }
   ],
   "source": [
    "def predict(x, w, b):\n",
    "    \n",
    "    p = np.dot(x, w)\n",
    "    p = p + b\n",
    "\n",
    "    return p\n",
    "\n",
    "x = X_train[0,:]\n",
    "\n",
    "price = predict(x, w_init, b_init)\n",
    "print(f\"Price of the first house: {price:.2f}\")"
   ]
  },
  {
   "cell_type": "code",
   "execution_count": 38,
   "id": "9c3d40ff",
   "metadata": {},
   "outputs": [
    {
     "name": "stdout",
     "output_type": "stream",
     "text": [
      "1th house price 460.00\n",
      "2th house price 232.00\n",
      "3th house price 178.00\n"
     ]
    }
   ],
   "source": [
    "# Model implementation \n",
    "def model_0(X, w, b):\n",
    "    # f_w = X @ w # (w @ X) this will give an error\n",
    "    f_w_b = (X @ w) + b\n",
    "    for i in range(len(f_w_b)):\n",
    "        print(f\"{i+1}th house price {f_w_b[i]:.2f}\")\n",
    "\n",
    "model_0(X_train, w_init, b_init)"
   ]
  },
  {
   "cell_type": "markdown",
   "id": "c11dc0b3",
   "metadata": {},
   "source": [
    "**Compute cost with multiple variable:**  \n",
    "\n",
    "The equation for the cost function with multiple variables $J(\\mathbf{w},b)$ is:\n",
    "$$J(\\mathbf{w},b) = \\frac{1}{2m} \\sum\\limits_{i = 0}^{m-1} (f_{\\mathbf{w},b}(\\mathbf{x}^{(i)}) - y^{(i)})^2 \\tag{3}$$ \n",
    "where:\n",
    "$$ f_{\\mathbf{w},b}(\\mathbf{x}^{(i)}) = \\mathbf{w} \\cdot \\mathbf{x}^{(i)} + b  \\tag{4} $$ "
   ]
  },
  {
   "cell_type": "code",
   "execution_count": 41,
   "id": "a0a6614d",
   "metadata": {},
   "outputs": [
    {
     "name": "stdout",
     "output_type": "stream",
     "text": [
      "Cost at optimal w : 1.5578904045996674e-12\n"
     ]
    }
   ],
   "source": [
    "# Using loop \n",
    "def compute_cost_0(X, y, w, b):\n",
    "    cost = 0.0\n",
    "    m = X.shape[0]\n",
    "    f_w_b = (X @ w) + b\n",
    "    for i in range(m):\n",
    "        cost += (f_w_b[i] - y[i])**2\n",
    "    cost = cost / (2 * m)\n",
    "\n",
    "    return cost\n",
    "\n",
    "\n",
    "cost = compute_cost_0(X_train, y_train, w_init, b_init)\n",
    "print(f'Cost at optimal w : {cost}')"
   ]
  },
  {
   "cell_type": "code",
   "execution_count": null,
   "id": "0cf256b3",
   "metadata": {},
   "outputs": [],
   "source": [
    "# their approch \n",
    "def compute_cost_1(X, y, w, b):\n",
    "    m = X.shape[0]\n",
    "    cost = 0.0\n",
    "    for i in range(m):\n",
    "        f_wb_i = np.dot(w, X[i]) + b # f_wb_i holo individual house price\n",
    "        # print(f_wb_i)\n",
    "        cost = cost + (f_wb_i - y[i]) ** 2\n",
    "    \n",
    "    cost = cost / (2 * m)\n",
    "    return cost"
   ]
  },
  {
   "cell_type": "code",
   "execution_count": 49,
   "id": "8c178e76",
   "metadata": {},
   "outputs": [
    {
     "name": "stdout",
     "output_type": "stream",
     "text": [
      "459.9999976194083\n",
      "231.9999983694081\n",
      "177.99999898940814\n",
      "Cost at optimal w : 1.5578904428966628e-12\n"
     ]
    }
   ],
   "source": [
    "cost = compute_cost_1(X_train, y_train, w_init, b_init)\n",
    "print(f'Cost at optimal w : {cost}')"
   ]
  },
  {
   "cell_type": "code",
   "execution_count": null,
   "id": "7a397f53",
   "metadata": {},
   "outputs": [
    {
     "name": "stdout",
     "output_type": "stream",
     "text": [
      "The shape of X_train: (3, 4)\n",
      "The number of examples m: 3\n",
      "The number of features n: 4\n"
     ]
    }
   ],
   "source": [
    "m, n = X_train.shape # Order of matrix 3x4 \n",
    "print(f\"The shape of X_train: {X_train.shape}\")\n",
    "print(f\"The number of examples m: {m}\")\n",
    "print(f\"The number of features n: {n}\")"
   ]
  },
  {
   "cell_type": "code",
   "execution_count": null,
   "id": "48a327ff",
   "metadata": {},
   "outputs": [],
   "source": [
    "def compute_gradient(X, y, w, b):\n",
    "    m, n = X.shape()\n",
    "    "
   ]
  }
 ],
 "metadata": {
  "kernelspec": {
   "display_name": "base",
   "language": "python",
   "name": "python3"
  },
  "language_info": {
   "codemirror_mode": {
    "name": "ipython",
    "version": 3
   },
   "file_extension": ".py",
   "mimetype": "text/x-python",
   "name": "python",
   "nbconvert_exporter": "python",
   "pygments_lexer": "ipython3",
   "version": "3.12.7"
  }
 },
 "nbformat": 4,
 "nbformat_minor": 5
}
