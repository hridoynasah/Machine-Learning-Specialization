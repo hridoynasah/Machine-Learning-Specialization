{
 "cells": [
  {
   "cell_type": "code",
   "execution_count": 409,
   "id": "177e5c56",
   "metadata": {},
   "outputs": [],
   "source": [
    "import math, copy\n",
    "import numpy as np\n",
    "import matplotlib.pyplot as plt"
   ]
  },
  {
   "cell_type": "code",
   "execution_count": 410,
   "id": "06128182",
   "metadata": {},
   "outputs": [],
   "source": [
    "X_train = np.array([[2104, 5, 1, 45], \n",
    "                    [1416, 3, 2, 40], \n",
    "                    [852, 2, 1, 35]])\n",
    "y_train = np.array([460, 232, 178])"
   ]
  },
  {
   "cell_type": "code",
   "execution_count": 411,
   "id": "8ed20a13",
   "metadata": {},
   "outputs": [
    {
     "name": "stdout",
     "output_type": "stream",
     "text": [
      "Shape of X_train: (3, 4)\n",
      "Shape of y_train: (3,)\n",
      "X_train[0]: 3\n",
      "X_train[1]: 4\n"
     ]
    }
   ],
   "source": [
    "print(f\"Shape of X_train: {X_train.shape}\")\n",
    "print(f\"Shape of y_train: {y_train.shape}\")\n",
    "print(f\"X_train[0]: {X_train.shape[0]}\")\n",
    "print(f\"X_train[1]: {X_train.shape[1]}\")"
   ]
  },
  {
   "cell_type": "code",
   "execution_count": 412,
   "id": "f55784c5",
   "metadata": {},
   "outputs": [
    {
     "name": "stdout",
     "output_type": "stream",
     "text": [
      "w_init shape: (4,), b_init type: <class 'float'>\n"
     ]
    }
   ],
   "source": [
    "b_init = 785.1811367994083\n",
    "w_init = np.array([ 0.39133535, 18.75376741, -53.36032453, -26.42131618])\n",
    "print(f\"w_init shape: {w_init.shape}, b_init type: {type(b_init)}\")"
   ]
  },
  {
   "cell_type": "code",
   "execution_count": 413,
   "id": "c7d931a8",
   "metadata": {},
   "outputs": [
    {
     "name": "stdout",
     "output_type": "stream",
     "text": [
      "[10, 20, 30, 10, 20, 30]\n"
     ]
    }
   ],
   "source": [
    "x = [10, 20, 30]\n",
    "y = [10, 20, 30]\n",
    "ans = x + y \n",
    "print(ans)"
   ]
  },
  {
   "cell_type": "code",
   "execution_count": 414,
   "id": "5ec650a1",
   "metadata": {},
   "outputs": [
    {
     "name": "stdout",
     "output_type": "stream",
     "text": [
      "[852   2   1  35]\n"
     ]
    }
   ],
   "source": [
    "print(X_train[2])"
   ]
  },
  {
   "cell_type": "code",
   "execution_count": 415,
   "id": "1c5c1b35",
   "metadata": {},
   "outputs": [],
   "source": [
    "def model_0(x, y, w, b):\n",
    "    n = x.shape[0]\n",
    "    f_wb = np.zeros(0)\n",
    "    for i in range(n):\n",
    "        f_wb = np.append(f_wb, w @ x[i] + b)\n",
    "    return f_wb "
   ]
  },
  {
   "cell_type": "code",
   "execution_count": 416,
   "id": "d808ac78",
   "metadata": {},
   "outputs": [
    {
     "data": {
      "text/plain": [
       "array([459.99999762, 231.99999837, 177.99999899])"
      ]
     },
     "execution_count": 416,
     "metadata": {},
     "output_type": "execute_result"
    }
   ],
   "source": [
    "f_wb_i = model_0(X_train, y_train, w_init, b_init)\n",
    "f_wb_i"
   ]
  },
  {
   "cell_type": "code",
   "execution_count": 417,
   "id": "09ffcf95",
   "metadata": {},
   "outputs": [],
   "source": [
    "def model_1(x, w, b):\n",
    "    # number of traning examples \n",
    "    m = x.shape[0]\n",
    "    f_wb = 0\n",
    "    for i in range(m):\n",
    "        f_wb += (x[i] * w[i])\n",
    "\n",
    "    f_wb = f_wb + b\n",
    "    return f_wb "
   ]
  },
  {
   "cell_type": "code",
   "execution_count": 418,
   "id": "eb523278",
   "metadata": {},
   "outputs": [
    {
     "name": "stdout",
     "output_type": "stream",
     "text": [
      "training_example_1.shape: (4,)\n",
      "training_example_1's value: [2104    5    1   45]\n",
      "f_wb shape (), prediction: 459.9999976194083, actual value: 460\n",
      "\n"
     ]
    }
   ],
   "source": [
    "# predict from the 1st traning example\n",
    "training_example_1 = X_train[0,:]\n",
    "print(f\"training_example_1.shape: {training_example_1.shape}\")\n",
    "print(f\"training_example_1's value: {training_example_1}\")\n",
    "\n",
    "# make a prediction with the first training example \n",
    "f_wb = model_1(training_example_1, w_init, b_init)\n",
    "print(f\"f_wb shape {f_wb.shape}, prediction: {f_wb}, actual value: {y_train[0]}\")\n",
    "print(f\"\")"
   ]
  },
  {
   "cell_type": "code",
   "execution_count": 419,
   "id": "527cb5ef",
   "metadata": {},
   "outputs": [
    {
     "name": "stdout",
     "output_type": "stream",
     "text": [
      "training_example_1.shape: (4,)\n",
      "training_example_1's value: [1416    3    2   40]\n",
      "f_wb shape (), prediction: 231.9999983694081, actual value: 232\n"
     ]
    }
   ],
   "source": [
    "# predict from the 2nd traning example\n",
    "training_example_2 = X_train[1,:]\n",
    "print(f\"training_example_1.shape: {training_example_2.shape}\")\n",
    "print(f\"training_example_1's value: {training_example_2}\")\n",
    "\n",
    "# make a prediction with the first training example \n",
    "f_wb = model_1(training_example_2, w_init, b_init)\n",
    "print(f\"f_wb shape {f_wb.shape}, prediction: {f_wb}, actual value: {y_train[1]}\")"
   ]
  },
  {
   "cell_type": "code",
   "execution_count": 420,
   "id": "f870f7f8",
   "metadata": {},
   "outputs": [],
   "source": [
    "# Model_3 using dot function \n",
    "def model_2(x, w, b):\n",
    "    f_wb = x @ w\n",
    "    f_wb += b\n",
    "    return f_wb "
   ]
  },
  {
   "cell_type": "code",
   "execution_count": 421,
   "id": "2c5980e9",
   "metadata": {},
   "outputs": [
    {
     "name": "stdout",
     "output_type": "stream",
     "text": [
      "training_example_1.shape: (4,)\n",
      "training_example_1's value: [2104    5    1   45]\n",
      "f_wb shape (), prediction: 459.9999976194083, actual value: 460\n",
      "\n"
     ]
    }
   ],
   "source": [
    "# predict from the 1st traning example\n",
    "training_example_1 = X_train[0,:]\n",
    "print(f\"training_example_1.shape: {training_example_1.shape}\")\n",
    "print(f\"training_example_1's value: {training_example_1}\")\n",
    "\n",
    "# make a prediction with the first training example \n",
    "ans = model_2(training_example_1, w_init, b_init)\n",
    "print(f\"f_wb shape {ans.shape}, prediction: {ans}, actual value: {y_train[0]}\")\n",
    "print(f\"\")"
   ]
  },
  {
   "cell_type": "code",
   "execution_count": 422,
   "id": "150604a1",
   "metadata": {},
   "outputs": [
    {
     "name": "stdout",
     "output_type": "stream",
     "text": [
      "459.9999976194083\n",
      "231.9999983694081\n",
      "177.99999898940814\n",
      "[460 232 178]\n"
     ]
    }
   ],
   "source": [
    "# Manually calculating cost: \n",
    "print(X_train[0,:] @ w_init + b_init)\n",
    "print(X_train[1,:] @ w_init + b_init)\n",
    "print(X_train[2,:] @ w_init + b_init)\n",
    "print(y_train)\n"
   ]
  },
  {
   "cell_type": "code",
   "execution_count": 423,
   "id": "c03badb3",
   "metadata": {},
   "outputs": [
    {
     "name": "stdout",
     "output_type": "stream",
     "text": [
      "-2.380591695327894e-06\n",
      "-1.6305918961734278e-06\n",
      "-1.0105918590852525e-06\n"
     ]
    }
   ],
   "source": [
    "print((X_train[0,:] @ w_init + b_init) - y_train[0])\n",
    "print((X_train[1,:] @ w_init + b_init) - y_train[1])\n",
    "print((X_train[2,:] @ w_init + b_init) - y_train[2])"
   ]
  },
  {
   "cell_type": "code",
   "execution_count": 424,
   "id": "cbe5d7a9",
   "metadata": {},
   "outputs": [],
   "source": [
    "# Compute cost for multiple variable\n",
    "def compute_cost(X, y, w, b):\n",
    "    # number of training examples \n",
    "    m, _ = X.shape\n",
    "    err = 0\n",
    "    for i in range(m):\n",
    "        f_wb_i = (w @ X[i]) + b\n",
    "        err += (f_wb_i - y[i]) ** 2\n",
    "    cost = err / (2 * m)\n",
    "    return cost"
   ]
  },
  {
   "cell_type": "code",
   "execution_count": 425,
   "id": "934e6728",
   "metadata": {},
   "outputs": [
    {
     "name": "stdout",
     "output_type": "stream",
     "text": [
      "Cost at optimal w : 1.5578904428966628e-12\n"
     ]
    }
   ],
   "source": [
    "cost = compute_cost(X_train, y_train, w_init, b_init)\n",
    "print(f'Cost at optimal w : {cost}')"
   ]
  },
  {
   "cell_type": "code",
   "execution_count": 426,
   "id": "d8cee945",
   "metadata": {},
   "outputs": [],
   "source": [
    "# compute gradient for multiple variable \n",
    "def compute_gradient(X, y, w, b):\n",
    "    # number of training examples & features \n",
    "    m, n = X.shape\n",
    "    dj_dw = np.zeros((n,))\n",
    "    dj_db = 0.\n",
    "    for i in range(m):\n",
    "        err = ((w @ X[i]) + b) - y[i]\n",
    "        for j in range(n):\n",
    "            dj_dw[j] = dj_dw[j] + err * X[i, j]\n",
    "        dj_db += err\n",
    "    dj_dw = dj_dw / m\n",
    "    dj_db = dj_db / m\n",
    "    return dj_dw, dj_db"
   ]
  },
  {
   "cell_type": "code",
   "execution_count": 427,
   "id": "3317b4c2",
   "metadata": {},
   "outputs": [
    {
     "name": "stdout",
     "output_type": "stream",
     "text": [
      "dj_db at initial w,b: -1.6739251501955248e-06\n",
      "dj_dw at initial w,b: \n",
      " [-2.72623577e-03 -6.27197263e-06 -2.21745578e-06 -6.92403391e-05]\n"
     ]
    }
   ],
   "source": [
    "#Compute and display gradient \n",
    "dj_dw, dj_db = compute_gradient(X_train, y_train, w_init, b_init)\n",
    "print(f'dj_db at initial w,b: {dj_db}')\n",
    "print(f'dj_dw at initial w,b: \\n {dj_dw}')"
   ]
  },
  {
   "cell_type": "code",
   "execution_count": 428,
   "id": "a871d1c0",
   "metadata": {},
   "outputs": [],
   "source": [
    "# Compute gradient descent for multiple variables\n",
    "import copy\n",
    "def gradient_descent(X, y, w_in, b_in,\n",
    "                    cost_function, gradient_function,\n",
    "                    alpha, iterations):\n",
    "    J_history = []\n",
    "    w = copy.deepcopy(w_in)\n",
    "    b = b_in\n",
    "    for i in range(iterations):\n",
    "        dj_dw, dj_db = gradient_function(X, y, w, b)\n",
    "        w = w - alpha * dj_dw\n",
    "        b = b - alpha * dj_db\n",
    "        if i < 100000:\n",
    "            J_history.append(cost_function(X, y, w, b))\n",
    "        if i % 100 == 0:\n",
    "            print(f\"Iterations of {i:4d}: cost is {J_history[-1]}\")\n",
    "    return w, b, J_history"
   ]
  },
  {
   "cell_type": "code",
   "execution_count": 429,
   "id": "c67408e7",
   "metadata": {},
   "outputs": [
    {
     "name": "stdout",
     "output_type": "stream",
     "text": [
      "Iterations of    0: cost is 2529.4629522316304\n",
      "Iterations of  100: cost is 695.990315835203\n",
      "Iterations of  200: cost is 694.9206979323061\n",
      "Iterations of  300: cost is 693.8604297851192\n",
      "Iterations of  400: cost is 692.8094286135915\n",
      "Iterations of  500: cost is 691.7676123706057\n",
      "Iterations of  600: cost is 690.7348997354997\n",
      "Iterations of  700: cost is 689.711210107616\n",
      "Iterations of  800: cost is 688.6964635999458\n",
      "Iterations of  900: cost is 687.6905810327947\n",
      "b,w found by gradient descent: -0.00,[ 0.20396569  0.00374919 -0.0112487  -0.0658614 ] \n",
      "prediction: 426.19, target value: 460\n",
      "prediction: 286.17, target value: 232\n",
      "prediction: 171.47, target value: 178\n"
     ]
    }
   ],
   "source": [
    "# initialize parameters\n",
    "initial_w = np.zeros_like(w_init)\n",
    "initial_b = 0.\n",
    "# some gradient descent settings\n",
    "iterations = 1000\n",
    "alpha = 5.0e-7\n",
    "# run gradient descent \n",
    "w_final, b_final, J_hist = gradient_descent(X_train, y_train, initial_w, initial_b,\n",
    "                                                    compute_cost, compute_gradient, \n",
    "                                                    alpha, iterations)\n",
    "print(f\"b,w found by gradient descent: {b_final:0.2f},{w_final} \")\n",
    "m,_ = X_train.shape\n",
    "for i in range(m):\n",
    "    print(f\"prediction: {np.dot(X_train[i], w_final) + b_final:0.2f}, target value: {y_train[i]}\")"
   ]
  }
 ],
 "metadata": {
  "kernelspec": {
   "display_name": "base",
   "language": "python",
   "name": "python3"
  },
  "language_info": {
   "codemirror_mode": {
    "name": "ipython",
    "version": 3
   },
   "file_extension": ".py",
   "mimetype": "text/x-python",
   "name": "python",
   "nbconvert_exporter": "python",
   "pygments_lexer": "ipython3",
   "version": "3.12.7"
  }
 },
 "nbformat": 4,
 "nbformat_minor": 5
}
