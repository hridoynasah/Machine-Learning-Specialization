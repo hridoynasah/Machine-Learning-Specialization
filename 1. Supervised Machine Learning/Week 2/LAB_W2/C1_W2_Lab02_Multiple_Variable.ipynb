{
 "cells": [
  {
   "cell_type": "code",
   "execution_count": 139,
   "id": "177e5c56",
   "metadata": {},
   "outputs": [],
   "source": [
    "import math, copy\n",
    "import numpy as np\n",
    "import matplotlib.pyplot as plt"
   ]
  },
  {
   "cell_type": "code",
   "execution_count": 140,
   "id": "06128182",
   "metadata": {},
   "outputs": [],
   "source": [
    "X_train = np.array([[2104, 5, 1, 45], \n",
    "                    [1416, 3, 2, 40], \n",
    "                    [852, 2, 1, 35]])\n",
    "y_train = np.array([460, 232, 178])"
   ]
  },
  {
   "cell_type": "code",
   "execution_count": 141,
   "id": "8ed20a13",
   "metadata": {},
   "outputs": [
    {
     "name": "stdout",
     "output_type": "stream",
     "text": [
      "Shape of X_train: (3, 4)\n",
      "Shape of y_train: (3,)\n",
      "X_train[0]: 3\n",
      "X_train[1]: 4\n"
     ]
    }
   ],
   "source": [
    "print(f\"Shape of X_train: {X_train.shape}\")\n",
    "print(f\"Shape of y_train: {y_train.shape}\")\n",
    "print(f\"X_train[0]: {X_train.shape[0]}\")\n",
    "print(f\"X_train[1]: {X_train.shape[1]}\")"
   ]
  },
  {
   "cell_type": "code",
   "execution_count": 142,
   "id": "f55784c5",
   "metadata": {},
   "outputs": [
    {
     "name": "stdout",
     "output_type": "stream",
     "text": [
      "w_init shape: (4,), b_init type: <class 'float'>\n"
     ]
    }
   ],
   "source": [
    "b_init = 785.1811367994083\n",
    "w_init = np.array([ 0.39133535, 18.75376741, -53.36032453, -26.42131618])\n",
    "print(f\"w_init shape: {w_init.shape}, b_init type: {type(b_init)}\")"
   ]
  },
  {
   "cell_type": "code",
   "execution_count": 143,
   "id": "c7d931a8",
   "metadata": {},
   "outputs": [
    {
     "name": "stdout",
     "output_type": "stream",
     "text": [
      "[10, 20, 30, 10, 20, 30]\n"
     ]
    }
   ],
   "source": [
    "x = [10, 20, 30]\n",
    "y = [10, 20, 30]\n",
    "ans = x + y \n",
    "print(ans)"
   ]
  },
  {
   "cell_type": "code",
   "execution_count": 144,
   "id": "5ec650a1",
   "metadata": {},
   "outputs": [
    {
     "name": "stdout",
     "output_type": "stream",
     "text": [
      "[852   2   1  35]\n"
     ]
    }
   ],
   "source": [
    "print(X_train[2])"
   ]
  },
  {
   "cell_type": "code",
   "execution_count": 145,
   "id": "1c5c1b35",
   "metadata": {},
   "outputs": [],
   "source": [
    "def model_0(x, y, w, b):\n",
    "    n = x.shape[0]\n",
    "    f_wb = np.zeros(0)\n",
    "    for i in range(n):\n",
    "        f_wb = np.append(f_wb, w @ x[i] + b)\n",
    "    return f_wb "
   ]
  },
  {
   "cell_type": "code",
   "execution_count": 146,
   "id": "d808ac78",
   "metadata": {},
   "outputs": [
    {
     "data": {
      "text/plain": [
       "array([459.99999762, 231.99999837, 177.99999899])"
      ]
     },
     "execution_count": 146,
     "metadata": {},
     "output_type": "execute_result"
    }
   ],
   "source": [
    "f_wb_i = model_0(X_train, y_train, w_init, b_init)\n",
    "f_wb_i"
   ]
  },
  {
   "cell_type": "code",
   "execution_count": 147,
   "id": "09ffcf95",
   "metadata": {},
   "outputs": [],
   "source": [
    "def model_1(x, w, b):\n",
    "    # number of traning examples \n",
    "    m = x.shape[0]\n",
    "    f_wb = 0\n",
    "    for i in range(m):\n",
    "        f_wb += (x[i] * w[i])\n",
    "\n",
    "    f_wb = f_wb + b\n",
    "    return f_wb "
   ]
  },
  {
   "cell_type": "code",
   "execution_count": 148,
   "id": "eb523278",
   "metadata": {},
   "outputs": [
    {
     "name": "stdout",
     "output_type": "stream",
     "text": [
      "training_example_1.shape: (4,)\n",
      "training_example_1's value: [2104    5    1   45]\n",
      "f_wb shape (), prediction: 459.9999976194083, actual value: 460\n",
      "\n"
     ]
    }
   ],
   "source": [
    "# predict from the 1st traning example\n",
    "training_example_1 = X_train[0,:]\n",
    "print(f\"training_example_1.shape: {training_example_1.shape}\")\n",
    "print(f\"training_example_1's value: {training_example_1}\")\n",
    "\n",
    "# make a prediction with the first training example \n",
    "f_wb = model_1(training_example_1, w_init, b_init)\n",
    "print(f\"f_wb shape {f_wb.shape}, prediction: {f_wb}, actual value: {y_train[0]}\")\n",
    "print(f\"\")"
   ]
  },
  {
   "cell_type": "code",
   "execution_count": 149,
   "id": "527cb5ef",
   "metadata": {},
   "outputs": [
    {
     "name": "stdout",
     "output_type": "stream",
     "text": [
      "training_example_1.shape: (4,)\n",
      "training_example_1's value: [1416    3    2   40]\n",
      "f_wb shape (), prediction: 231.9999983694081, actual value: 232\n"
     ]
    }
   ],
   "source": [
    "# predict from the 2nd traning example\n",
    "training_example_2 = X_train[1,:]\n",
    "print(f\"training_example_1.shape: {training_example_2.shape}\")\n",
    "print(f\"training_example_1's value: {training_example_2}\")\n",
    "\n",
    "# make a prediction with the first training example \n",
    "f_wb = model_1(training_example_2, w_init, b_init)\n",
    "print(f\"f_wb shape {f_wb.shape}, prediction: {f_wb}, actual value: {y_train[1]}\")"
   ]
  },
  {
   "cell_type": "code",
   "execution_count": 150,
   "id": "f870f7f8",
   "metadata": {},
   "outputs": [],
   "source": [
    "# Model_3 using dot function \n",
    "def model_2(x, w, b):\n",
    "    f_wb = x @ w\n",
    "    f_wb += b\n",
    "    return f_wb "
   ]
  },
  {
   "cell_type": "code",
   "execution_count": 151,
   "id": "2c5980e9",
   "metadata": {},
   "outputs": [
    {
     "name": "stdout",
     "output_type": "stream",
     "text": [
      "training_example_1.shape: (4,)\n",
      "training_example_1's value: [2104    5    1   45]\n",
      "f_wb shape (), prediction: 459.9999976194083, actual value: 460\n",
      "\n"
     ]
    }
   ],
   "source": [
    "# predict from the 1st traning example\n",
    "training_example_1 = X_train[0,:]\n",
    "print(f\"training_example_1.shape: {training_example_1.shape}\")\n",
    "print(f\"training_example_1's value: {training_example_1}\")\n",
    "\n",
    "# make a prediction with the first training example \n",
    "ans = model_2(training_example_1, w_init, b_init)\n",
    "print(f\"f_wb shape {ans.shape}, prediction: {ans}, actual value: {y_train[0]}\")\n",
    "print(f\"\")"
   ]
  },
  {
   "cell_type": "code",
   "execution_count": 152,
   "id": "150604a1",
   "metadata": {},
   "outputs": [
    {
     "name": "stdout",
     "output_type": "stream",
     "text": [
      "459.9999976194083\n",
      "231.9999983694081\n",
      "177.99999898940814\n",
      "[460 232 178]\n"
     ]
    }
   ],
   "source": [
    "# Manually calculating cost: \n",
    "print(X_train[0,:] @ w_init + b_init)\n",
    "print(X_train[1,:] @ w_init + b_init)\n",
    "print(X_train[2,:] @ w_init + b_init)\n",
    "print(y_train)\n"
   ]
  },
  {
   "cell_type": "code",
   "execution_count": 153,
   "id": "9123495b",
   "metadata": {},
   "outputs": [],
   "source": [
    "def compute_cost(x, y, w, b):\n",
    "    # number of training examples \n",
    "    m = x.shape[0]\n",
    "    mse = 0\n",
    "    for i in range(m):\n",
    "        f_wb_i = x[i, :] @ w + b\n",
    "        se = (f_wb_i - y[i]) ** 2\n",
    "        mse = mse + se \n",
    "    \n",
    "    cost = mse / (2*m)\n",
    "    return cost "
   ]
  },
  {
   "cell_type": "code",
   "execution_count": 154,
   "id": "f1d4b9cf",
   "metadata": {},
   "outputs": [
    {
     "name": "stdout",
     "output_type": "stream",
     "text": [
      "Cost at optimal w: 1.5578904428966628e-12\n"
     ]
    }
   ],
   "source": [
    "cost = compute_cost(X_train, y_train, w_init, b_init)\n",
    "print(f\"Cost at optimal w: {cost}\")"
   ]
  }
 ],
 "metadata": {
  "kernelspec": {
   "display_name": "base",
   "language": "python",
   "name": "python3"
  },
  "language_info": {
   "codemirror_mode": {
    "name": "ipython",
    "version": 3
   },
   "file_extension": ".py",
   "mimetype": "text/x-python",
   "name": "python",
   "nbconvert_exporter": "python",
   "pygments_lexer": "ipython3",
   "version": "3.12.7"
  }
 },
 "nbformat": 4,
 "nbformat_minor": 5
}
