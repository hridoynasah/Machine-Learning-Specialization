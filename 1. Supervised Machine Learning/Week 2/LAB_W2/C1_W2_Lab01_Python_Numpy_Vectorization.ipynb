{
 "cells": [
  {
   "cell_type": "markdown",
   "id": "1b188c79",
   "metadata": {},
   "source": [
    "<center>\n",
    "\n",
    "#### **Python, NumPy and Vectorization** \n",
    "---\n",
    "\n",
    "</center>"
   ]
  },
  {
   "cell_type": "code",
   "execution_count": 2,
   "id": "8970aeba",
   "metadata": {},
   "outputs": [],
   "source": [
    "import numpy as np\n",
    "import time "
   ]
  },
  {
   "cell_type": "markdown",
   "id": "4d74fde3",
   "metadata": {},
   "source": [
    "**Useful References:**\n",
    "\n",
    "- NumPy Documentation including a basic introduction: [NumPy.org](https://NumPy.org/doc/stable/)\n",
    "- A challenging feature topic: [NumPy Broadcasting](https://NumPy.org/doc/stable/user/basics.broadcasting.html)"
   ]
  },
  {
   "cell_type": "markdown",
   "id": "eb8a867c",
   "metadata": {},
   "source": [
    "**Vector:** The elements of vectors are all the same datatype.\n",
    ">Note: A vector does not contain both characters and numbers.\n",
    "\n",
    "**NumPy Arrays:** NumPy's basic data structure is an indexable, `n-dimensinal` array. (same data type `dtype`)\n",
    "\n",
    "- Vectors are 1-D arrays "
   ]
  },
  {
   "cell_type": "code",
   "execution_count": 10,
   "id": "02dd3ebd",
   "metadata": {},
   "outputs": [
    {
     "name": "stdout",
     "output_type": "stream",
     "text": [
      "np.zeros(4) :   a = [0. 0. 0. 0.], a shape = (4,), a data type = float64\n",
      "np.zeros(4,) :  a = [0. 0. 0. 0.], a shape = (4,), a data type = float64\n",
      "np.random.random_sample(4): a = [0.98109237 0.39219959 0.96382818 0.12257602], a shape = (4,), a data type = float64\n",
      "np.random.random_sample(4): a = [0.73231858 0.79800617 0.65434911 0.01077968], a shape = (4,), a data type = float64\n",
      "np.zeros(4) :   a = [1. 1. 1. 1.], a shape = (4,), a data type = float64\n"
     ]
    }
   ],
   "source": [
    "a = np.zeros(4);                print(f\"np.zeros(4) :   a = {a}, a shape = {a.shape}, a data type = {a.dtype}\")\n",
    "a = np.zeros((4,));             print(f\"np.zeros(4,) :  a = {a}, a shape = {a.shape}, a data type = {a.dtype}\")\n",
    "a = np.random.random_sample(4); print(f\"np.random.random_sample(4): a = {a}, a shape = {a.shape}, a data type = {a.dtype}\")\n",
    "a = np.random.random_sample((4,)); print(f\"np.random.random_sample(4): a = {a}, a shape = {a.shape}, a data type = {a.dtype}\")\n",
    "a = np.ones(4);                print(f\"np.zeros(4) :   a = {a}, a shape = {a.shape}, a data type = {a.dtype}\")"
   ]
  },
  {
   "cell_type": "markdown",
   "id": "27d09792",
   "metadata": {},
   "source": [
    "> Note: NumPy's default datatype is float64\n",
    "---"
   ]
  },
  {
   "cell_type": "markdown",
   "id": "5bfa6955",
   "metadata": {},
   "source": [
    "**Some data creation routines do not take a shape tuple:**"
   ]
  },
  {
   "cell_type": "code",
   "execution_count": 6,
   "id": "9d02891b",
   "metadata": {},
   "outputs": [
    {
     "name": "stdout",
     "output_type": "stream",
     "text": [
      "np.arange(4.):     a = [0. 1. 2. 3.], a shape = (4,), a data type = float64\n",
      "np.random.rand(4): a = [0.25695437 0.33194145 0.44763692 0.60942211], a shape = (4,), a data type = float64\n"
     ]
    }
   ],
   "source": [
    "# NumPy routines which allocate memory and fill arrays with value but do not accept shape as input argument\n",
    "a = np.arange(4.);              print(f\"np.arange(4.):     a = {a}, a shape = {a.shape}, a data type = {a.dtype}\")\n",
    "a = np.random.rand(4);          print(f\"np.random.rand(4): a = {a}, a shape = {a.shape}, a data type = {a.dtype}\")"
   ]
  },
  {
   "cell_type": "markdown",
   "id": "91b394f0",
   "metadata": {},
   "source": [
    "> Note : `np.arange()` & `np.random.rand()` don't take shape as input.\n",
    "--- "
   ]
  },
  {
   "cell_type": "markdown",
   "id": "b05ea633",
   "metadata": {},
   "source": [
    "**Values can be specified manually as well:** "
   ]
  },
  {
   "cell_type": "code",
   "execution_count": 7,
   "id": "8b3b3ea7",
   "metadata": {},
   "outputs": [
    {
     "name": "stdout",
     "output_type": "stream",
     "text": [
      "np.array([5,4,3,2]):  a = [5 4 3 2],     a shape = (4,), a data type = int64\n",
      "np.array([5.,4,3,2]): a = [5. 4. 3. 2.], a shape = (4,), a data type = float64\n"
     ]
    }
   ],
   "source": [
    "# NumPy routines which allocate memory and fill with user specified values\n",
    "a = np.array([5,4,3,2]);  print(f\"np.array([5,4,3,2]):  a = {a},     a shape = {a.shape}, a data type = {a.dtype}\")\n",
    "a = np.array([5.,4,3,2]); print(f\"np.array([5.,4,3,2]): a = {a}, a shape = {a.shape}, a data type = {a.dtype}\")"
   ]
  },
  {
   "cell_type": "markdown",
   "id": "5df155d9",
   "metadata": {},
   "source": [
    "> Note: If only one value is float then all will become float.\n",
    "---"
   ]
  },
  {
   "cell_type": "markdown",
   "id": "c67afca2",
   "metadata": {},
   "source": [
    "**Operations on Vectos:**"
   ]
  },
  {
   "cell_type": "code",
   "execution_count": null,
   "id": "b0f2ee0b",
   "metadata": {},
   "outputs": [
    {
     "name": "stdout",
     "output_type": "stream",
     "text": [
      "Elements of a: [0 1 2 3 4 5 6 7 8 9]\n",
      "Data type of a: int64\n",
      "Shape of a: (10,)\n",
      "Dimension of a: 1\n",
      "Shape of a[2]: ()\n"
     ]
    }
   ],
   "source": [
    "a = np.arange(10)\n",
    "print(f\"Elements of a: {a}\")\n",
    "print(f\"Data type of a: {a.dtype}\")\n",
    "print(f\"Shape of a: {a.shape}\")\n",
    "print(f\"Dimension of a: {a.ndim}\")\n",
    "print(f\"Shape of a[2]: {a[2].shape}\") # No shape for single value"
   ]
  },
  {
   "cell_type": "code",
   "execution_count": 15,
   "id": "202cfdc6",
   "metadata": {},
   "outputs": [
    {
     "name": "stdout",
     "output_type": "stream",
     "text": [
      "Value of a[3]: 3\n",
      "Value of a[-1]: 9\n"
     ]
    }
   ],
   "source": [
    "a = np.arange(10)\n",
    "\n",
    "print(f\"Value of a[3]: {a[3]}\")\n",
    "print(f\"Value of a[-1]: {a[-1]}\") # Negative indexing \n",
    "\n",
    "try:\n",
    "    c = a[0] # It's not out of index range \n",
    "except Exception as e:\n",
    "    print(\"The error message you'll see is: \")\n",
    "    print(e)"
   ]
  },
  {
   "cell_type": "code",
   "execution_count": 17,
   "id": "b86bafe4",
   "metadata": {},
   "outputs": [
    {
     "name": "stdout",
     "output_type": "stream",
     "text": [
      "Value of a[3]: 3\n",
      "Value of a[-1]: 9\n",
      "The error message you'll see is: \n",
      "index 15 is out of bounds for axis 0 with size 10\n"
     ]
    }
   ],
   "source": [
    "a = np.arange(10)\n",
    "\n",
    "print(f\"Value of a[3]: {a[3]}\")\n",
    "print(f\"Value of a[-1]: {a[-1]}\") # Negative indexing \n",
    "\n",
    "try:\n",
    "    c = a[15] # It's not out of index range \n",
    "except Exception as e:\n",
    "    print(\"The error message you'll see is: \")\n",
    "    print(e)"
   ]
  },
  {
   "cell_type": "markdown",
   "id": "05f3cd3b",
   "metadata": {},
   "source": [
    "**Slicing:** b = `a[start: stop: stpe]`"
   ]
  },
  {
   "cell_type": "code",
   "execution_count": 19,
   "id": "b3777fb1",
   "metadata": {},
   "outputs": [
    {
     "name": "stdout",
     "output_type": "stream",
     "text": [
      "Elements of a : [0 1 2 3 4 5 6 7 8 9]\n",
      "a[2:7:1] : [2 3 4 5 6]\n",
      "a[3:8:2] : [3 5 7]\n",
      "a[3::]   : [0 1 2 3 4 5 6 7 8 9]\n",
      "a[:3:]   : [0 1 2]\n",
      "a[::]    : [0 1 2 3 4 5 6 7 8 9]\n"
     ]
    }
   ],
   "source": [
    "a = np.arange(10)\n",
    "print(f\"Elements of a : {a}\")\n",
    "\n",
    "# acces 5 consecutive elements \n",
    "c = a[2:7:1]; print(f\"a[2:7:1] : {c}\")\n",
    "\n",
    "# access 3 element separated by 2\n",
    "c = a[3:8:2]; print(f\"a[3:8:2] : {c}\")\n",
    "\n",
    "# access all element index 3 and above \n",
    "c = a[3::];   print(f\"a[3::]   : {a}\")\n",
    "\n",
    "# access all elements below index 3\n",
    "c = a[:3:];   print(f\"a[:3:]   : {c}\")\n",
    "\n",
    "# access all elements \n",
    "c = a[::];    print(f\"a[::]    : {c}\")"
   ]
  },
  {
   "cell_type": "markdown",
   "id": "336ee5b4",
   "metadata": {},
   "source": [
    "**Single Vector operations:**"
   ]
  },
  {
   "cell_type": "code",
   "execution_count": 20,
   "id": "0d080c73",
   "metadata": {},
   "outputs": [
    {
     "name": "stdout",
     "output_type": "stream",
     "text": [
      "a             : [1 2 3 4]\n",
      "b = -a        : [-1 -2 -3 -4]\n",
      "b = np.sum(a) : 10\n",
      "b = np.mean(a): 2.5\n",
      "b = a**2      : [ 1  4  9 16]\n"
     ]
    }
   ],
   "source": [
    "a = np.array([1,2,3,4])\n",
    "print(f\"a             : {a}\")\n",
    "# negate elements of a\n",
    "b = -a \n",
    "print(f\"b = -a        : {b}\")\n",
    "\n",
    "# sum all elements of a, returns a scalar\n",
    "b = np.sum(a) \n",
    "print(f\"b = np.sum(a) : {b}\")\n",
    "\n",
    "b = np.mean(a)\n",
    "print(f\"b = np.mean(a): {b}\")\n",
    "\n",
    "b = a**2\n",
    "print(f\"b = a**2      : {b}\")"
   ]
  }
 ],
 "metadata": {
  "kernelspec": {
   "display_name": "base",
   "language": "python",
   "name": "python3"
  },
  "language_info": {
   "codemirror_mode": {
    "name": "ipython",
    "version": 3
   },
   "file_extension": ".py",
   "mimetype": "text/x-python",
   "name": "python",
   "nbconvert_exporter": "python",
   "pygments_lexer": "ipython3",
   "version": "3.12.7"
  }
 },
 "nbformat": 4,
 "nbformat_minor": 5
}
