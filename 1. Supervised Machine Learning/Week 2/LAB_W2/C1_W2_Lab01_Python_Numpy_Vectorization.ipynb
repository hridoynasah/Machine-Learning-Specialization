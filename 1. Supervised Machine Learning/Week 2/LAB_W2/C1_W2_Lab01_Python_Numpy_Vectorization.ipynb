{
 "cells": [
  {
   "cell_type": "code",
   "execution_count": 28,
   "id": "20bb193e",
   "metadata": {},
   "outputs": [],
   "source": [
    "import numpy as np\n",
    "import time "
   ]
  },
  {
   "cell_type": "markdown",
   "id": "69703ba4",
   "metadata": {},
   "source": [
    "- A challenging feature topic: [NumPy Broadcasting](https://NumPy.org/doc/stable/user/basics.broadcasting.html)"
   ]
  },
  {
   "cell_type": "markdown",
   "id": "f1fcafda",
   "metadata": {},
   "source": [
    "In NumPy, **broadcasting** is a powerful mechanism that allows NumPy to work with arrays of different shapes during arithmetic operations.\n",
    "\n",
    "Simply put, when you perform an operation (like addition, subtraction, multiplication) between two arrays that don't have the exact same shape, NumPy tries to \"stretch\" or \"duplicate\" the smaller array's dimensions to match the larger array's shape, as long as they are compatible."
   ]
  },
  {
   "cell_type": "markdown",
   "id": "145fbc4e",
   "metadata": {},
   "source": [
    "### **Code example:**"
   ]
  },
  {
   "cell_type": "code",
   "execution_count": 29,
   "id": "42bebd47",
   "metadata": {},
   "outputs": [
    {
     "name": "stdout",
     "output_type": "stream",
     "text": [
      "Array 1:\n",
      " [[1 2 3]\n",
      " [4 5 6]]\n",
      "\n",
      "Array 2:\n",
      " [10]\n",
      "\n",
      "Result of broadcasting (arr1 + arr2):\n",
      " [[11 12 13]\n",
      " [14 15 16]]\n"
     ]
    }
   ],
   "source": [
    "import numpy as np\n",
    "\n",
    "# Array 1: a 2x3 array\n",
    "arr1 = np.array([[1, 2, 3],\n",
    "                 [4, 5, 6]])\n",
    "\n",
    "# Array 2: a 1D array (scalar technically, but acts as a 1D array of shape (1,))\n",
    "arr2 = np.array([10])\n",
    "\n",
    "# Perform addition using broadcasting\n",
    "result = arr1 + arr2\n",
    "\n",
    "print(\"Array 1:\\n\", arr1)\n",
    "print(\"\\nArray 2:\\n\", arr2)\n",
    "print(\"\\nResult of broadcasting (arr1 + arr2):\\n\", result)"
   ]
  },
  {
   "cell_type": "code",
   "execution_count": 30,
   "id": "fc078518",
   "metadata": {},
   "outputs": [
    {
     "name": "stdout",
     "output_type": "stream",
     "text": [
      "a      : [0. 0. 0. 0.]\n",
      "a.shape: (4,)\n",
      "a.ndim: 1\n"
     ]
    }
   ],
   "source": [
    "a = np.zeros(4)\n",
    "print(f\"a      : {a}\")\n",
    "print(f\"a.shape: {a.shape}\") # returns tuple of size\n",
    "print(f\"a.ndim: {a.ndim}\")"
   ]
  },
  {
   "cell_type": "code",
   "execution_count": 31,
   "id": "5e6e07d8",
   "metadata": {},
   "outputs": [
    {
     "name": "stdout",
     "output_type": "stream",
     "text": [
      "a      : [0. 0. 0. 0.]\n",
      "a.shape: (4,)\n",
      "a.ndim : 1\n"
     ]
    }
   ],
   "source": [
    "a = np.zeros(4,)\n",
    "print(f\"a      : {a}\")\n",
    "print(f\"a.shape: {a.shape}\")\n",
    "print(f\"a.ndim : {a.ndim}\")"
   ]
  },
  {
   "cell_type": "code",
   "execution_count": 32,
   "id": "969dc7c5",
   "metadata": {},
   "outputs": [
    {
     "name": "stdout",
     "output_type": "stream",
     "text": [
      "a      : \n",
      "[[1. 1.]\n",
      " [1. 1.]\n",
      " [1. 1.]\n",
      " [1. 1.]]\n",
      "a.shape: (4, 2)\n",
      "a.ndim : 2\n"
     ]
    }
   ],
   "source": [
    "a = np.ones((4,2)) # takes \n",
    "print(f\"a      : \\n{a}\")\n",
    "print(f\"a.shape: {a.shape}\")\n",
    "print(f\"a.ndim : {a.ndim}\")"
   ]
  },
  {
   "cell_type": "markdown",
   "id": "0fdba378",
   "metadata": {},
   "source": [
    "- `np.random.random_sample()` -> takes integer or tuple as size.\n",
    "- `np.random.sample()` -> takes integer or tuple as size.\n",
    "- `np.random.rand` -> directly takes dimension as size\n",
    "- output ranges: ```[0,1)``` "
   ]
  },
  {
   "cell_type": "code",
   "execution_count": 33,
   "id": "d1d7282f",
   "metadata": {},
   "outputs": [
    {
     "name": "stdout",
     "output_type": "stream",
     "text": [
      "a       : [0.71722906 0.52594785 0.7891878  0.72678226]\n",
      "a.shape : (4,)\n",
      "a.ndim  : 1\n"
     ]
    }
   ],
   "source": [
    "a = np.random.random_sample((4,)) # takes tuple as input size\n",
    "print(f\"a       : {a}\")\n",
    "print(f\"a.shape : {a.shape}\")\n",
    "print(f\"a.ndim  : {a.ndim}\")"
   ]
  },
  {
   "cell_type": "code",
   "execution_count": 34,
   "id": "9c535010",
   "metadata": {},
   "outputs": [
    {
     "name": "stdout",
     "output_type": "stream",
     "text": [
      "a       : \n",
      "[[0.29798649 0.84788784 0.83281046]\n",
      " [0.25250757 0.14154484 0.9132712 ]\n",
      " [0.5013724  0.21127136 0.38309034]\n",
      " [0.34404785 0.22099769 0.88378781]]\n",
      "a.shape : (4, 3)\n",
      "a.ndim  : 2\n"
     ]
    }
   ],
   "source": [
    "a = np.random.rand(4,3) # takes tuple as input size\n",
    "print(f\"a       : \\n{a}\")\n",
    "print(f\"a.shape : {a.shape}\")\n",
    "print(f\"a.ndim  : {a.ndim}\")"
   ]
  },
  {
   "cell_type": "code",
   "execution_count": 35,
   "id": "6b3d6287",
   "metadata": {},
   "outputs": [
    {
     "name": "stdout",
     "output_type": "stream",
     "text": [
      "a       : [5 3 4 2]\n",
      "a.shape : (4,)\n",
      "a.ndim  : 1\n"
     ]
    }
   ],
   "source": [
    "a = np.array([5, 3, 4, 2]) # takes list as input \n",
    "print(f\"a       : {a}\")\n",
    "print(f\"a.shape : {a.shape}\")\n",
    "print(f\"a.ndim  : {a.ndim}\")"
   ]
  },
  {
   "cell_type": "code",
   "execution_count": 36,
   "id": "4f71ccc2",
   "metadata": {},
   "outputs": [
    {
     "name": "stdout",
     "output_type": "stream",
     "text": [
      "a       : [5. 3. 4. 2.]\n",
      "a.shape : (4,)\n",
      "a.ndim  : 1\n"
     ]
    }
   ],
   "source": [
    "a = np.array([5., 3, 4, 2]) # takes list as input \n",
    "print(f\"a       : {a}\")\n",
    "print(f\"a.shape : {a.shape}\")\n",
    "print(f\"a.ndim  : {a.ndim}\")"
   ]
  },
  {
   "cell_type": "code",
   "execution_count": 37,
   "id": "b3cde79d",
   "metadata": {},
   "outputs": [
    {
     "name": "stdout",
     "output_type": "stream",
     "text": [
      "a       : [0 1 2 3]\n",
      "a.shape : (4,)\n",
      "a.ndim  : 1\n"
     ]
    }
   ],
   "source": [
    "a = np.arange(4)\n",
    "print(f\"a       : {a}\")\n",
    "print(f\"a.shape : {a.shape}\")\n",
    "print(f\"a.ndim  : {a.ndim}\")"
   ]
  },
  {
   "cell_type": "code",
   "execution_count": 38,
   "id": "3ba21393",
   "metadata": {},
   "outputs": [
    {
     "name": "stdout",
     "output_type": "stream",
     "text": [
      "a[2]       : 2\n",
      "a[2].shape : ()\n",
      "a[2].ndim  : 0\n"
     ]
    }
   ],
   "source": [
    "a = np.arange(4)\n",
    "print(f\"a[2]       : {a[2]}\")\n",
    "print(f\"a[2].shape : {a[2].shape}\")\n",
    "print(f\"a[2].ndim  : {a[2].ndim}\")"
   ]
  },
  {
   "cell_type": "markdown",
   "id": "1e45212d",
   "metadata": {},
   "source": [
    "**Access the last element:**"
   ]
  },
  {
   "cell_type": "code",
   "execution_count": 39,
   "id": "baa5cce5",
   "metadata": {},
   "outputs": [
    {
     "name": "stdout",
     "output_type": "stream",
     "text": [
      "a[-1]       : 3\n",
      "a[-1].shape : ()\n",
      "a[-1].ndim  : 0\n"
     ]
    }
   ],
   "source": [
    "a = np.arange(4)\n",
    "print(f\"a[-1]       : {a[-1]}\")\n",
    "print(f\"a[-1].shape : {a[-1].shape}\")\n",
    "print(f\"a[-1].ndim  : {a[-1].ndim}\")"
   ]
  },
  {
   "cell_type": "code",
   "execution_count": 40,
   "id": "008cdfd4",
   "metadata": {},
   "outputs": [
    {
     "name": "stdout",
     "output_type": "stream",
     "text": [
      "The error message you'll see is:\n",
      "index 5 is out of bounds for axis 0 with size 4\n"
     ]
    }
   ],
   "source": [
    "a = np.arange(4)\n",
    "try:\n",
    "    print(f\"a[5]       : {a[5]}\")\n",
    "except Exception as e:\n",
    "    print(f\"The error message you'll see is:\\n{e}\")"
   ]
  },
  {
   "cell_type": "markdown",
   "id": "f1e99690",
   "metadata": {},
   "source": [
    "**Slicing 1D array:  `array[start: stop: step]`**"
   ]
  },
  {
   "cell_type": "code",
   "execution_count": null,
   "id": "31fe34c9",
   "metadata": {},
   "outputs": [
    {
     "name": "stdout",
     "output_type": "stream",
     "text": [
      "[0 1 2 3 4]\n",
      "[0 2 4]\n",
      "[3 4 5 6 7 8 9]\n",
      "[0 1 2]\n",
      "[0 1 2 3 4 5 6 7 8 9]\n"
     ]
    }
   ],
   "source": [
    "a = np.arange(10)\n",
    "\n",
    "# Access 5 consecutive elements\n",
    "print(a[0:5:1])\n",
    "\n",
    "# access 3 elements separated by 2\n",
    "print(a[0:5: 2])\n",
    "\n",
    "# access all elements index 3 and above \n",
    "print(a[3:])\n",
    "\n",
    "# access all elements below 3\n",
    "print(a[:3])\n",
    "\n",
    "# access all elements \n",
    "print(a[:])"
   ]
  },
  {
   "cell_type": "markdown",
   "id": "f19a0cb2",
   "metadata": {},
   "source": [
    "**Reverse the array:**"
   ]
  },
  {
   "cell_type": "code",
   "execution_count": 73,
   "id": "4a8f957b",
   "metadata": {},
   "outputs": [
    {
     "name": "stdout",
     "output_type": "stream",
     "text": [
      "[4 3 2 1 0]\n",
      "[4 3 2 1 0]\n"
     ]
    }
   ],
   "source": [
    "a = np.arange(5)\n",
    "\n",
    "# reverse the array using slicing \n",
    "print(a[4::-1])\n",
    "print(a[::-1]) # this is also possible for negative indexing "
   ]
  },
  {
   "cell_type": "markdown",
   "id": "7ef22cdc",
   "metadata": {},
   "source": [
    "**Single vector operations:**"
   ]
  },
  {
   "cell_type": "code",
   "execution_count": 49,
   "id": "65494218",
   "metadata": {},
   "outputs": [
    {
     "name": "stdout",
     "output_type": "stream",
     "text": [
      "Negate elements of b: [-1 -2 -3 -4]\n",
      "Sum all elements of a returns a scalar: 10\n",
      "Mean of a: 2.5\n",
      "All squared value of a: [ 1  4  9 16]\n"
     ]
    }
   ],
   "source": [
    "a = np.array([1, 2, 3, 4])\n",
    "\n",
    "# Negate elements of a\n",
    "b = -a \n",
    "print(f\"Negate elements of b: {b}\")\n",
    "\n",
    "# Sum all elements of a, returns scalar\n",
    "a_sum = np.sum(a)\n",
    "print(f\"Sum all elements of a returns a scalar: {a_sum}\")\n",
    "\n",
    "# Mean of a \n",
    "a_mean = np.mean(a)\n",
    "print(f\"Mean of a: {a_mean}\")\n",
    "\n",
    "# All squared value of a \n",
    "a_squared = a ** 2\n",
    "print(f\"All squared value of a: {a_squared}\")"
   ]
  },
  {
   "cell_type": "markdown",
   "id": "2415dec9",
   "metadata": {},
   "source": [
    "**Vector element wise operations:**"
   ]
  },
  {
   "cell_type": "code",
   "execution_count": 50,
   "id": "0139ee28",
   "metadata": {},
   "outputs": [
    {
     "name": "stdout",
     "output_type": "stream",
     "text": [
      "Binary operators work element wise: \n",
      "[0 0 6 8]\n"
     ]
    }
   ],
   "source": [
    "a = np.array([ 1, 2, 3, 4])\n",
    "b = np.array([-1,-2, 3, 4])\n",
    "print(f\"Binary operators work element wise: \\n{a + b}\")"
   ]
  },
  {
   "cell_type": "code",
   "execution_count": 51,
   "id": "004fdd85",
   "metadata": {},
   "outputs": [
    {
     "name": "stdout",
     "output_type": "stream",
     "text": [
      "The error message you'll see is:\n",
      "operands could not be broadcast together with shapes (4,) (2,) \n"
     ]
    }
   ],
   "source": [
    "#try a mismatched vector operation\n",
    "c = np.array([1, 2])\n",
    "try:\n",
    "    d = a + c\n",
    "except Exception as e:\n",
    "    print(\"The error message you'll see is:\")\n",
    "    print(e)"
   ]
  },
  {
   "cell_type": "code",
   "execution_count": 52,
   "id": "43a0e43b",
   "metadata": {},
   "outputs": [
    {
     "name": "stdout",
     "output_type": "stream",
     "text": [
      "b = 5 * a : [ 5 10 15 20]\n"
     ]
    }
   ],
   "source": [
    "a = np.array([1, 2, 3, 4])\n",
    "\n",
    "# multiply a by a scalar\n",
    "b = 5 * a \n",
    "print(f\"b = 5 * a : {b}\")"
   ]
  },
  {
   "cell_type": "markdown",
   "id": "e3482521",
   "metadata": {},
   "source": [
    "**Vector dot product:**"
   ]
  },
  {
   "cell_type": "code",
   "execution_count": null,
   "id": "c0cbcb03",
   "metadata": {},
   "outputs": [],
   "source": [
    "# Dot product using loop \n",
    "def my_dot(a, b):\n",
    "    dot_prod = 0\n",
    "    for i in range(a.shape[0]):\n",
    "        dot_prod += a[i] * b[i]\n",
    "    \n",
    "    return dot_prod"
   ]
  },
  {
   "cell_type": "code",
   "execution_count": null,
   "id": "c2ca94c6",
   "metadata": {},
   "outputs": [
    {
     "name": "stdout",
     "output_type": "stream",
     "text": [
      "my_dot(a, b) = 24\n"
     ]
    }
   ],
   "source": [
    "# test 1-D\n",
    "a = np.array([1, 2, 3, 4])\n",
    "b = np.array([-1, 4, 3, 2])\n",
    "print(f\"my_dot(a, b) = {my_dot(a, b)}\")"
   ]
  },
  {
   "cell_type": "code",
   "execution_count": 57,
   "id": "4f99c013",
   "metadata": {},
   "outputs": [
    {
     "name": "stdout",
     "output_type": "stream",
     "text": [
      "Dot product using method = 24\n",
      "Dot product using method = 24\n"
     ]
    }
   ],
   "source": [
    "# Dot product using method\n",
    "\n",
    "# test 1-D\n",
    "a = np.array([1, 2, 3, 4])\n",
    "b = np.array([-1, 4, 3, 2])\n",
    "print(f\"Dot product using method = {np.dot(a,b)}\")\n",
    "print(f\"Dot product using method = {np.dot(b,a)}\")"
   ]
  },
  {
   "cell_type": "markdown",
   "id": "c4de0576",
   "metadata": {},
   "source": [
    "**Matrix or 2D array creation:**"
   ]
  },
  {
   "cell_type": "code",
   "execution_count": 59,
   "id": "f6b7b54d",
   "metadata": {},
   "outputs": [
    {
     "name": "stdout",
     "output_type": "stream",
     "text": [
      "a        : \n",
      "[[0. 0. 0. 0.]\n",
      " [0. 0. 0. 0.]\n",
      " [0. 0. 0. 0.]]\n",
      "a.shape  : (3, 4)\n",
      "a.ndim   : 2\n",
      "\n",
      "a        : \n",
      "[[1. 1.]\n",
      " [1. 1.]]\n",
      "a.shape  : (2, 2)\n",
      "a.ndim   : 2\n",
      "\n",
      "a        : \n",
      "[[0.71606686 0.48214994 0.50807907 0.16212185 0.21432328]\n",
      " [0.57002162 0.11071421 0.85474735 0.00894788 0.08539391]\n",
      " [0.72593886 0.28657992 0.61683278 0.717616   0.86790782]]\n",
      "a.shape  : (3, 5)\n",
      "a.ndim   : 2\n",
      "\n"
     ]
    }
   ],
   "source": [
    "a = np.zeros((3,4))\n",
    "print(f\"a        : \\n{a}\")\n",
    "print(f\"a.shape  : {a.shape}\")\n",
    "print(f\"a.ndim   : {a.ndim}\\n\")\n",
    "\n",
    "a = np.ones((2,2))\n",
    "print(f\"a        : \\n{a}\")\n",
    "print(f\"a.shape  : {a.shape}\")\n",
    "print(f\"a.ndim   : {a.ndim}\\n\")\n",
    "\n",
    "a = np.random.sample((3,5))\n",
    "print(f\"a        : \\n{a}\")\n",
    "print(f\"a.shape  : {a.shape}\")\n",
    "print(f\"a.ndim   : {a.ndim}\\n\")"
   ]
  },
  {
   "cell_type": "code",
   "execution_count": 62,
   "id": "44512aad",
   "metadata": {},
   "outputs": [
    {
     "name": "stdout",
     "output_type": "stream",
     "text": [
      " a shape = (3, 1), \n",
      "np.array: a = \n",
      "[[5]\n",
      " [4]\n",
      " [3]]\n"
     ]
    }
   ],
   "source": [
    "a = np.array([[5],  \n",
    "              [4],  \n",
    "              [3]]); \n",
    "print(f\" a shape = {a.shape}, \\nnp.array: a = \\n{a}\")"
   ]
  },
  {
   "cell_type": "markdown",
   "id": "ddadab4d",
   "metadata": {},
   "source": [
    "\n",
    "**2D array slicing & indexing:**\n",
    "\n",
    "`\n",
    "array[row_start: row_stop: row_step,column_start: column_stop: column_step]\n",
    "`\n",
    "\n",
    "This is like:\n",
    "\n",
    "`python\n",
    "array[rows, columns]\n",
    "`"
   ]
  },
  {
   "cell_type": "code",
   "execution_count": 72,
   "id": "8158c9e6",
   "metadata": {},
   "outputs": [
    {
     "name": "stdout",
     "output_type": "stream",
     "text": [
      "19\n",
      "a[2,]       : [10 11 12 13 14]\n",
      "a[2,].shape : (5,)\n",
      "\n",
      "a[2,]       : \n",
      "[[ 6  7  8]\n",
      " [11 12 13]]\n"
     ]
    }
   ],
   "source": [
    "a = np.arange(20).reshape(-1, 5)\n",
    "print(a[3, 4])\n",
    "\n",
    "print(f\"a[2,]       : {a[2,]}\")\n",
    "print(f\"a[2,].shape : {a[2,].shape}\\n\")\n",
    "\n",
    "print(f\"a[2,]       : \\n{a[1:3,1:4]}\")\n"
   ]
  },
  {
   "cell_type": "markdown",
   "id": "cffb8e7a",
   "metadata": {},
   "source": [
    "**Reverse 2D array:**"
   ]
  },
  {
   "cell_type": "code",
   "execution_count": 75,
   "id": "6b30605f",
   "metadata": {},
   "outputs": [
    {
     "name": "stdout",
     "output_type": "stream",
     "text": [
      "a       : \n",
      "[[ 0  1  2  3]\n",
      " [ 4  5  6  7]\n",
      " [ 8  9 10 11]]\n",
      "row column reversed: \n",
      "[[11 10  9  8]\n",
      " [ 7  6  5  4]\n",
      " [ 3  2  1  0]]\n"
     ]
    }
   ],
   "source": [
    "a = np.arange(12).reshape(-1, 4)\n",
    "print(f\"a       : \\n{a}\")\n",
    "print(f\"row column reversed: \\n{a[::-1, ::-1]}\")"
   ]
  }
 ],
 "metadata": {
  "kernelspec": {
   "display_name": "base",
   "language": "python",
   "name": "python3"
  },
  "language_info": {
   "codemirror_mode": {
    "name": "ipython",
    "version": 3
   },
   "file_extension": ".py",
   "mimetype": "text/x-python",
   "name": "python",
   "nbconvert_exporter": "python",
   "pygments_lexer": "ipython3",
   "version": "3.12.7"
  }
 },
 "nbformat": 4,
 "nbformat_minor": 5
}
