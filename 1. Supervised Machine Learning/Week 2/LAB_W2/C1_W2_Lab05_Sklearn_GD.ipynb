{
 "cells": [
  {
   "cell_type": "markdown",
   "id": "33071b31",
   "metadata": {},
   "source": [
    "**Import necessary libraries:**"
   ]
  },
  {
   "cell_type": "code",
   "execution_count": 3,
   "id": "56050f35",
   "metadata": {},
   "outputs": [],
   "source": [
    "import numpy as np\n",
    "import matplotlib.pyplot as plt\n",
    "# from linear model importing Stochastic Gradient Descent(a.k.a SGDRegressor)\n",
    "from sklearn.linear_model import SGDRegressor\n",
    "# from preprocessing importing Z-score normalization (a.k.a StandardScaler)\n",
    "from sklearn.preprocessing import StandardScaler \n",
    "from lab_utils_multi import  load_house_data\n",
    "from lab_utils_common import dlc\n",
    "np.set_printoptions(precision=2)\n",
    "plt.style.use('./deeplearning.mplstyle')"
   ]
  },
  {
   "cell_type": "markdown",
   "id": "823b879a",
   "metadata": {},
   "source": [
    "* Load the data set:"
   ]
  },
  {
   "cell_type": "code",
   "execution_count": 4,
   "id": "747b3d48",
   "metadata": {},
   "outputs": [],
   "source": [
    "X_train, y_train = load_house_data()\n",
    "X_features = ['size(sqft)', 'bedrooms', 'floors', 'age']"
   ]
  },
  {
   "cell_type": "markdown",
   "id": "3b41f8d1",
   "metadata": {},
   "source": [
    "* Normalize the training data:"
   ]
  },
  {
   "cell_type": "code",
   "execution_count": 5,
   "id": "676f0393",
   "metadata": {},
   "outputs": [
    {
     "name": "stdout",
     "output_type": "stream",
     "text": [
      "PtP range without scaling: [2.41e+03 4.00e+00 1.00e+00 9.50e+01]\n",
      "PtP range with scaling   : [5.85 6.14 2.06 3.69]\n"
     ]
    }
   ],
   "source": [
    "scaler = StandardScaler() # creating object \n",
    "X_norm = scaler.fit_transform(X_train)\n",
    "print(f\"PtP range without scaling: {np.ptp(X_train, axis=0)}\")\n",
    "print(f\"PtP range with scaling   : {np.ptp(X_norm, axis=0)}\")"
   ]
  },
  {
   "cell_type": "markdown",
   "id": "75a19506",
   "metadata": {},
   "source": [
    "- Create and fit the regression model:"
   ]
  },
  {
   "cell_type": "code",
   "execution_count": 6,
   "id": "56a0b352",
   "metadata": {},
   "outputs": [
    {
     "name": "stdout",
     "output_type": "stream",
     "text": [
      "SGDRegressor()\n",
      "number of iterations completed: 141\n",
      "number of weights updated     : 13960.0\n"
     ]
    }
   ],
   "source": [
    "sgdr = SGDRegressor(max_iter=1000) # creating objects \n",
    "sgdr.fit(X_norm, y_train)\n",
    "print(sgdr)\n",
    "print(f\"number of iterations completed: {sgdr.n_iter_}\")\n",
    "print(f\"number of weights updated     : {sgdr.t_}\")"
   ]
  },
  {
   "cell_type": "markdown",
   "id": "b0d330b0",
   "metadata": {},
   "source": [
    "- View parameters:"
   ]
  },
  {
   "cell_type": "code",
   "execution_count": 8,
   "id": "5dbaec16",
   "metadata": {},
   "outputs": [
    {
     "name": "stdout",
     "output_type": "stream",
     "text": [
      "model parameters-> w: [110.35 -21.12 -32.54 -38.03], b:[363.17]\n"
     ]
    }
   ],
   "source": [
    "b_norm = sgdr.intercept_\n",
    "w_norm = sgdr.coef_\n",
    "print(f\"model parameters-> w: {w_norm}, b:{b_norm}\")"
   ]
  },
  {
   "cell_type": "markdown",
   "id": "12a17b2b",
   "metadata": {},
   "source": [
    "- Make predictions:"
   ]
  },
  {
   "cell_type": "code",
   "execution_count": 10,
   "id": "157635d7",
   "metadata": {},
   "outputs": [
    {
     "name": "stdout",
     "output_type": "stream",
     "text": [
      "prediction using sgdr: [295.15 486.04 389.64 492.2 ]\n",
      "actual value         :[300.  509.8 394.  540. ]\n"
     ]
    }
   ],
   "source": [
    "# make prediction using sgdr.predict()\n",
    "y_pred_sgd = sgdr.predict(X_norm)\n",
    "print(f\"prediction using sgdr: {y_pred_sgd[:4]}\") # check the first four\n",
    "print(f\"actual value         :{y_train[:4]}\") # check the first four"
   ]
  },
  {
   "cell_type": "markdown",
   "id": "f0d5eea0",
   "metadata": {},
   "source": [
    "Conclusion: Prediction is close enough"
   ]
  },
  {
   "cell_type": "markdown",
   "id": "76246607",
   "metadata": {},
   "source": [
    "- Plot the prediction vs the target values:"
   ]
  },
  {
   "cell_type": "code",
   "execution_count": null,
   "id": "e117b603",
   "metadata": {},
   "outputs": [],
   "source": [
    "fig, ax= plt.subplots(1,4, figsize(12,4), sharey=True)\n",
    "for i in range(X_train.shape[1]):\n",
    "    ax[i].scatter(X_norm[:,i], y_train, label=\"Actual value.\")\n",
    "    ax[i].set_xlabel(X_features[i])\n",
    "    ax[i].scatter(X_norm[:, i], y_pred_sgd, label=\"Predicted value.\")\n",
    "\n",
    "ax[0].set_ylabel()"
   ]
  },
  {
   "cell_type": "markdown",
   "id": "9657f949",
   "metadata": {},
   "source": [
    "What learned: \n",
    "- `SGDRegressor` class from `linear_model`\n",
    "- `StandardScaler` class from `preprocessor`\n",
    "- `scaler.fit_transform(X_train)` for normalization\n",
    "- `sgdr.fit(X_norm)` for fitting data \n",
    "- `sgdr.n_iter_` for total iterations completed\n",
    "- `sgdr.t_` for number of weight updated \n",
    "- `sgdr.intercept_` for checking the intercept/bias\n",
    "- `sgdr.coef_` for checking coefficient/wieght"
   ]
  },
  {
   "cell_type": "markdown",
   "id": "deb27d0b",
   "metadata": {},
   "source": [
    "| Feature                | `LinearRegression`                        | `SGDRegressor`                             |\n",
    "| :--------------------- | :---------------------------------------- | :----------------------------------------- |\n",
    "| **Optimization** | Closed-form solution (OLS)                | Stochastic Gradient Descent (Iterative)    |\n",
    "| **Solution Guarantee** | Global Minimum (exact)                    | Approximate Global Minimum (good enough)   |\n",
    "| **Scalability** | Less scalable for very large datasets     | Highly scalable for very large datasets    |\n",
    "| **Memory Usage** | Can be high for many features             | Lower, suitable for out-of-core learning   |\n",
    "| **Hyperparameters** | Few (e.g., `fit_intercept`)               | Many (e.g., `learning_rate`, `max_iter`)   |\n",
    "| **Performance** | Faster for small/medium datasets          | Faster for very large datasets             |\n",
    "| **Common Use Case** | Smaller, in-memory datasets, analytical needs | Large datasets, online learning            |\n"
   ]
  }
 ],
 "metadata": {
  "kernelspec": {
   "display_name": "base",
   "language": "python",
   "name": "python3"
  },
  "language_info": {
   "codemirror_mode": {
    "name": "ipython",
    "version": 3
   },
   "file_extension": ".py",
   "mimetype": "text/x-python",
   "name": "python",
   "nbconvert_exporter": "python",
   "pygments_lexer": "ipython3",
   "version": "3.12.7"
  }
 },
 "nbformat": 4,
 "nbformat_minor": 5
}
