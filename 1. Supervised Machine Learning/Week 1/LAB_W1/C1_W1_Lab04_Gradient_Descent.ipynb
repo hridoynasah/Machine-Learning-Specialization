{
 "cells": [
  {
   "cell_type": "code",
   "execution_count": 7,
   "id": "1f2ed710",
   "metadata": {},
   "outputs": [],
   "source": [
    "import math, copy\n",
    "import numpy as np\n",
    "import matplotlib.pyplot as plt"
   ]
  },
  {
   "cell_type": "code",
   "execution_count": 8,
   "id": "ad83b458",
   "metadata": {},
   "outputs": [],
   "source": [
    "# Load our data set\n",
    "x_train = np.array([1.0, 2.0])   #features\n",
    "y_train = np.array([300.0, 500.0])   #target value"
   ]
  },
  {
   "cell_type": "code",
   "execution_count": null,
   "id": "32dda19e",
   "metadata": {},
   "outputs": [],
   "source": [
    "# Compute cost \n",
    "def compute_cost(x, y, w, b):\n",
    "    cost = 0\n",
    "    m = x.shape[0]\n",
    "    for i in range(m):\n",
    "        f_wb = w * x[i] + b\n",
    "        mse = (f_wb - y[i]) ** 2\n",
    "        cost += mse\n",
    "    \n",
    "    return (cost/(2 * m))"
   ]
  },
  {
   "cell_type": "code",
   "execution_count": 4,
   "id": "ce951806",
   "metadata": {},
   "outputs": [
    {
     "name": "stdout",
     "output_type": "stream",
     "text": [
      "value  1.08e+01\n"
     ]
    }
   ],
   "source": [
    "a = 10.76548\n",
    "print(f\"value {a: 0.2e}\")"
   ]
  },
  {
   "cell_type": "code",
   "execution_count": null,
   "id": "1111345b",
   "metadata": {},
   "outputs": [],
   "source": [
    "# compute gradient \n",
    "def compute_gradient(x, y, w, b):\n",
    "    m = x.shape[0]\n",
    "    dj_dw = 0\n",
    "    dj_db = 0\n",
    "    for i in range(m):\n",
    "        f_wb = w * x[i] + b\n",
    "        dj_dw += (f_wb - y[i]) * x[i]\n",
    "        dj_db += (f_wb - y[i])\n",
    "    return (dj_dw / m), (dj_db / m)"
   ]
  }
 ],
 "metadata": {
  "kernelspec": {
   "display_name": "base",
   "language": "python",
   "name": "python3"
  },
  "language_info": {
   "codemirror_mode": {
    "name": "ipython",
    "version": 3
   },
   "file_extension": ".py",
   "mimetype": "text/x-python",
   "name": "python",
   "nbconvert_exporter": "python",
   "pygments_lexer": "ipython3",
   "version": "3.12.7"
  }
 },
 "nbformat": 4,
 "nbformat_minor": 5
}
