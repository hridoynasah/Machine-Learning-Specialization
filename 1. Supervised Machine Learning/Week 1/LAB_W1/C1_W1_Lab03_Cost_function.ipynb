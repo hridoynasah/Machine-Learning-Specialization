{
 "cells": [
  {
   "cell_type": "code",
   "execution_count": 1,
   "id": "e4b05884",
   "metadata": {},
   "outputs": [],
   "source": [
    "import numpy as np\n",
    "import matplotlib.pyplot as plt"
   ]
  },
  {
   "cell_type": "code",
   "execution_count": 2,
   "id": "a20dd6b8",
   "metadata": {},
   "outputs": [],
   "source": [
    "x_train = np.array([1.0, 2.0])\n",
    "y_train = np.array([300.0, 500.0])"
   ]
  },
  {
   "cell_type": "code",
   "execution_count": null,
   "id": "6bfcdcfc",
   "metadata": {},
   "outputs": [],
   "source": [
    "def calculate_cost(x, y, w, b):\n",
    "    cost = 0\n",
    "    m = x.shape[0]\n",
    "    for i in range(m):\n",
    "        f_wb = w * x[i] + b\n",
    "        mse = (f_wb - y[i]) ** 2\n",
    "        cost += mse\n",
    "    \n",
    "    cost = cost / (2 * m)\n",
    "    return cost"
   ]
  }
 ],
 "metadata": {
  "kernelspec": {
   "display_name": "base",
   "language": "python",
   "name": "python3"
  },
  "language_info": {
   "codemirror_mode": {
    "name": "ipython",
    "version": 3
   },
   "file_extension": ".py",
   "mimetype": "text/x-python",
   "name": "python",
   "nbconvert_exporter": "python",
   "pygments_lexer": "ipython3",
   "version": "3.12.7"
  }
 },
 "nbformat": 4,
 "nbformat_minor": 5
}
