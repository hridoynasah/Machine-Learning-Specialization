{
 "cells": [
  {
   "cell_type": "markdown",
   "id": "6422f08a",
   "metadata": {},
   "source": [
    "**Importing library:**"
   ]
  },
  {
   "cell_type": "code",
   "execution_count": 2,
   "id": "94946cb7",
   "metadata": {},
   "outputs": [],
   "source": [
    "import numpy as np\n",
    "%matplotlib widget\n",
    "import matplotlib.pyplot as plt\n",
    "from lab_utils_common import dlc, plot_data\n",
    "from plt_one_addpt_onclick import plt_one_addpt_onclick\n",
    "plt.style.use('./deeplearning.mplstyle')"
   ]
  },
  {
   "cell_type": "markdown",
   "id": "ecc6f24f",
   "metadata": {},
   "source": [
    "- Datasets (1D and 2D)"
   ]
  },
  {
   "cell_type": "code",
   "execution_count": 15,
   "id": "b987df4c",
   "metadata": {},
   "outputs": [],
   "source": [
    "x_train = np.array([0., 1, 2, 3, 4, 5])\n",
    "y_train = np.array([0,  0, 0, 1, 1, 1])\n",
    "X_train2 = np.array([[0.5, 1.5], \n",
    "                     [1.0, 1.0], \n",
    "                     [1.5, 0.5], \n",
    "                     [3.0, 0.5], \n",
    "                     [2.0, 2.0], \n",
    "                     [1.0, 2.5]])\n",
    "y_train2 = np.array([0, 0, 0, 1, 1, 1])"
   ]
  },
  {
   "cell_type": "markdown",
   "id": "6a1bbf50",
   "metadata": {},
   "source": [
    "- For (1D) data "
   ]
  },
  {
   "cell_type": "code",
   "execution_count": 4,
   "id": "40c21693",
   "metadata": {},
   "outputs": [
    {
     "name": "stdout",
     "output_type": "stream",
     "text": [
      "[False False False  True  True  True]\n",
      "[ True  True  True False False False]\n"
     ]
    }
   ],
   "source": [
    "pos = y_train == 1 # True when (y_train == 1)\n",
    "neg = y_train == 0 # True when (y_train == 0)\n",
    "print(pos) # list of True, False where (y_train == 1)\n",
    "print(neg) # list of True, False where (y_train == 0)"
   ]
  },
  {
   "cell_type": "code",
   "execution_count": 8,
   "id": "a5756b8a",
   "metadata": {},
   "outputs": [
    {
     "name": "stdout",
     "output_type": "stream",
     "text": [
      "[1 1 1]\n",
      "[0 0 0]\n"
     ]
    }
   ],
   "source": [
    "print(y_train[pos]) # Malignant (Cancerous)\n",
    "print(y_train[neg]) # Benign (Non-cancerous)"
   ]
  },
  {
   "cell_type": "code",
   "execution_count": 10,
   "id": "89a0d51d",
   "metadata": {},
   "outputs": [
    {
     "name": "stdout",
     "output_type": "stream",
     "text": [
      "[3. 4. 5.]\n",
      "[0. 1. 2.]\n"
     ]
    }
   ],
   "source": [
    "# print those which index are true for (y_train == 1)-> Malignant\n",
    "print(x_train[pos]) \n",
    "# print those which index are true for (y_train == 0)-> benign\n",
    "print(x_train[neg])"
   ]
  },
  {
   "cell_type": "markdown",
   "id": "17d8b593",
   "metadata": {},
   "source": [
    "- For 2D data"
   ]
  },
  {
   "cell_type": "code",
   "execution_count": 13,
   "id": "13e7d75b",
   "metadata": {},
   "outputs": [
    {
     "name": "stdout",
     "output_type": "stream",
     "text": [
      "[1 1 1]\n",
      "[0 0 0]\n"
     ]
    }
   ],
   "source": [
    "pos2 = y_train2 == 1\n",
    "neg2 = y_train2 == 0\n",
    "print(y_train2[pos2])\n",
    "print(y_train2[neg2])"
   ]
  },
  {
   "cell_type": "code",
   "execution_count": 21,
   "id": "ad741938",
   "metadata": {},
   "outputs": [
    {
     "name": "stdout",
     "output_type": "stream",
     "text": [
      "those which index are true for (y_train2 == 1)-> Malignant: \n",
      "[[3.  0.5]\n",
      " [2.  2. ]\n",
      " [1.  2.5]]\n",
      "\n",
      "those which index are true for (y_train2 == 0)-> benign: \n",
      "[[0.5 1.5]\n",
      " [1.  1. ]\n",
      " [1.5 0.5]]\n"
     ]
    }
   ],
   "source": [
    "# print those which index are true for (y_train2 == 1)-> Malignant\n",
    "print(\"those which index are true for (y_train2 == 1)-> Malignant: \")\n",
    "print(X_train2[pos]) \n",
    "print(\"\")\n",
    "# print those which index are true for (y_train2 == 0)-> benign\n",
    "print(\"those which index are true for (y_train2 == 0)-> benign: \")\n",
    "print(X_train2[neg])"
   ]
  }
 ],
 "metadata": {
  "kernelspec": {
   "display_name": "Python 3",
   "language": "python",
   "name": "python3"
  },
  "language_info": {
   "codemirror_mode": {
    "name": "ipython",
    "version": 3
   },
   "file_extension": ".py",
   "mimetype": "text/x-python",
   "name": "python",
   "nbconvert_exporter": "python",
   "pygments_lexer": "ipython3",
   "version": "3.12.6"
  }
 },
 "nbformat": 4,
 "nbformat_minor": 5
}
