{
 "cells": [
  {
   "cell_type": "code",
   "execution_count": 2,
   "id": "94946cb7",
   "metadata": {},
   "outputs": [],
   "source": [
    "# !pip install numpy \n",
    "import numpy as np\n",
    "%matplotlib widget\n",
    "import matplotlib.pyplot as plt\n",
    "# from lab_utils_common import dlc, plot_data\n",
    "# from plt_one_addpt_onclick import plt_one_addpt_onclick\n",
    "# plt.style.use('./deeplearning.mplstyle')"
   ]
  },
  {
   "cell_type": "code",
   "execution_count": 24,
   "id": "b987df4c",
   "metadata": {},
   "outputs": [
    {
     "name": "stdout",
     "output_type": "stream",
     "text": [
      "Shape of x_train: (6,)\n",
      "Shape of x_train: (6, 2)\n"
     ]
    }
   ],
   "source": [
    "# x_train -> One variable \n",
    "\n",
    "x_train = np.array([0., 1, 2, 3, 4, 5])\n",
    "y_train = np.array([0, 0, 0, 1, 1, 1,])\n",
    "\n",
    "# X_train2 -> Multiple variable \n",
    "X_train2 = np.array([[0.5, 1.5], [1,1], [1.5, 0.5], [3, 0.5], [2, 2], [1, 2.5]])\n",
    "y_train2 = np.array([0, 0, 0, 1, 1, 1])\n",
    "\n",
    "print(f\"Shape of x_train: {x_train.shape}\")\n",
    "print(f\"Shape of x_train: {X_train2.shape}\")"
   ]
  },
  {
   "cell_type": "code",
   "execution_count": null,
   "id": "40ae7630",
   "metadata": {},
   "outputs": [
    {
     "data": {
      "text/plain": [
       "[array([False, False, False,  True,  True,  True]),\n",
       " array([0, 0, 0, 1, 1, 1]),\n",
       " array([ True,  True,  True, False, False, False]),\n",
       " array([0, 0, 0, 1, 1, 1])]"
      ]
     },
     "execution_count": 25,
     "metadata": {},
     "output_type": "execute_result"
    }
   ],
   "source": [
    "pos = y_train == 1 # only true which are y_train[i] == 1\n",
    "neg = y_train == 0 # only true which are y_train[i] == 0\n",
    "pos2 = y_train2 == 1  # For the second plot\n",
    "neg2 = y_train2 == 0  # For the second plot\n",
    "[pos, y_train, neg, y_train]"
   ]
  }
 ],
 "metadata": {
  "kernelspec": {
   "display_name": "Python 3",
   "language": "python",
   "name": "python3"
  },
  "language_info": {
   "codemirror_mode": {
    "name": "ipython",
    "version": 3
   },
   "file_extension": ".py",
   "mimetype": "text/x-python",
   "name": "python",
   "nbconvert_exporter": "python",
   "pygments_lexer": "ipython3",
   "version": "3.12.6"
  }
 },
 "nbformat": 4,
 "nbformat_minor": 5
}
