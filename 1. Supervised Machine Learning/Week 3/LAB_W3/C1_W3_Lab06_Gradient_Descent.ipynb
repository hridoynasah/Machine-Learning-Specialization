{
 "cells": [
  {
   "cell_type": "code",
   "execution_count": null,
   "id": "d01fd23d",
   "metadata": {},
   "outputs": [],
   "source": [
    "import copy, math\n",
    "import numpy as np\n",
    "%matplotlib widget\n",
    "import matplotlib.pyplot as plt\n",
    "from lab_utils_common import dlc, plot_data, plt_tumor_data, sigmoid, compute_cost_logistic\n",
    "from plt_quad_logistic import plt_quad_logistic, plt_prob\n",
    "plt.style.use('./deeplearning.mplstyle')"
   ]
  },
  {
   "cell_type": "code",
   "execution_count": 9,
   "id": "272f080e",
   "metadata": {},
   "outputs": [],
   "source": [
    "X_train = np.array([[0.5, 1.5], [1,1], [1.5, 0.5], [3, 0.5], [2, 2], [1, 2.5]])\n",
    "y_train = np.array([0, 0, 0, 1, 1, 1])"
   ]
  },
  {
   "cell_type": "code",
   "execution_count": 34,
   "id": "9e1835b8",
   "metadata": {},
   "outputs": [
    {
     "name": "stdout",
     "output_type": "stream",
     "text": [
      "[3.  0.5]\n"
     ]
    }
   ],
   "source": [
    "print(X_train[3])"
   ]
  },
  {
   "cell_type": "code",
   "execution_count": 10,
   "id": "042b5753",
   "metadata": {},
   "outputs": [
    {
     "data": {
      "text/plain": [
       "[]"
      ]
     },
     "execution_count": 10,
     "metadata": {},
     "output_type": "execute_result"
    },
    {
     "data": {
      "application/vnd.jupyter.widget-view+json": {
       "model_id": "3f95ed293fd64073bc8143074f38d6e7",
       "version_major": 2,
       "version_minor": 0
      },
      "image/png": "[encoded data removed]",
      "text/html": [
       "\n",
       "            <div style=\"display: inline-block;\">\n",
       "                <div class=\"jupyter-widgets widget-label\" style=\"text-align: center;\">\n",
       "                    Figure\n",
       "                </div>\n",
       "                <img src='data:image/png;base64,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' width=600.0/>\n",
       "            </div>\n",
       "        "
      ],
      "text/plain": [
       "Canvas(footer_visible=False, header_visible=False, toolbar=Toolbar(toolitems=[('Home', 'Reset original view', …"
      ]
     },
     "metadata": {},
     "output_type": "display_data"
    }
   ],
   "source": [
    "fig, ax = plt.subplots(1,1, figsize=(6, 4))\n",
    "plot_data(X_train, y_train, ax)\n",
    "\n",
    "ax.axis([0, 4, 0, 3.5])\n",
    "ax.set_xlabel(\"$x_0$\")\n",
    "ax.set_ylabel(\"$x_1$\")\n",
    "plt.plot()"
   ]
  },
  {
   "cell_type": "code",
   "execution_count": 11,
   "id": "01e27f21",
   "metadata": {},
   "outputs": [
    {
     "name": "stdout",
     "output_type": "stream",
     "text": [
      "6 2 6 2\n"
     ]
    }
   ],
   "source": [
    "m = X_train.shape[0]\n",
    "n = X_train.shape[1]\n",
    "i, j = X_train.shape\n",
    "print(m, n, i, j)"
   ]
  },
  {
   "cell_type": "code",
   "execution_count": 38,
   "id": "4ae5771e",
   "metadata": {},
   "outputs": [
    {
     "data": {
      "text/plain": [
       "array([0.95, 0.98])"
      ]
     },
     "execution_count": 38,
     "metadata": {},
     "output_type": "execute_result"
    }
   ],
   "source": [
    "g_z = sigmoid(X_train[1]*np.array([2.,3.]) + 1.)\n",
    "g_z"
   ]
  },
  {
   "cell_type": "code",
   "execution_count": 59,
   "id": "2fb930bf",
   "metadata": {},
   "outputs": [],
   "source": [
    "def compute_gradient_logistic(X, y, w, b):\n",
    "    row, col = X.shape\n",
    "    dj_dw = np.zeros((col,))\n",
    "    dj_db = 0.0\n",
    "    for i in range(row):\n",
    "        f_wb_i = sigmoid(np.dot(X[i],w)+ b)\n",
    "        err_i = f_wb_i - y[i]\n",
    "        for j in range(col):\n",
    "            dj_dw[j] += err_i * X[i,j]\n",
    "        dj_db += err_i\n",
    "    dj_dw = dj_dw / m\n",
    "    dj_db = dj_db / m\n",
    "\n",
    "    return dj_db, dj_dw"
   ]
  },
  {
   "cell_type": "code",
   "execution_count": 60,
   "id": "4dd2c7ac",
   "metadata": {},
   "outputs": [
    {
     "name": "stdout",
     "output_type": "stream",
     "text": [
      "dj_db: 0.49861806546328574\n",
      "dj_dw: [0.498333393278696, 0.49883942983996693]\n"
     ]
    }
   ],
   "source": [
    "X_tmp = np.array([[0.5, 1.5], [1,1], [1.5, 0.5], [3, 0.5], [2, 2], [1, 2.5]])\n",
    "y_tmp = np.array([0, 0, 0, 1, 1, 1])\n",
    "w_tmp = np.array([2.,3.])\n",
    "b_tmp = 1.\n",
    "dj_db_tmp, dj_dw_tmp = compute_gradient_logistic(X_tmp, y_tmp, w_tmp, b_tmp)\n",
    "print(f\"dj_db: {dj_db_tmp}\" )\n",
    "print(f\"dj_dw: {dj_dw_tmp.tolist()}\" )"
   ]
  },
  {
   "cell_type": "code",
   "execution_count": 69,
   "id": "a3891a33",
   "metadata": {},
   "outputs": [],
   "source": [
    "import copy\n",
    "from lab_utils_common import  dlc, plot_data, plt_tumor_data, sigmoid, compute_cost_logistic\n",
    "def gradient_descent(X, y, w_in, b_in, alpha, num_iter):\n",
    "    b = b_in\n",
    "    w = copy.deepcopy(w_in)\n",
    "    J_history = []\n",
    "    for i in range(num_iter):\n",
    "        dj_db, dj_dw = compute_gradient_logistic(X, y, w, b)\n",
    "\n",
    "        w = w - alpha * dj_dw\n",
    "        b = b - alpha * dj_db\n",
    "\n",
    "        if i < 10000:\n",
    "            J_history.append(compute_cost_logistic(X, y, w, b))\n",
    "\n",
    "        if i % 1000 == 0:\n",
    "            print(f\"Iteration {i:5d}: Cost {J_history[-1]}\")\n",
    "\n",
    "    return w, b, J_history"
   ]
  },
  {
   "cell_type": "code",
   "execution_count": 70,
   "id": "7eb7358c",
   "metadata": {},
   "outputs": [
    {
     "name": "stdout",
     "output_type": "stream",
     "text": [
      "Iteration     0: Cost 0.684610468560574\n",
      "Iteration  1000: Cost 0.1590977666870457\n",
      "Iteration  2000: Cost 0.08460064176930078\n",
      "Iteration  3000: Cost 0.05705327279402531\n",
      "Iteration  4000: Cost 0.04290759421682\n",
      "Iteration  5000: Cost 0.03433847729884557\n",
      "Iteration  6000: Cost 0.02860379802212006\n",
      "Iteration  7000: Cost 0.02450156960879306\n",
      "Iteration  8000: Cost 0.02142370332569295\n",
      "Iteration  9000: Cost 0.019030137124109114\n",
      "\n",
      "updated parameters: w:[5.28 5.08], b:-14.222409982019837\n"
     ]
    }
   ],
   "source": [
    "w_tmp  = np.zeros_like(X_train[0])\n",
    "b_tmp  = 0.\n",
    "alph = 0.1\n",
    "iters = 10000\n",
    "\n",
    "w_out, b_out, _ = gradient_descent(X_train, y_train, w_tmp, b_tmp, alph, iters)\n",
    "print(f\"\\nupdated parameters: w:{w_out}, b:{b_out}\")"
   ]
  }
 ],
 "metadata": {
  "kernelspec": {
   "display_name": "base",
   "language": "python",
   "name": "python3"
  },
  "language_info": {
   "codemirror_mode": {
    "name": "ipython",
    "version": 3
   },
   "file_extension": ".py",
   "mimetype": "text/x-python",
   "name": "python",
   "nbconvert_exporter": "python",
   "pygments_lexer": "ipython3",
   "version": "3.12.7"
  }
 },
 "nbformat": 4,
 "nbformat_minor": 5
}
