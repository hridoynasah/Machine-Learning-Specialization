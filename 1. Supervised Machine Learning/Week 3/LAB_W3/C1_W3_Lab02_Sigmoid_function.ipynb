{
 "cells": [
  {
   "cell_type": "markdown",
   "id": "05e814b4",
   "metadata": {},
   "source": [
    "**Logistic Regression:**"
   ]
  },
  {
   "cell_type": "code",
   "execution_count": 2,
   "id": "255a6c01",
   "metadata": {},
   "outputs": [],
   "source": [
    "import numpy as np\n",
    "%matplotlib widget\n",
    "import matplotlib.pyplot as plt\n",
    "from plt_one_addpt_onclick import plt_one_addpt_onclick\n",
    "from lab_utils_common import draw_vthresh\n",
    "plt.style.use('./deeplearning.mplstyle')"
   ]
  },
  {
   "cell_type": "markdown",
   "id": "f491de72",
   "metadata": {},
   "source": [
    "**Implementing sigmoid function:**"
   ]
  },
  {
   "cell_type": "code",
   "execution_count": 4,
   "id": "7d9b8df4",
   "metadata": {},
   "outputs": [
    {
     "name": "stdout",
     "output_type": "stream",
     "text": [
      "Input to exp  : [3 2 4]\n",
      "Output to exp : [20.09  7.39 54.6 ]\n",
      "Input to exp  : 1\n",
      "Output to exp : 2.718281828459045\n"
     ]
    }
   ],
   "source": [
    "# array as input \n",
    "input_array = np.array([3, 2, 4])\n",
    "exp_array = np.exp(input_array)\n",
    "print(f\"Input to exp  : {input_array}\")\n",
    "print(f\"Output to exp : {exp_array}\")\n",
    "\n",
    "# scalar val as input \n",
    "\n",
    "input_val = 1 \n",
    "exp_val = np.exp(input_val)\n",
    "print(f\"Input to exp  : {input_val}\")\n",
    "print(f\"Output to exp : {exp_val}\")"
   ]
  },
  {
   "cell_type": "markdown",
   "id": "cdc35d37",
   "metadata": {},
   "source": [
    "The `sigmoid` function is implemented in python as shown in the cell below."
   ]
  },
  {
   "cell_type": "code",
   "execution_count": 5,
   "id": "dfa74892",
   "metadata": {},
   "outputs": [],
   "source": [
    "def sigmoid(z):\n",
    "    sig = 1 / (1 + np.exp(-z))\n",
    "    return sig"
   ]
  },
  {
   "cell_type": "code",
   "execution_count": 6,
   "id": "900774ff",
   "metadata": {},
   "outputs": [
    {
     "name": "stdout",
     "output_type": "stream",
     "text": [
      "[Input z, Output sigmoid]\n",
      "[[-1.00e+01  4.54e-05]\n",
      " [-9.00e+00  1.23e-04]\n",
      " [-8.00e+00  3.35e-04]\n",
      " [-7.00e+00  9.11e-04]\n",
      " [-6.00e+00  2.47e-03]\n",
      " [-5.00e+00  6.69e-03]\n",
      " [-4.00e+00  1.80e-02]\n",
      " [-3.00e+00  4.74e-02]\n",
      " [-2.00e+00  1.19e-01]\n",
      " [-1.00e+00  2.69e-01]\n",
      " [ 0.00e+00  5.00e-01]\n",
      " [ 1.00e+00  7.31e-01]\n",
      " [ 2.00e+00  8.81e-01]\n",
      " [ 3.00e+00  9.53e-01]\n",
      " [ 4.00e+00  9.82e-01]\n",
      " [ 5.00e+00  9.93e-01]\n",
      " [ 6.00e+00  9.98e-01]\n",
      " [ 7.00e+00  9.99e-01]\n",
      " [ 8.00e+00  1.00e+00]\n",
      " [ 9.00e+00  1.00e+00]\n",
      " [ 1.00e+01  1.00e+00]]\n"
     ]
    }
   ],
   "source": [
    "z = np.arange(-10, 11)\n",
    "g = sigmoid(z)\n",
    "print(f\"[Input z, Output sigmoid]\")\n",
    "print(np.c_[z, g])"
   ]
  }
 ],
 "metadata": {
  "kernelspec": {
   "display_name": "base",
   "language": "python",
   "name": "python3"
  },
  "language_info": {
   "codemirror_mode": {
    "name": "ipython",
    "version": 3
   },
   "file_extension": ".py",
   "mimetype": "text/x-python",
   "name": "python",
   "nbconvert_exporter": "python",
   "pygments_lexer": "ipython3",
   "version": "3.12.7"
  }
 },
 "nbformat": 4,
 "nbformat_minor": 5
}
