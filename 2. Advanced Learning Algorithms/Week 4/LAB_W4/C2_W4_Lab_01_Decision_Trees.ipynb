{
 "cells": [
  {
   "cell_type": "code",
   "execution_count": 44,
   "id": "890db5fe",
   "metadata": {},
   "outputs": [],
   "source": [
    "import pandas as pd\n",
    "import numpy as np\n",
    "import matplotlib.pyplot as plt"
   ]
  },
  {
   "cell_type": "code",
   "execution_count": 45,
   "id": "95ea470a",
   "metadata": {},
   "outputs": [],
   "source": [
    "# col1: Ear shape| col2: Face Shape | col3: Whiskers\n",
    "# Ear Shape: Pointy = 1, Floppy = 0\n",
    "# Face Shape: Round = 1, Not Round = 0\n",
    "# Whiskers: Present = 1, Absent = 0\n",
    "X_train = np.array([[1, 1, 1],\n",
    "                    [0, 0, 1],\n",
    "                    [0, 1, 0],\n",
    "                    [1, 0, 1],\n",
    "                    [1, 1, 1],\n",
    "                    [1, 1, 0],\n",
    "                    [0, 0, 0],\n",
    "                    [1, 1, 0],\n",
    "                    [0, 1, 0],\n",
    "                    [0, 1, 0]])\n",
    "\n",
    "# labels/targets : cat-> 1 ; not cat -> 0\n",
    "y_train = np.array([1, 1, 0, 0, 1, 1, 0, 1, 0, 0])"
   ]
  },
  {
   "cell_type": "code",
   "execution_count": 46,
   "id": "c72090c2",
   "metadata": {},
   "outputs": [
    {
     "name": "stdout",
     "output_type": "stream",
     "text": [
      "0.9710\n"
     ]
    }
   ],
   "source": [
    "# In the both case when p = 0 or p = 1 -> entropy = 0\n",
    "def entropy(p):\n",
    "    if p == 0 or p == 1:\n",
    "        return 0\n",
    "\n",
    "    h_p = -p * np.log2(p) - (1-p)*(np.log2(1-p))\n",
    "    return h_p\n",
    "\n",
    "print(f\"{entropy(0.4):.4f}\")"
   ]
  },
  {
   "cell_type": "code",
   "execution_count": 47,
   "id": "de001a73",
   "metadata": {},
   "outputs": [
    {
     "name": "stdout",
     "output_type": "stream",
     "text": [
      "0 1\n",
      "1 2\n",
      "2 3\n",
      "3 4\n",
      "4 5\n"
     ]
    }
   ],
   "source": [
    "a = [1, 2, 3, 4, 5]\n",
    "\n",
    "for j, a_j in enumerate(a):\n",
    "    print(j, a_j)"
   ]
  },
  {
   "cell_type": "code",
   "execution_count": 48,
   "id": "6b42a06a",
   "metadata": {},
   "outputs": [
    {
     "name": "stdout",
     "output_type": "stream",
     "text": [
      "0 -> [1 1 1]\n",
      "1 -> [0 0 1]\n",
      "2 -> [0 1 0]\n",
      "3 -> [1 0 1]\n",
      "4 -> [1 1 1]\n",
      "5 -> [1 1 0]\n",
      "6 -> [0 0 0]\n",
      "7 -> [1 1 0]\n",
      "8 -> [0 1 0]\n",
      "9 -> [0 1 0]\n"
     ]
    }
   ],
   "source": [
    "for i, x in enumerate(X_train):\n",
    "    print(f\"{i} -> {x}\")"
   ]
  },
  {
   "cell_type": "code",
   "execution_count": 49,
   "id": "2285eb41",
   "metadata": {},
   "outputs": [],
   "source": [
    "# split\n",
    "def split_indices(X, index_feature):\n",
    "    left_indices = []\n",
    "    right_indices = []\n",
    "\n",
    "    for i, x in enumerate(X):\n",
    "        if x[index_feature] == 1:\n",
    "            left_indices.append(i)\n",
    "        else:\n",
    "            right_indices.append(i)\n",
    "\n",
    "    return left_indices, right_indices"
   ]
  },
  {
   "cell_type": "code",
   "execution_count": 50,
   "id": "675e331b",
   "metadata": {},
   "outputs": [],
   "source": [
    "l, r = split_indices(X_train, 0) # ear shape"
   ]
  },
  {
   "cell_type": "code",
   "execution_count": 51,
   "id": "dd9305a9",
   "metadata": {},
   "outputs": [
    {
     "data": {
      "text/plain": [
       "([0, 2, 4, 5, 7, 8, 9], [1, 3, 6])"
      ]
     },
     "execution_count": 51,
     "metadata": {},
     "output_type": "execute_result"
    }
   ],
   "source": [
    "split_indices(X_train, 1) # face shape"
   ]
  },
  {
   "cell_type": "code",
   "execution_count": 52,
   "id": "0f826316",
   "metadata": {},
   "outputs": [
    {
     "data": {
      "text/plain": [
       "([0, 1, 3, 4], [2, 5, 6, 7, 8, 9])"
      ]
     },
     "execution_count": 52,
     "metadata": {},
     "output_type": "execute_result"
    }
   ],
   "source": [
    "split_indices(X_train, 2) # whiskers"
   ]
  },
  {
   "cell_type": "code",
   "execution_count": 53,
   "id": "7c4371e4",
   "metadata": {},
   "outputs": [
    {
     "data": {
      "text/plain": [
       "[0, 3, 4, 5, 7]"
      ]
     },
     "execution_count": 53,
     "metadata": {},
     "output_type": "execute_result"
    }
   ],
   "source": [
    "l"
   ]
  },
  {
   "cell_type": "code",
   "execution_count": 54,
   "id": "995fe240",
   "metadata": {},
   "outputs": [
    {
     "data": {
      "text/plain": [
       "array([1, 0, 1, 1, 1])"
      ]
     },
     "execution_count": 54,
     "metadata": {},
     "output_type": "execute_result"
    }
   ],
   "source": [
    "y_train[l]"
   ]
  },
  {
   "cell_type": "code",
   "execution_count": 55,
   "id": "d093edda",
   "metadata": {},
   "outputs": [],
   "source": [
    "def weighted_entropy(X, y, left, right):\n",
    "    w_left = len(left) / len(X)\n",
    "    w_right = len(right) / len(X)\n",
    "    p_left = sum(y[left])/len(left)\n",
    "    p_right = sum(y[right])/len(right)\n",
    "\n",
    "    weighted_entropy = w_left * entropy(p_left) + w_right * entropy(p_right)\n",
    "\n",
    "    return weighted_entropy\n"
   ]
  },
  {
   "cell_type": "code",
   "execution_count": 57,
   "id": "d99b2388",
   "metadata": {},
   "outputs": [
    {
     "name": "stdout",
     "output_type": "stream",
     "text": [
      "0.7219\n"
     ]
    }
   ],
   "source": [
    "le, re = split_indices(X_train, 0)\n",
    "ear_shape = weighted_entropy(X_train, y_train,le, re)\n",
    "print(f\"{ear_shape:.4f}\")"
   ]
  },
  {
   "cell_type": "code",
   "execution_count": 58,
   "id": "9aadb228",
   "metadata": {},
   "outputs": [
    {
     "name": "stdout",
     "output_type": "stream",
     "text": [
      "0.9651\n"
     ]
    }
   ],
   "source": [
    "lf, rf = split_indices(X_train, 1)\n",
    "face_shape = weighted_entropy(X_train, y_train,lf, rf)\n",
    "print(f\"{face_shape:.4f}\")"
   ]
  },
  {
   "cell_type": "code",
   "execution_count": 59,
   "id": "2051f93a",
   "metadata": {},
   "outputs": [
    {
     "name": "stdout",
     "output_type": "stream",
     "text": [
      "0.8755\n"
     ]
    }
   ],
   "source": [
    "lw, rw = split_indices(X_train, 2)\n",
    "whiskers = weighted_entropy(X_train, y_train, lw, rw)\n",
    "print(f\"{whiskers:.4f}\")"
   ]
  },
  {
   "cell_type": "code",
   "execution_count": 60,
   "id": "57aa011a",
   "metadata": {},
   "outputs": [],
   "source": [
    "def information_gain(X, y, left, right):\n",
    "    # y has -> 0, 1, 0 -> binary value\n",
    "    p_root = sum(y)/len(y)\n",
    "    h_root = entropy(p_root)\n",
    "    w_entropy = weighted_entropy(X, y, left, right)\n",
    "    return h_root - w_entropy"
   ]
  },
  {
   "cell_type": "code",
   "execution_count": null,
   "id": "978de448",
   "metadata": {},
   "outputs": [
    {
     "name": "stdout",
     "output_type": "stream",
     "text": [
      "0.2781\n"
     ]
    }
   ],
   "source": [
    "# information gain of ear shape\n",
    "print(f\"{information_gain(X_train, y_train, le, re):.4}\")"
   ]
  },
  {
   "cell_type": "code",
   "execution_count": null,
   "id": "da6e0e76",
   "metadata": {},
   "outputs": [
    {
     "name": "stdout",
     "output_type": "stream",
     "text": [
      "0.03485\n"
     ]
    }
   ],
   "source": [
    "# information gain of face shape\n",
    "print(f\"{information_gain(X_train, y_train, lf, rf):.4}\")"
   ]
  },
  {
   "cell_type": "code",
   "execution_count": null,
   "id": "deb5d4b6",
   "metadata": {},
   "outputs": [],
   "source": [
    "# information gain of whiskers\n",
    "print(f\"{information_gain(X_train, y_train, lw, rw):.4}\")\n"
   ]
  }
 ],
 "metadata": {
  "kernelspec": {
   "display_name": "base",
   "language": "python",
   "name": "python3"
  },
  "language_info": {
   "codemirror_mode": {
    "name": "ipython",
    "version": 3
   },
   "file_extension": ".py",
   "mimetype": "text/x-python",
   "name": "python",
   "nbconvert_exporter": "python",
   "pygments_lexer": "ipython3",
   "version": "3.12.7"
  }
 },
 "nbformat": 4,
 "nbformat_minor": 5
}
