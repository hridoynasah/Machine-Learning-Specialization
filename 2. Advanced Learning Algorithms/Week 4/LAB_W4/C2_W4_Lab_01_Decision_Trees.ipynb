{
 "cells": [
  {
   "cell_type": "code",
   "execution_count": 2,
   "id": "d6c532d5",
   "metadata": {},
   "outputs": [],
   "source": [
    "import numpy as np\n",
    "import pandas as pd"
   ]
  },
  {
   "cell_type": "markdown",
   "id": "bd33b46d",
   "metadata": {},
   "source": [
    "* H(p) = 0 when p=0 & p=1\n",
    "* H(p) = 1 when p=0.5\n",
    "* Here H(p) is entropy & p is the fraction of positive class"
   ]
  },
  {
   "cell_type": "code",
   "execution_count": 3,
   "id": "9ba14ad5",
   "metadata": {},
   "outputs": [],
   "source": [
    "X_train = np.array([[1, 1, 1],\n",
    "[0, 0, 1],\n",
    " [0, 1, 0],\n",
    " [1, 0, 1],\n",
    " [1, 1, 1],\n",
    " [1, 1, 0],\n",
    " [0, 0, 0],\n",
    " [1, 1, 0],\n",
    " [0, 1, 0],\n",
    " [0, 1, 0]])\n",
    "\n",
    "y_train = np.array([1, 1, 0, 0, 1, 1, 0, 1, 0, 0])"
   ]
  },
  {
   "cell_type": "code",
   "execution_count": 20,
   "id": "1e2764d3",
   "metadata": {},
   "outputs": [
    {
     "name": "stdout",
     "output_type": "stream",
     "text": [
      "1.0\n"
     ]
    }
   ],
   "source": [
    "def entropy(p):\n",
    "    if p == 0 or p == 1:\n",
    "        return 0\n",
    "    else:\n",
    "        return -(p * np.log2(p) + (1-p)*np.log2(1-p))\n",
    "\n",
    "print(entropy(0.5))"
   ]
  },
  {
   "cell_type": "code",
   "execution_count": null,
   "id": "d40324ef",
   "metadata": {},
   "outputs": [
    {
     "name": "stdout",
     "output_type": "stream",
     "text": [
      "0 [1 1 1]\n",
      "1 [0 0 1]\n",
      "2 [0 1 0]\n",
      "3 [1 0 1]\n",
      "4 [1 1 1]\n",
      "5 [1 1 0]\n",
      "6 [0 0 0]\n",
      "7 [1 1 0]\n",
      "8 [0 1 0]\n",
      "9 [0 1 0]\n"
     ]
    }
   ],
   "source": [
    "# first raw -> ear shape\n",
    "# second raw -> face shape\n",
    "# third raw -> whiskers\n",
    "# ear shape = 1 if pointy else floppy\n",
    "for i, x in enumerate(X_train):\n",
    "    print(i, x)"
   ]
  },
  {
   "cell_type": "code",
   "execution_count": 8,
   "id": "37abfd0b",
   "metadata": {},
   "outputs": [
    {
     "name": "stdout",
     "output_type": "stream",
     "text": [
      "0 True\n",
      "1 False\n",
      "2 False\n",
      "3 True\n",
      "4 True\n",
      "5 True\n",
      "6 False\n",
      "7 True\n",
      "8 False\n",
      "9 False\n"
     ]
    }
   ],
   "source": [
    "index_feature = 0\n",
    "for i, x in enumerate(X_train):\n",
    "    print(i, x[index_feature] == 1)"
   ]
  },
  {
   "cell_type": "code",
   "execution_count": 9,
   "id": "51041f4f",
   "metadata": {},
   "outputs": [],
   "source": [
    "def split_indeces(X, index_features):\n",
    "    \"\"\" index_features = 1st row\n",
    "        checking the if pointy or not.\n",
    "        if pointy then go to left else right.\n",
    "    \"\"\"\n",
    "    left_indeces = []\n",
    "    right_indeces = []\n",
    "\n",
    "    for i, x in enumerate(X):\n",
    "\n",
    "        if x[index_features] == 1: # checking only first row for pointy or not\n",
    "            left_indeces.append(i)\n",
    "        else:\n",
    "            right_indeces.append(i)\n",
    "\n",
    "    return left_indeces, right_indeces"
   ]
  },
  {
   "cell_type": "code",
   "execution_count": 10,
   "id": "569953f0",
   "metadata": {},
   "outputs": [
    {
     "data": {
      "text/plain": [
       "([0, 3, 4, 5, 7], [1, 2, 6, 8, 9])"
      ]
     },
     "execution_count": 10,
     "metadata": {},
     "output_type": "execute_result"
    }
   ],
   "source": [
    "split_indeces(X_train, 0)"
   ]
  },
  {
   "cell_type": "code",
   "execution_count": 11,
   "id": "791916a2",
   "metadata": {},
   "outputs": [],
   "source": [
    "left, right = split_indeces(X_train, 0)"
   ]
  },
  {
   "cell_type": "code",
   "execution_count": null,
   "id": "72195100",
   "metadata": {},
   "outputs": [
    {
     "name": "stdout",
     "output_type": "stream",
     "text": [
      "[1 1 0 0 1 1 0 1 0 0]\n",
      "[1 0 1 1 1]\n",
      "[1 0 0 0 0]\n"
     ]
    }
   ],
   "source": [
    "print(y_train)\n",
    "print(y_train[left]) # 4 cat 1 dog\n",
    "print(y_train[right]) # 1 cat 4 dog\n",
    "# w_left = 5 / 10 & p_left = 4 / 5\n",
    "# w_right = 5 / 10 & p_right = 1 / 5"
   ]
  },
  {
   "cell_type": "code",
   "execution_count": 23,
   "id": "10ea61e0",
   "metadata": {},
   "outputs": [],
   "source": [
    "def weighted_entropy(X, y, left_indices, right_indices):\n",
    "    w_left = len(left_indices) / len(X)\n",
    "    w_right = len(right_indices) / len(X)\n",
    "    p_left = sum(y[left_indices]) / len(left_indices)\n",
    "    p_right = sum(y[right_indices]) / len(right_indices)\n",
    "\n",
    "    weighted_entropy = w_left * entropy(p_left) + w_right * entropy(p_right)\n",
    "    return weighted_entropy"
   ]
  },
  {
   "cell_type": "code",
   "execution_count": 24,
   "id": "fcbaa61b",
   "metadata": {},
   "outputs": [
    {
     "data": {
      "text/plain": [
       "np.float64(0.7219280948873623)"
      ]
     },
     "execution_count": 24,
     "metadata": {},
     "output_type": "execute_result"
    }
   ],
   "source": [
    "left_indices, right_indices = split_indeces(X_train, 0)\n",
    "weighted_entropy(X_train, y_train, left_indices, right_indices)"
   ]
  },
  {
   "cell_type": "code",
   "execution_count": null,
   "id": "77af7413",
   "metadata": {},
   "outputs": [],
   "source": []
  }
 ],
 "metadata": {
  "kernelspec": {
   "display_name": "base",
   "language": "python",
   "name": "python3"
  },
  "language_info": {
   "codemirror_mode": {
    "name": "ipython",
    "version": 3
   },
   "file_extension": ".py",
   "mimetype": "text/x-python",
   "name": "python",
   "nbconvert_exporter": "python",
   "pygments_lexer": "ipython3",
   "version": "3.12.7"
  }
 },
 "nbformat": 4,
 "nbformat_minor": 5
}
