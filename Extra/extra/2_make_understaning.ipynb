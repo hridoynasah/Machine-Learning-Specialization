{
 "cells": [
  {
   "cell_type": "markdown",
   "id": "561ca74e",
   "metadata": {},
   "source": [
    "### **Code explanations:**"
   ]
  },
  {
   "cell_type": "code",
   "execution_count": 1,
   "id": "e2d21454",
   "metadata": {},
   "outputs": [
    {
     "name": "stdout",
     "output_type": "stream",
     "text": [
      "[3.14 2.72 1.41]\n"
     ]
    }
   ],
   "source": [
    "import numpy as np\n",
    "np.set_printoptions(precision=2)\n",
    "arr = np.array([3.14159, 2.71828, 1.41421])\n",
    "print(arr)"
   ]
  },
  {
   "cell_type": "markdown",
   "id": "819aa519",
   "metadata": {},
   "source": [
    "The `np.set_printoptions(precision=2)` function in NumPy sets the number of decimal places to display for floating-point numbers in arrays to 2."
   ]
  },
  {
   "cell_type": "code",
   "execution_count": null,
   "id": "67567ae1",
   "metadata": {},
   "outputs": [
    {
     "name": "stdout",
     "output_type": "stream",
     "text": [
      "83\n"
     ]
    }
   ],
   "source": [
    "import numpy as np\n",
    "x = np.array([1, 2, 3])\n",
    "y = np.array([7, 8, 8])\n",
    "print(x@y)"
   ]
  },
  {
   "cell_type": "code",
   "execution_count": 4,
   "id": "3486f495",
   "metadata": {},
   "outputs": [
    {
     "name": "stdout",
     "output_type": "stream",
     "text": [
      "[47 86]\n"
     ]
    }
   ],
   "source": [
    "import numpy as np\n",
    "x = np.array([[1, 2, 3],\n",
    "              [2, 3, 6]])\n",
    "y = np.array([7, 8, 8])\n",
    "print(x@y)"
   ]
  },
  {
   "cell_type": "code",
   "execution_count": 5,
   "id": "551efe98",
   "metadata": {},
   "outputs": [
    {
     "ename": "ValueError",
     "evalue": "matmul: Input operand 1 has a mismatch in its core dimension 0, with gufunc signature (n?,k),(k,m?)->(n?,m?) (size 2 is different from 3)",
     "output_type": "error",
     "traceback": [
      "\u001b[1;31m---------------------------------------------------------------------------\u001b[0m",
      "\u001b[1;31mValueError\u001b[0m                                Traceback (most recent call last)",
      "Cell \u001b[1;32mIn[5], line 6\u001b[0m\n\u001b[0;32m      2\u001b[0m x \u001b[38;5;241m=\u001b[39m np\u001b[38;5;241m.\u001b[39marray([[\u001b[38;5;241m1\u001b[39m, \u001b[38;5;241m2\u001b[39m, \u001b[38;5;241m3\u001b[39m],\n\u001b[0;32m      3\u001b[0m               [\u001b[38;5;241m2\u001b[39m, \u001b[38;5;241m3\u001b[39m, \u001b[38;5;241m6\u001b[39m]])\n\u001b[0;32m      4\u001b[0m y \u001b[38;5;241m=\u001b[39m np\u001b[38;5;241m.\u001b[39marray([[\u001b[38;5;241m7\u001b[39m, \u001b[38;5;241m8\u001b[39m, \u001b[38;5;241m8\u001b[39m],\n\u001b[0;32m      5\u001b[0m               [\u001b[38;5;241m7\u001b[39m, \u001b[38;5;241m8\u001b[39m, \u001b[38;5;241m8\u001b[39m]])\n\u001b[1;32m----> 6\u001b[0m \u001b[38;5;28mprint\u001b[39m(\u001b[43mx\u001b[49m\u001b[38;5;129;43m@y\u001b[39;49m)\n",
      "\u001b[1;31mValueError\u001b[0m: matmul: Input operand 1 has a mismatch in its core dimension 0, with gufunc signature (n?,k),(k,m?)->(n?,m?) (size 2 is different from 3)"
     ]
    }
   ],
   "source": [
    "import numpy as np\n",
    "x = np.array([[1, 2, 3],\n",
    "              [2, 3, 6]])\n",
    "y = np.array([[7, 8, 8],\n",
    "              [7, 8, 8]])\n",
    "print(x@y)"
   ]
  },
  {
   "cell_type": "code",
   "execution_count": 6,
   "id": "200b10a4",
   "metadata": {},
   "outputs": [
    {
     "name": "stdout",
     "output_type": "stream",
     "text": [
      "[ 47  86 177]\n"
     ]
    }
   ],
   "source": [
    "x = np.array([[1, 2, 3],\n",
    "              [2, 3, 6],\n",
    "              [7, 8, 8]])\n",
    "y = np.array([7, 8, 8])\n",
    "print(x@y)"
   ]
  },
  {
   "cell_type": "code",
   "execution_count": 2,
   "id": "475b8d3b",
   "metadata": {},
   "outputs": [
    {
     "name": "stdout",
     "output_type": "stream",
     "text": [
      "118\n"
     ]
    }
   ],
   "source": [
    "a = np.array([9, 7, 4, 5])\n",
    "b = np.array([7, 3, 1, 6])\n",
    "\n",
    "\n",
    "ans = np.dot(a, b)\n",
    "# ans = [(9*7) + (7*3) + (4*1) + (5*6)]\n",
    "# ans = [63 + 21 + 4 + 30]\n",
    "# ans = 118\n",
    "print(ans)"
   ]
  },
  {
   "cell_type": "code",
   "execution_count": 3,
   "id": "e5399ed6",
   "metadata": {},
   "outputs": [
    {
     "name": "stdout",
     "output_type": "stream",
     "text": [
      "[[ 30  24  18]\n",
      " [ 84  69  54]\n",
      " [138 114  90]]\n"
     ]
    }
   ],
   "source": [
    "A = np.array([[1, 2, 3],\n",
    "              [4, 5, 6],\n",
    "              [7, 8, 9]])\n",
    "\n",
    "B = np.array([[9, 8, 7],\n",
    "              [6, 5, 4],\n",
    "              [3, 2, 1]])\n",
    "\n",
    "ans = np.dot(A, B)\n",
    "# The dot product of two matrices A and B results in a new matrix C,\n",
    "# where each element C[i, j] is the dot product of the i-th row of A\n",
    "# and the j-th column of B.\n",
    "\n",
    "# C[0,0] = (A[0,0]*B[0,0]) + (A[0,1]*B[1,0]) + (A[0,2]*B[2,0])\n",
    "#        = (1*9) + (2*6) + (3*3) = 9 + 12 + 9 = 30\n",
    "# C[0,1] = (A[0,0]*B[0,1]) + (A[0,1]*B[1,1]) + (A[0,2]*B[2,1])\n",
    "#        = (1*8) + (2*5) + (3*2) = 8 + 10 + 6 = 24\n",
    "# C[0,2] = (A[0,0]*B[0,2]) + (A[0,1]*B[1,2]) + (A[0,2]*B[2,2])\n",
    "#        = (1*7) + (2*4) + (3*1) = 7 + 8 + 3 = 18\n",
    "\n",
    "# C[1,0] = (A[1,0]*B[0,0]) + (A[1,1]*B[1,0]) + (A[1,2]*B[2,0])\n",
    "#        = (4*9) + (5*6) + (6*3) = 36 + 30 + 18 = 84\n",
    "# C[1,1] = (A[1,0]*B[0,1]) + (A[1,1]*B[1,1]) + (A[1,2]*B[2,1])\n",
    "#        = (4*8) + (5*5) + (6*2) = 32 + 25 + 12 = 69\n",
    "# C[1,2] = (A[1,0]*B[0,2]) + (A[1,1]*B[1,2]) + (A[1,2]*B[2,2])\n",
    "#        = (4*7) + (5*4) + (6*1) = 28 + 20 + 6 = 54\n",
    "\n",
    "# C[2,0] = (A[2,0]*B[0,0]) + (A[2,1]*B[1,0]) + (A[2,2]*B[2,0])\n",
    "#        = (7*9) + (8*6) + (9*3) = 63 + 48 + 27 = 138\n",
    "# C[2,1] = (A[2,0]*B[0,1]) + (A[2,1]*B[1,1]) + (A[2,2]*B[2,1])\n",
    "#        = (7*8) + (8*5) + (9*2) = 56 + 40 + 18 = 114\n",
    "# C[2,2] = (A[2,0]*B[0,2]) + (A[2,1]*B[1,2]) + (A[2,2]*B[2,2])\n",
    "#        = (7*7) + (8*4) + (9*1) = 49 + 32 + 9 = 90\n",
    "\n",
    "# ans = [[30, 24, 18],\n",
    "#        [84, 69, 54],\n",
    "#        [138, 114, 90]]\n",
    "print(ans)"
   ]
  },
  {
   "cell_type": "code",
   "execution_count": 4,
   "id": "705ada49",
   "metadata": {},
   "outputs": [
    {
     "name": "stdout",
     "output_type": "stream",
     "text": [
      "[[ 30  24  18]\n",
      " [ 84  69  54]\n",
      " [138 114  90]]\n"
     ]
    }
   ],
   "source": [
    "A = np.array([[1, 2, 3],\n",
    "              [4, 5, 6],\n",
    "              [7, 8, 9]])\n",
    "\n",
    "B = np.array([[9, 8, 7],\n",
    "              [6, 5, 4],\n",
    "              [3, 2, 1]])\n",
    "\n",
    "ans = A@B\n",
    "print(ans)"
   ]
  },
  {
   "cell_type": "code",
   "execution_count": null,
   "id": "5a29e951",
   "metadata": {},
   "outputs": [
    {
     "name": "stdout",
     "output_type": "stream",
     "text": [
      "(3, 3) (3,)\n",
      "[140 320 500]\n"
     ]
    }
   ],
   "source": [
    "A = np.array([[1, 2, 3],\n",
    "              [4, 5, 6],\n",
    "              [7, 8, 9]])\n",
    "\n",
    "# B visually looks like a row matrix but it is actually a columan matrix\n",
    "B = np.array([10,\n",
    "              20,\n",
    "              30])\n",
    "\n",
    "# A(3x3) & B(3x1)\n",
    "print(A.shape, B.shape)\n",
    "ans = A @ B\n",
    "print(ans)"
   ]
  },
  {
   "cell_type": "code",
   "execution_count": 7,
   "id": "44cb9f0a",
   "metadata": {},
   "outputs": [
    {
     "name": "stdout",
     "output_type": "stream",
     "text": [
      "(3, 3) (3,)\n",
      "[ 100 2500 1600]\n"
     ]
    }
   ],
   "source": [
    "A = np.array([[1, 2, 3],\n",
    "              [4, 5, 6],\n",
    "              [7, 8, 9]])\n",
    "\n",
    "# B visually looks like a row matrix but it is actually a columan matrix\n",
    "B = np.array([10, 20, 30])\n",
    "\n",
    "# A(3x3) & B(3x1)\n",
    "print(A.shape, B.shape)\n",
    "X = A @ B\n",
    "\n",
    "C = np.array([130, 270, 460])\n",
    "\n",
    "ans = np.power((X - C), 2)\n",
    "\n",
    "print(ans)"
   ]
  },
  {
   "cell_type": "code",
   "execution_count": 2,
   "id": "23fd5d59",
   "metadata": {},
   "outputs": [
    {
     "name": "stdout",
     "output_type": "stream",
     "text": [
      "[ True False False False False False False False]\n"
     ]
    }
   ],
   "source": [
    "import numpy as np\n",
    "A = np.array([1, 0, 0, 13, -4, 5, -1, 0])\n",
    "boolean_array = A == 1\n",
    "print(boolean_array)"
   ]
  },
  {
   "cell_type": "code",
   "execution_count": 1,
   "id": "60a5db4e",
   "metadata": {},
   "outputs": [
    {
     "data": {
      "image/png": "[encoded data removed]",
      "text/plain": [
       "<Figure size 640x480 with 1 Axes>"
      ]
     },
     "metadata": {},
     "output_type": "display_data"
    }
   ],
   "source": [
    "import numpy as np\n",
    "import matplotlib.pyplot as plt\n",
    "\n",
    "# Create two 1D NumPy arrays\n",
    "x = np.array([1, 2, 3, 4, 5])\n",
    "y = np.array([10, 12, 15, 18, 20])\n",
    "\n",
    "# Plot scatter plot\n",
    "plt.scatter(x, y, color='blue', marker='o')\n",
    "\n",
    "# Add labels and title\n",
    "plt.xlabel('X-axis')\n",
    "plt.ylabel('Y-axis')\n",
    "plt.title('Simple Scatter Plot')\n",
    "\n",
    "# Show plot\n",
    "plt.show()\n"
   ]
  },
  {
   "cell_type": "code",
   "execution_count": null,
   "id": "362b654e",
   "metadata": {},
   "outputs": [
    {
     "data": {
      "image/png": "[encoded data removed]",
      "text/plain": [
       "<Figure size 640x480 with 1 Axes>"
      ]
     },
     "metadata": {},
     "output_type": "display_data"
    }
   ],
   "source": [
    "import numpy as np\n",
    "import matplotlib.pyplot as plt\n",
    "\n",
    "# Create two 1D NumPy arrays\n",
    "x = np.array([1, 2, 2.4,2.5, 3, 4, 5])\n",
    "y = np.array([10, 12,15,15, 15, 18, 20])\n",
    "\n",
    "plt.scatter(x, y, marker=\"o\", c = \"red\", label = \"Nothing\")\n",
    "\n",
    "# add label and title\n",
    "plt.xlabel(\"X-axis\")\n",
    "plt.ylabel(\"Y-axis\")\n",
    "plt.title(\"Scatter Plot\")\n",
    "\n",
    "# plt.legend()\n",
    "plt.show()\n"
   ]
  },
  {
   "cell_type": "code",
   "execution_count": null,
   "id": "795e98bc",
   "metadata": {},
   "outputs": [
    {
     "data": {
      "image/png": "[encoded data removed]",
      "text/plain": [
       "<Figure size 640x480 with 1 Axes>"
      ]
     },
     "metadata": {},
     "output_type": "display_data"
    }
   ],
   "source": [
    "import numpy as np\n",
    "import matplotlib.pyplot as plt\n",
    "\n",
    "# Create two 1D NumPy arrays\n",
    "x = np.array([1, 2, 2.4,2.5, 3, 4, 5])\n",
    "y = np.array([10, 12,15,15, 15, 18, 20])\n",
    "\n",
    "plt.scatter(x, y, marker=\"o\", c = \"red\", label = \"Nothing\")\n",
    "\n",
    "# add label and title\n",
    "plt.xlabel(\"X-axis\")\n",
    "plt.ylabel(\"Y-axis\")\n",
    "plt.title(\"Scatter Plot\")\n",
    "\n",
    "plt.legend()\n",
    "plt.show()"
   ]
  },
  {
   "cell_type": "code",
   "execution_count": 6,
   "id": "9d58781c",
   "metadata": {},
   "outputs": [
    {
     "name": "stdout",
     "output_type": "stream",
     "text": [
      "X_train2[pos2, 0]: [3.  7.  7.5]\n",
      "X_train2[pos2, 1]: [4. 8. 9.]\n"
     ]
    },
    {
     "data": {
      "image/png": "[encoded data removed]",
      "text/plain": [
       "<Figure size 500x300 with 1 Axes>"
      ]
     },
     "metadata": {},
     "output_type": "display_data"
    }
   ],
   "source": [
    "import numpy as np\n",
    "\n",
    "# Sample data\n",
    "X_train2 = np.array([[1.0, 2.0],  # Row 0: [x_0=1.0, x_1=2.0]\n",
    "                     [3.0, 4.0],  # Row 1: [x_0=3.0, x_1=4.0]\n",
    "                     [5.0, 6.0],  # Row 2: [x_0=5.0, x_1=6.0]\n",
    "                     [7.0, 8.0],\n",
    "                     [7.5, 9.0]]) # Row 3: [x_0=7.0, x_1=8.0]\n",
    "\n",
    "y_train2 = np.array([0, 1, 0, 1, 1])  # Binary labels for each row\n",
    "\n",
    "# Create boolean array for y_train2 == 1\n",
    "pos2 = y_train2 == 1  # [False, True, False, True]\n",
    "\n",
    "# Select rows where pos2 is True and get column 0 (x_0)\n",
    "x0_values = X_train2[pos2, 0]  # Gets x_0 values where y_train2 == 1\n",
    "print(\"X_train2[pos2, 0]:\", x0_values)  # Output: [3. 7.]\n",
    "\n",
    "# Select rows where pos2 is True and get column 1 (x_1)\n",
    "x1_values = X_train2[pos2, 1]  # Gets x_1 values where y_train2 == 1\n",
    "print(\"X_train2[pos2, 1]:\", x1_values)  # Output: [4. 8.]\n",
    "\n",
    "# For context, let's plot these points using matplotlib\n",
    "import matplotlib.pyplot as plt\n",
    "\n",
    "plt.figure(figsize=(5, 3))\n",
    "plt.scatter(x0_values, x1_values, marker='X', s=80, c='red', label='y=1')\n",
    "plt.xlabel('$x_0$', fontsize=12)\n",
    "plt.ylabel('$x_1$', fontsize=12)\n",
    "plt.title('Scatter Plot for y=1')\n",
    "plt.legend()\n",
    "plt.show()"
   ]
  },
  {
   "cell_type": "markdown",
   "id": "f47a9501",
   "metadata": {},
   "source": [
    "**Difference between `scatter()` and `plot()` in matplotlib:**\n",
    "\n",
    "\n",
    "| Feature       | `plt.scatter()`      | `plt.plot()`                    |\n",
    "| ------------- | -------------------- | ------------------------------- |\n",
    "| Appearance    | Dots only            | Dots **connected by lines**     |\n",
    "| Use case      | Relationship, spread | Trend, sequence, function shape |\n",
    "| Customization | Marker, color, size  | Line style, marker, color       |\n"
   ]
  },
  {
   "cell_type": "code",
   "execution_count": 1,
   "id": "a7f9d4af",
   "metadata": {},
   "outputs": [
    {
     "data": {
      "image/png": "[encoded data removed]",
      "text/plain": [
       "<Figure size 640x480 with 2 Axes>"
      ]
     },
     "metadata": {},
     "output_type": "display_data"
    }
   ],
   "source": [
    "import matplotlib.pyplot as plt\n",
    "import numpy as np\n",
    "\n",
    "x = np.array([1, 2, 3, 4, 5])\n",
    "y = np.array([2, 3, 5, 7, 11])\n",
    "\n",
    "# Scatter Plot\n",
    "plt.subplot(1, 2, 1)\n",
    "plt.scatter(x, y, color='blue')\n",
    "plt.title('Scatter')\n",
    "\n",
    "# Line Plot\n",
    "plt.subplot(1, 2, 2)\n",
    "plt.plot(x, y, color='red')\n",
    "plt.title('Plot')\n",
    "\n",
    "plt.show()"
   ]
  },
  {
   "cell_type": "code",
   "execution_count": 1,
   "id": "3892669b",
   "metadata": {},
   "outputs": [
    {
     "data": {
      "image/png": "[encoded data removed]",
      "text/plain": [
       "<Figure size 1400x500 with 2 Axes>"
      ]
     },
     "metadata": {},
     "output_type": "display_data"
    }
   ],
   "source": [
    "import numpy as np\n",
    "import matplotlib.pyplot as plt\n",
    "\n",
    "# Sample training data\n",
    "x_train = np.array([1.0, 2.0])\n",
    "y_train = np.array([300.0, 500.0])\n",
    "\n",
    "# Your cost function\n",
    "def calculate_cost(x, y, w, b):\n",
    "    cost = 0\n",
    "    m = x.shape[0]\n",
    "    for i in range(m):\n",
    "        f_wb = w * x[i] + b\n",
    "        mse = (f_wb - y[i]) ** 2\n",
    "        cost += mse\n",
    "    cost = cost / (2 * m)\n",
    "    return cost\n",
    "\n",
    "# Function to plot\n",
    "def plot_cost_visualization(x, y):\n",
    "    fig, axs = plt.subplots(1, 2, figsize=(14, 5))\n",
    "\n",
    "    # Left Plot: Predictions vs Actual\n",
    "    w = 200\n",
    "    b = 100\n",
    "    y_pred = w * x + b\n",
    "    axs[0].scatter(x, y, color='red', label='Actual Value')\n",
    "    axs[0].plot(x, y_pred, color='blue', label='Our Prediction')\n",
    "    for i in range(len(x)):\n",
    "        axs[0].plot([x[i], x[i]], [y[i], y_pred[i]], color='purple', linestyle='dotted')\n",
    "    axs[0].set_title('Housing Prices')\n",
    "    axs[0].set_xlabel('Size (1000 sqft)')\n",
    "    axs[0].set_ylabel('Price (in 1000s of dollars)')\n",
    "    axs[0].legend()\n",
    "    cost_now = calculate_cost(x, y, w, b)\n",
    "    axs[0].text(1.0, 310, f'cost = (1/m)*sum = {cost_now:.0f}', color='purple')\n",
    "\n",
    "    # Right Plot: Cost vs w (with fixed b)\n",
    "    w_range = np.linspace(0, 400, 100)\n",
    "    cost_values = [calculate_cost(x, y, w_val, b) for w_val in w_range]\n",
    "    axs[1].plot(w_range, cost_values, color='blue')\n",
    "    axs[1].scatter(w, cost_now, color='red', label=f'cost at w={w}')\n",
    "    axs[1].set_title('Cost vs. w, (b fixed at 100)')\n",
    "    axs[1].set_xlabel('w')\n",
    "    axs[1].set_ylabel('Cost')\n",
    "    axs[1].legend()\n",
    "\n",
    "    plt.suptitle(f'Minimize Cost: Current Cost = {cost_now:.0f}', fontsize=14)\n",
    "    plt.show()\n",
    "\n",
    "# Run the visualization\n",
    "plot_cost_visualization(x_train, y_train)\n"
   ]
  },
  {
   "cell_type": "markdown",
   "id": "fa7ca8e2",
   "metadata": {},
   "source": [
    "#### 🔍 What does `plt.subplots(1, 2)` mean?\n",
    "\n",
    "```python\n",
    "fig, axs = plt.subplots(1, 2, figsize=(14, 5))\n",
    "```\n",
    "\n",
    "\n",
    "This function creates a **grid of subplots**. The parameters are:\n",
    "\n",
    "```python\n",
    "plt.subplots(nrows, ncols)\n",
    "```\n",
    "\n",
    "* `1, 2` means:\n",
    "\n",
    "  * **1 row**,\n",
    "  * **2 columns**\n",
    "    → So it creates **2 subplots side by side**.\n",
    "\n",
    "---\n",
    "\n",
    "#### ✅ If you want to plot **3 subplots**, here are options:\n",
    "\n",
    "#### ➤ Option 1: 1 row, 3 columns (horizontal layout)\n",
    "\n",
    "```python\n",
    "fig, axs = plt.subplots(1, 3, figsize=(18, 5))\n",
    "```\n",
    "\n",
    "#### ➤ Option 2: 3 rows, 1 column (vertical layout)\n",
    "\n",
    "```python\n",
    "fig, axs = plt.subplots(3, 1, figsize=(6, 15))\n",
    "```\n",
    "\n",
    "#### ➤ Option 3: 2 rows, 2 columns (for up to 4 subplots in a 2×2 grid)\n",
    "\n",
    "```python\n",
    "fig, axs = plt.subplots(2, 2, figsize=(10, 10))\n",
    "```\n",
    "\n",
    "---"
   ]
  },
  {
   "cell_type": "code",
   "execution_count": null,
   "id": "93f6ce78",
   "metadata": {},
   "outputs": [
    {
     "name": "stdout",
     "output_type": "stream",
     "text": [
      "Ceil of a: 11, b: 11, c: 11\n",
      "Ceil of a: 10, b: 10, c: 10\n",
      "Ceil of a: 10, b: 11, c: 10, d: 11\n"
     ]
    }
   ],
   "source": [
    "import math\n",
    "a = 10.265\n",
    "b = 10.893\n",
    "c = 10.50\n",
    "d = 10.51 # if it becomes .50+ it will round up to next int.\n",
    "print(f\"Ceil of a: {math.ceil(a)}, b: {math.ceil(b)}, c: {math.ceil(c)}\")\n",
    "print(f\"Ceil of a: {math.floor(a)}, b: {math.floor(b)}, c: {math.floor(c)}\")\n",
    "print(f\"Ceil of a: {round(a)}, b: {round(b)}, c: {round(c)}, d: {round(d)}\")"
   ]
  },
  {
   "cell_type": "code",
   "execution_count": 7,
   "id": "89408978",
   "metadata": {},
   "outputs": [
    {
     "name": "stdout",
     "output_type": "stream",
     "text": [
      "Value a:   12 | b: 4.567e-04 | c: -1.230e-05 | d: 1.235e+03 | e: -2.34568e+04\n"
     ]
    }
   ],
   "source": [
    "a = 12             # integer\n",
    "b = 0.0004567      # small float\n",
    "c = -0.0000123     # small negative float\n",
    "d = 1234.56789     # large float\n",
    "e = -23456.7890123 # large negative float\n",
    "\n",
    "print(f\"Value a: {a:4} | b: {b:0.3e} | c: {c:0.3e} | d: {d:0.3e} | e: {e:0.5e}\")\n"
   ]
  },
  {
   "cell_type": "code",
   "execution_count": 2,
   "id": "8f70b528",
   "metadata": {},
   "outputs": [
    {
     "name": "stdout",
     "output_type": "stream",
     "text": [
      "[[10, 20]]\n",
      "[[10, 20], [25, 30]]\n",
      "[[10, 20], [25, 30], [2, 3]]\n"
     ]
    }
   ],
   "source": [
    "x = []\n",
    "x.append([10, 20])\n",
    "print(x)\n",
    "x.append([25, 30])\n",
    "print(x)\n",
    "x.append([2, 3])\n",
    "print(x)"
   ]
  },
  {
   "cell_type": "code",
   "execution_count": null,
   "id": "71547df7",
   "metadata": {},
   "outputs": [],
   "source": [
    "import copy\n",
    "\n",
    "w_in = [[1, 2], [3, 4]]\n",
    "w = copy.deepcopy(w_in)\n",
    "\n",
    "w[0][0] = 999\n",
    "# without deepcopy they refer to the same object\n",
    "print(w_in)  # [[1, 2], [3, 4]] – Unchanged\n",
    "print(w)     # [[999, 2], [3, 4]] – Changed"
   ]
  },
  {
   "cell_type": "code",
   "execution_count": 2,
   "id": "e74f2596",
   "metadata": {},
   "outputs": [
    {
     "name": "stdout",
     "output_type": "stream",
     "text": [
      "[[0.51838178 0.28135962 0.08851686 0.03837215]\n",
      " [0.7902329  0.60437538 0.87218282 0.55241632]\n",
      " [0.52742439 0.8124156  0.53906493 0.85426876]\n",
      " [0.44728158 0.37181473 0.16190063 0.30241946]\n",
      " [0.45905182 0.77650197 0.49400012 0.15715443]\n",
      " [0.26312921 0.80401665 0.3368747  0.31381125]\n",
      " [0.09523193 0.13126712 0.53063647 0.31086235]\n",
      " [0.23003854 0.52341547 0.50329254 0.29530795]\n",
      " [0.83854865 0.39418014 0.22384138 0.15067393]]\n"
     ]
    }
   ],
   "source": [
    "import numpy as np\n",
    "arr_9x4 = np.random.rand(9, 4)\n",
    "print(arr_9x4)"
   ]
  },
  {
   "cell_type": "code",
   "execution_count": 4,
   "id": "e24e68f7",
   "metadata": {},
   "outputs": [
    {
     "name": "stdout",
     "output_type": "stream",
     "text": [
      "[0.74331672 0.68114848 0.78366596 0.81589661]\n"
     ]
    }
   ],
   "source": [
    "print(np.ptp(arr_9x4, axis=0))"
   ]
  },
  {
   "cell_type": "code",
   "execution_count": null,
   "id": "66deeda7",
   "metadata": {},
   "outputs": [
    {
     "name": "stdout",
     "output_type": "stream",
     "text": [
      "0.5190034319502908\n"
     ]
    }
   ],
   "source": [
    "mu = np.mean(arr_9x4)\n",
    "print(mu)"
   ]
  },
  {
   "cell_type": "code",
   "execution_count": 4,
   "id": "6fe7cd41",
   "metadata": {},
   "outputs": [
    {
     "name": "stdout",
     "output_type": "stream",
     "text": [
      "[0.46052649 0.56463371 0.38708279 0.66377074]\n"
     ]
    }
   ],
   "source": [
    "mu = np.mean(arr_9x4, axis = 0)\n",
    "print(mu)"
   ]
  },
  {
   "cell_type": "code",
   "execution_count": 6,
   "id": "822ee9a3",
   "metadata": {},
   "outputs": [
    {
     "name": "stdout",
     "output_type": "stream",
     "text": [
      "[[ 3  7]\n",
      " [10  4]\n",
      " [ 8 12]\n",
      " [15  5]\n",
      " [ 6  9]]\n"
     ]
    }
   ],
   "source": [
    "arr_5x2 = np.array([[3, 7],\n",
    "                    [10, 4],\n",
    "                    [8, 12],\n",
    "                    [15, 5],\n",
    "                    [6, 9]])\n",
    "print(arr_5x2)"
   ]
  },
  {
   "cell_type": "code",
   "execution_count": 7,
   "id": "838203d1",
   "metadata": {},
   "outputs": [
    {
     "name": "stdout",
     "output_type": "stream",
     "text": [
      "[12  8]\n"
     ]
    }
   ],
   "source": [
    "print(np.ptp(arr_5x2, axis=0))"
   ]
  },
  {
   "cell_type": "code",
   "execution_count": 6,
   "id": "f54f923d",
   "metadata": {},
   "outputs": [
    {
     "name": "stdout",
     "output_type": "stream",
     "text": [
      "7.9\n"
     ]
    }
   ],
   "source": [
    "mu = np.mean(arr_5x2)\n",
    "print(mu)"
   ]
  },
  {
   "cell_type": "code",
   "execution_count": 7,
   "id": "699e7914",
   "metadata": {},
   "outputs": [
    {
     "name": "stdout",
     "output_type": "stream",
     "text": [
      "[8.4 7.4]\n"
     ]
    }
   ],
   "source": [
    "mu = np.mean(arr_5x2, axis = 0)\n",
    "print(mu)"
   ]
  },
  {
   "cell_type": "code",
   "execution_count": 8,
   "id": "98c890de",
   "metadata": {},
   "outputs": [
    {
     "name": "stdout",
     "output_type": "stream",
     "text": [
      "[ 5.   7.  10.  10.   7.5]\n"
     ]
    }
   ],
   "source": [
    "mu = np.mean(arr_5x2, axis = 1)\n",
    "print(mu)"
   ]
  },
  {
   "cell_type": "markdown",
   "id": "eb5bd7a5",
   "metadata": {},
   "source": [
    "___\n",
    "**🔹 What is `np.c_[]`?**\n",
    "\n",
    "`np.c_[]` is a **NumPy shortcut** for **column-wise concatenation** (like stacking arrays **side-by-side**).\n",
    "\n",
    "Think of it as:\n",
    "📚 “I want to **combine arrays as columns** to form a matrix.”\n",
    "\n",
    "---\n",
    "\n",
    "✅ Basic Syntax:\n",
    "\n",
    "```python\n",
    "X = np.c_[a, b, c]\n",
    "```\n",
    "\n",
    "This means:\n",
    "\n",
    "> “Create a new matrix `X` where `a`, `b`, and `c` are **columns**.”\n",
    "\n",
    "---\n",
    "\n",
    "**🧠 Why use `np.c_[]`?**\n",
    "\n",
    "When building a machine learning feature matrix, each column should be a different **feature** (input variable).\n",
    "So, if you want to build a matrix of multiple features, `np.c_[]` makes it clean and easy.\n",
    "\n",
    "---\n",
    "\n",
    "**🧪 Example 1: Combine x and x² as features**\n",
    "\n",
    "```python\n",
    "import numpy as np\n",
    "\n",
    "x = np.arange(5)  # [0, 1, 2, 3, 4]\n",
    "x_squared = x**2\n",
    "\n",
    "X = np.c_[x, x_squared]\n",
    "\n",
    "print(X)\n",
    "```\n",
    "\n",
    "**Output:**\n",
    "\n",
    "```\n",
    "[[ 0  0]\n",
    " [ 1  1]\n",
    " [ 2  4]\n",
    " [ 3  9]\n",
    " [ 4 16]]\n",
    "```\n",
    "\n",
    "Now `X` has:\n",
    "\n",
    "* **Column 0** → x\n",
    "* **Column 1** → x²\n",
    "  Perfect for polynomial regression!\n",
    "\n",
    "---\n",
    "\n",
    "**🧪 Example 2: Add a constant feature (bias)**\n",
    "\n",
    "```python\n",
    "x = np.array([1, 2, 3])\n",
    "ones = np.ones_like(x)\n",
    "\n",
    "X = np.c_[ones, x]\n",
    "\n",
    "print(X)\n",
    "```\n",
    "\n",
    "**Output:**\n",
    "\n",
    "```\n",
    "[[1 1]\n",
    " [1 2]\n",
    " [1 3]]\n",
    "```\n",
    "\n",
    "You added a **bias (intercept)** term as the first column.\n",
    "\n",
    "---\n",
    "\n",
    "**🔑 When to use `np.c_[]`?**\n",
    "\n",
    "Use it when:\n",
    "\n",
    "* You need to create a 2D matrix of features (multiple inputs)\n",
    "* You’re adding polynomial features (x, x², x³, etc.)\n",
    "* You want to include a column of ones (bias) manually\n",
    "* You want to stack 1D arrays as columns to feed into a model\n",
    "___"
   ]
  }
 ],
 "metadata": {
  "kernelspec": {
   "display_name": "base",
   "language": "python",
   "name": "python3"
  },
  "language_info": {
   "codemirror_mode": {
    "name": "ipython",
    "version": 3
   },
   "file_extension": ".py",
   "mimetype": "text/x-python",
   "name": "python",
   "nbconvert_exporter": "python",
   "pygments_lexer": "ipython3",
   "version": "3.12.7"
  }
 },
 "nbformat": 4,
 "nbformat_minor": 5
}
