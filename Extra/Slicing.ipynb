{
 "cells": [
  {
   "cell_type": "markdown",
   "id": "427d6f3b",
   "metadata": {},
   "source": [
    "### **Slicing:**"
   ]
  },
  {
   "cell_type": "code",
   "execution_count": 6,
   "id": "3b7e1a79",
   "metadata": {},
   "outputs": [
    {
     "name": "stdout",
     "output_type": "stream",
     "text": [
      "Sliced array:\n",
      " [[1 2 3]\n",
      " [4 5 6]\n",
      " [7 8 9]]\n",
      "Shape of sliced array: (3, 3)\n",
      "Dimension of sliced array: 2\n"
     ]
    }
   ],
   "source": [
    "import numpy as np\n",
    "A = np.array([[1, 2, 3],\n",
    "              [4, 5, 6],\n",
    "              [7, 8, 9]])\n",
    "print(\"Sliced array:\\n\",A[0:])\n",
    "print(\"Shape of sliced array:\", A[0:].shape)\n",
    "print(\"Dimension of sliced array:\",A[0:].ndim)"
   ]
  },
  {
   "cell_type": "code",
   "execution_count": 7,
   "id": "4b412e94",
   "metadata": {},
   "outputs": [
    {
     "name": "stdout",
     "output_type": "stream",
     "text": [
      "Sliced array:\n",
      " [[4 5 6]\n",
      " [7 8 9]]\n",
      "Shape of sliced array: (2, 3)\n",
      "Dimension of sliced array: 2\n"
     ]
    }
   ],
   "source": [
    "print(\"Sliced array:\\n\",A[1:])\n",
    "print(\"Shape of sliced array:\", A[1:].shape)\n",
    "print(\"Dimension of sliced array:\",A[1:].ndim)"
   ]
  },
  {
   "cell_type": "code",
   "execution_count": 8,
   "id": "84ae757a",
   "metadata": {},
   "outputs": [
    {
     "name": "stdout",
     "output_type": "stream",
     "text": [
      "Sliced array:\n",
      " [[7 8 9]]\n",
      "Shape of sliced array: (1, 3)\n",
      "Dimension of sliced array: 2\n"
     ]
    }
   ],
   "source": [
    "print(\"Sliced array:\\n\",A[2:])\n",
    "print(\"Shape of sliced array:\", A[2:].shape)\n",
    "print(\"Dimension of sliced array:\",A[2:].ndim)"
   ]
  },
  {
   "cell_type": "code",
   "execution_count": 12,
   "id": "01ef89a0",
   "metadata": {},
   "outputs": [
    {
     "name": "stdout",
     "output_type": "stream",
     "text": [
      "Sliced array:\n",
      " [[1 2 3]]\n",
      "Shape of sliced array: (1, 3)\n",
      "Dimension of sliced array: 2\n"
     ]
    }
   ],
   "source": [
    "print(\"Sliced array:\\n\",A[0:1])\n",
    "print(\"Shape of sliced array:\", A[0:1].shape)\n",
    "print(\"Dimension of sliced array:\",A[0:1].ndim)"
   ]
  },
  {
   "cell_type": "code",
   "execution_count": 13,
   "id": "30456641",
   "metadata": {},
   "outputs": [
    {
     "name": "stdout",
     "output_type": "stream",
     "text": [
      "Sliced array:\n",
      " [[1 2 3]\n",
      " [4 5 6]]\n",
      "Shape of sliced array: (2, 3)\n",
      "Dimension of sliced array: 2\n"
     ]
    }
   ],
   "source": [
    "print(\"Sliced array:\\n\",A[0:2])\n",
    "print(\"Shape of sliced array:\", A[0:2].shape)\n",
    "print(\"Dimension of sliced array:\",A[0:2].ndim)"
   ]
  },
  {
   "cell_type": "code",
   "execution_count": 14,
   "id": "ebb0426f",
   "metadata": {},
   "outputs": [
    {
     "name": "stdout",
     "output_type": "stream",
     "text": [
      "Sliced array:\n",
      " [[1 2 3]\n",
      " [4 5 6]\n",
      " [7 8 9]]\n",
      "Shape of sliced array: (3, 3)\n",
      "Dimension of sliced array: 2\n"
     ]
    }
   ],
   "source": [
    "print(\"Sliced array:\\n\",A[0:3])\n",
    "print(\"Shape of sliced array:\", A[0:3].shape)\n",
    "print(\"Dimension of sliced array:\",A[0:3].ndim)"
   ]
  },
  {
   "cell_type": "code",
   "execution_count": 17,
   "id": "77435510",
   "metadata": {},
   "outputs": [
    {
     "name": "stdout",
     "output_type": "stream",
     "text": [
      "Sliced array:\n",
      " [[1 2 3]\n",
      " [4 5 6]\n",
      " [7 8 9]]\n",
      "Shape of sliced array: (3, 3)\n",
      "Dimension of sliced array: 2\n"
     ]
    }
   ],
   "source": [
    "print(\"Sliced array:\\n\",A[0:3,0:3])\n",
    "print(\"Shape of sliced array:\", A[0:3,0:3].shape)\n",
    "print(\"Dimension of sliced array:\",A[0:3,0:3].ndim)"
   ]
  },
  {
   "cell_type": "code",
   "execution_count": 15,
   "id": "e5643803",
   "metadata": {},
   "outputs": [
    {
     "name": "stdout",
     "output_type": "stream",
     "text": [
      "Sliced array:\n",
      " [[1 2]\n",
      " [4 5]\n",
      " [7 8]]\n",
      "Shape of sliced array: (3, 2)\n",
      "Dimension of sliced array: 2\n"
     ]
    }
   ],
   "source": [
    "print(\"Sliced array:\\n\",A[0:3,0:2])\n",
    "print(\"Shape of sliced array:\", A[0:3,0:2].shape)\n",
    "print(\"Dimension of sliced array:\",A[0:3,0:2].ndim)"
   ]
  },
  {
   "cell_type": "code",
   "execution_count": 18,
   "id": "57ea2ed6",
   "metadata": {},
   "outputs": [
    {
     "name": "stdout",
     "output_type": "stream",
     "text": [
      "Sliced array:\n",
      " [[1]\n",
      " [4]\n",
      " [7]]\n",
      "Shape of sliced array: (3, 1)\n",
      "Dimension of sliced array: 2\n"
     ]
    }
   ],
   "source": [
    "print(\"Sliced array:\\n\",A[0:3,0:1])\n",
    "print(\"Shape of sliced array:\", A[0:3,0:1].shape)\n",
    "print(\"Dimension of sliced array:\",A[0:3,0:1].ndim)"
   ]
  },
  {
   "cell_type": "code",
   "execution_count": 19,
   "id": "77fb6be0",
   "metadata": {},
   "outputs": [
    {
     "name": "stdout",
     "output_type": "stream",
     "text": [
      "Sliced array:\n",
      " [[2 3]\n",
      " [5 6]]\n",
      "Shape of sliced array: (2, 2)\n",
      "Dimension of sliced array: 2\n"
     ]
    }
   ],
   "source": [
    "print(\"Sliced array:\\n\",A[0:2,1:3])\n",
    "print(\"Shape of sliced array:\", A[0:2,1:3].shape)\n",
    "print(\"Dimension of sliced array:\",A[0:2,1:3].ndim)"
   ]
  },
  {
   "cell_type": "code",
   "execution_count": 20,
   "id": "78c17686",
   "metadata": {},
   "outputs": [
    {
     "name": "stdout",
     "output_type": "stream",
     "text": [
      "Sliced array:\n",
      " [1 2 3]\n",
      "Shape of sliced array: (3,)\n",
      "Dimension of sliced array: 1\n"
     ]
    }
   ],
   "source": [
    "print(\"Sliced array:\\n\",A[0,:])\n",
    "print(\"Shape of sliced array:\", A[0,:].shape)\n",
    "print(\"Dimension of sliced array:\",A[0,:].ndim)"
   ]
  },
  {
   "cell_type": "code",
   "execution_count": 21,
   "id": "adb5460e",
   "metadata": {},
   "outputs": [
    {
     "name": "stdout",
     "output_type": "stream",
     "text": [
      "Sliced array:\n",
      " [4 5 6]\n",
      "Shape of sliced array: (3,)\n",
      "Dimension of sliced array: 1\n"
     ]
    }
   ],
   "source": [
    "print(\"Sliced array:\\n\",A[1,:])\n",
    "print(\"Shape of sliced array:\", A[1,:].shape)\n",
    "print(\"Dimension of sliced array:\",A[1,:].ndim)"
   ]
  },
  {
   "cell_type": "code",
   "execution_count": 22,
   "id": "77be3b21",
   "metadata": {},
   "outputs": [
    {
     "name": "stdout",
     "output_type": "stream",
     "text": [
      "Sliced array:\n",
      " [7 8 9]\n",
      "Shape of sliced array: (3,)\n",
      "Dimension of sliced array: 1\n"
     ]
    }
   ],
   "source": [
    "print(\"Sliced array:\\n\",A[2,:])\n",
    "print(\"Shape of sliced array:\", A[2,:].shape)\n",
    "print(\"Dimension of sliced array:\",A[2,:].ndim)"
   ]
  }
 ],
 "metadata": {
  "kernelspec": {
   "display_name": "base",
   "language": "python",
   "name": "python3"
  },
  "language_info": {
   "codemirror_mode": {
    "name": "ipython",
    "version": 3
   },
   "file_extension": ".py",
   "mimetype": "text/x-python",
   "name": "python",
   "nbconvert_exporter": "python",
   "pygments_lexer": "ipython3",
   "version": "3.12.7"
  }
 },
 "nbformat": 4,
 "nbformat_minor": 5
}
