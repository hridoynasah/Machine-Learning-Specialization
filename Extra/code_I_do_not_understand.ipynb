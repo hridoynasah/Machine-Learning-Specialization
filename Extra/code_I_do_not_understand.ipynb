{
 "cells": [
  {
   "cell_type": "markdown",
   "id": "561ca74e",
   "metadata": {},
   "source": [
    "### **Code explanations:**"
   ]
  },
  {
   "cell_type": "code",
   "execution_count": 2,
   "id": "e2d21454",
   "metadata": {},
   "outputs": [
    {
     "name": "stdout",
     "output_type": "stream",
     "text": [
      "[3.14 2.72 1.41]\n"
     ]
    }
   ],
   "source": [
    "import numpy as np\n",
    "np.set_printoptions(precision=2)\n",
    "arr = np.array([3.14159, 2.71828, 1.41421])\n",
    "print(arr)"
   ]
  },
  {
   "cell_type": "markdown",
   "id": "819aa519",
   "metadata": {},
   "source": [
    "The `np.set_printoptions(precision=2)` function in NumPy sets the number of decimal places to display for floating-point numbers in arrays to 2."
   ]
  },
  {
   "cell_type": "code",
   "execution_count": 3,
   "id": "475b8d3b",
   "metadata": {},
   "outputs": [
    {
     "name": "stdout",
     "output_type": "stream",
     "text": [
      "118\n"
     ]
    }
   ],
   "source": [
    "a = np.array([9, 7, 4, 5])\n",
    "b = np.array([7, 3, 1, 6])\n",
    "\n",
    "\n",
    "ans = np.dot(a, b)\n",
    "# ans = [(9*7) + (7*3) + (4*1) + (5*6)]\n",
    "# ans = [63 + 21 + 4 + 30]\n",
    "# ans = 118\n",
    "print(ans)"
   ]
  },
  {
   "cell_type": "code",
   "execution_count": 4,
   "id": "e5399ed6",
   "metadata": {},
   "outputs": [
    {
     "name": "stdout",
     "output_type": "stream",
     "text": [
      "[[ 30  24  18]\n",
      " [ 84  69  54]\n",
      " [138 114  90]]\n"
     ]
    }
   ],
   "source": [
    "A = np.array([[1, 2, 3],\n",
    "              [4, 5, 6],\n",
    "              [7, 8, 9]])\n",
    "\n",
    "B = np.array([[9, 8, 7],\n",
    "              [6, 5, 4],\n",
    "              [3, 2, 1]])\n",
    "\n",
    "ans = np.dot(A, B)\n",
    "# The dot product of two matrices A and B results in a new matrix C,\n",
    "# where each element C[i, j] is the dot product of the i-th row of A\n",
    "# and the j-th column of B.\n",
    "\n",
    "# C[0,0] = (A[0,0]*B[0,0]) + (A[0,1]*B[1,0]) + (A[0,2]*B[2,0])\n",
    "#        = (1*9) + (2*6) + (3*3) = 9 + 12 + 9 = 30\n",
    "# C[0,1] = (A[0,0]*B[0,1]) + (A[0,1]*B[1,1]) + (A[0,2]*B[2,1])\n",
    "#        = (1*8) + (2*5) + (3*2) = 8 + 10 + 6 = 24\n",
    "# C[0,2] = (A[0,0]*B[0,2]) + (A[0,1]*B[1,2]) + (A[0,2]*B[2,2])\n",
    "#        = (1*7) + (2*4) + (3*1) = 7 + 8 + 3 = 18\n",
    "\n",
    "# C[1,0] = (A[1,0]*B[0,0]) + (A[1,1]*B[1,0]) + (A[1,2]*B[2,0])\n",
    "#        = (4*9) + (5*6) + (6*3) = 36 + 30 + 18 = 84\n",
    "# C[1,1] = (A[1,0]*B[0,1]) + (A[1,1]*B[1,1]) + (A[1,2]*B[2,1])\n",
    "#        = (4*8) + (5*5) + (6*2) = 32 + 25 + 12 = 69\n",
    "# C[1,2] = (A[1,0]*B[0,2]) + (A[1,1]*B[1,2]) + (A[1,2]*B[2,2])\n",
    "#        = (4*7) + (5*4) + (6*1) = 28 + 20 + 6 = 54\n",
    "\n",
    "# C[2,0] = (A[2,0]*B[0,0]) + (A[2,1]*B[1,0]) + (A[2,2]*B[2,0])\n",
    "#        = (7*9) + (8*6) + (9*3) = 63 + 48 + 27 = 138\n",
    "# C[2,1] = (A[2,0]*B[0,1]) + (A[2,1]*B[1,1]) + (A[2,2]*B[2,1])\n",
    "#        = (7*8) + (8*5) + (9*2) = 56 + 40 + 18 = 114\n",
    "# C[2,2] = (A[2,0]*B[0,2]) + (A[2,1]*B[1,2]) + (A[2,2]*B[2,2])\n",
    "#        = (7*7) + (8*4) + (9*1) = 49 + 32 + 9 = 90\n",
    "\n",
    "# ans = [[30, 24, 18],\n",
    "#        [84, 69, 54],\n",
    "#        [138, 114, 90]]\n",
    "print(ans)"
   ]
  },
  {
   "cell_type": "code",
   "execution_count": 5,
   "id": "705ada49",
   "metadata": {},
   "outputs": [
    {
     "name": "stdout",
     "output_type": "stream",
     "text": [
      "[[ 30  24  18]\n",
      " [ 84  69  54]\n",
      " [138 114  90]]\n"
     ]
    }
   ],
   "source": [
    "A = np.array([[1, 2, 3],\n",
    "              [4, 5, 6],\n",
    "              [7, 8, 9]])\n",
    "\n",
    "B = np.array([[9, 8, 7],\n",
    "              [6, 5, 4],\n",
    "              [3, 2, 1]])\n",
    "\n",
    "ans = A@B\n",
    "print(ans)"
   ]
  },
  {
   "cell_type": "code",
   "execution_count": null,
   "id": "5a29e951",
   "metadata": {},
   "outputs": [
    {
     "name": "stdout",
     "output_type": "stream",
     "text": [
      "(3, 3) (3,)\n",
      "[140 320 500]\n"
     ]
    }
   ],
   "source": [
    "A = np.array([[1, 2, 3],\n",
    "              [4, 5, 6],\n",
    "              [7, 8, 9]])\n",
    "\n",
    "# B visually looks like a row matrix but it is actually a columan matrix\n",
    "B = np.array([10, 20, 30])\n",
    "\n",
    "# A(3x3) & B(1x3)\n",
    "print(A.shape, B.shape)\n",
    "ans = A @ B\n",
    "print(ans)"
   ]
  }
 ],
 "metadata": {
  "kernelspec": {
   "display_name": "base",
   "language": "python",
   "name": "python3"
  },
  "language_info": {
   "codemirror_mode": {
    "name": "ipython",
    "version": 3
   },
   "file_extension": ".py",
   "mimetype": "text/x-python",
   "name": "python",
   "nbconvert_exporter": "python",
   "pygments_lexer": "ipython3",
   "version": "3.12.7"
  }
 },
 "nbformat": 4,
 "nbformat_minor": 5
}
