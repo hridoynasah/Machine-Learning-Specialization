{
 "cells": [
  {
   "cell_type": "markdown",
   "id": "05beede1",
   "metadata": {},
   "source": [
    "**OOP using Python**  \n",
    "\n",
    "Tutorial link: [OOP using Python](https://github.com/hridoynasah/Machine-Learning-Specialization/blob/main/Extra/oop/Python_OOP_Tutorial.markdown)"
   ]
  },
  {
   "cell_type": "markdown",
   "id": "ab56c8fa",
   "metadata": {},
   "source": [
    "* How do you define a class in Python?"
   ]
  },
  {
   "cell_type": "code",
   "execution_count": null,
   "id": "64a0ca90",
   "metadata": {},
   "outputs": [],
   "source": [
    "class Employee:\n",
    "    def __init__(self, name, age): # constructor\n",
    "        self.name = name\n",
    "        self.age = age"
   ]
  },
  {
   "cell_type": "markdown",
   "id": "32b9d8a5",
   "metadata": {},
   "source": [
    "* A **class** is a blueprint for creating objects, while an **instance** is a specific object created from that blueprint. \n"
   ]
  },
  {
   "cell_type": "code",
   "execution_count": null,
   "id": "fc319dbb",
   "metadata": {},
   "outputs": [
    {
     "name": "stdout",
     "output_type": "stream",
     "text": [
      "Hridoy\n",
      "Hridoy\n"
     ]
    }
   ],
   "source": [
    "# All object will have the class attribute\n",
    "class Student:\n",
    "    name = \"Hridoy\" # Class attribute\n",
    "\n",
    "s1 = Student()\n",
    "print(s1.name)\n",
    "s2 = Student()\n",
    "print(s2.name)"
   ]
  },
  {
   "cell_type": "code",
   "execution_count": 2,
   "id": "c6d8324c",
   "metadata": {},
   "outputs": [
    {
     "name": "stdout",
     "output_type": "stream",
     "text": [
      "Car color: Black\n",
      "Car brand: BMW\n"
     ]
    }
   ],
   "source": [
    "class Car:\n",
    "    color = \"Black\"\n",
    "    brand = \"BMW\"\n",
    "\n",
    "car1 = Car()\n",
    "print(f\"Car color: {car1.color}\")\n",
    "print(f\"Car brand: {car1.brand}\")"
   ]
  },
  {
   "cell_type": "markdown",
   "id": "fbd144ac",
   "metadata": {},
   "source": [
    "* Constructor: Default Constructor"
   ]
  },
  {
   "cell_type": "code",
   "execution_count": 6,
   "id": "b2ba1a62",
   "metadata": {},
   "outputs": [
    {
     "name": "stdout",
     "output_type": "stream",
     "text": [
      "<__main__.Student object at 0x000001C03E89B650>\n",
      "Adding a student to Database...\n",
      "<__main__.Student object at 0x000001C03E89B650>\n"
     ]
    }
   ],
   "source": [
    "# Default costructor called automatically in the time of creating object\n",
    "class Student:\n",
    "    name = \"Hridoy\"\n",
    "    def __init__(self): # Default costructor\n",
    "        print(self)\n",
    "        print(\"Adding a student to Database...\")\n",
    "\n",
    "s1 = Student() # Calling automatically\n",
    "print(s1)"
   ]
  },
  {
   "cell_type": "markdown",
   "id": "91c5a4cf",
   "metadata": {},
   "source": [
    "* `self` is a reference to the current object (instance) of the class, used to access its attributes and methods. "
   ]
  },
  {
   "cell_type": "markdown",
   "id": "28586eea",
   "metadata": {},
   "source": [
    "* Parameterized Constructor:"
   ]
  },
  {
   "cell_type": "code",
   "execution_count": 13,
   "id": "b1edd9b9",
   "metadata": {},
   "outputs": [
    {
     "name": "stdout",
     "output_type": "stream",
     "text": [
      "adding new Student in Database...\n",
      "Hridoy\n",
      "80\n"
     ]
    }
   ],
   "source": [
    "class Student:\n",
    "\n",
    "    def __init__(self):\n",
    "        print(\"This is a default constructor...\")\n",
    "\n",
    "    def __init__(self, fullname, marks):\n",
    "        self.name = fullname\n",
    "        self.marks = marks\n",
    "        print(\"adding new Student in Database...\")\n",
    "\n",
    "# Last defined constructor takes precedence\n",
    "s1 = Student(\"Hridoy\", 80)\n",
    "print(s1.name)\n",
    "print(s1.marks)"
   ]
  },
  {
   "cell_type": "code",
   "execution_count": 11,
   "id": "1cf83842",
   "metadata": {},
   "outputs": [
    {
     "name": "stdout",
     "output_type": "stream",
     "text": [
      "Default constructor called\n"
     ]
    }
   ],
   "source": [
    "class Student:\n",
    "    def __init__(self, name):  # Parameterized constructor\n",
    "        self.name = name\n",
    "        print(\"Creating new student\")\n",
    "\n",
    "    def __init__(self):  # Default constructor (this will override the parameterized one)\n",
    "        print(\"Default constructor called\")\n",
    "\n",
    "# Only one constructor is used; the last defined constructor takes precedence\n",
    "s1 = Student()  # Output: Default constructor called"
   ]
  },
  {
   "cell_type": "markdown",
   "id": "4fa55864",
   "metadata": {},
   "source": [
    "* Class variable vs Instance Variable  \n",
    "If some is common for all objects then it will be a class variable."
   ]
  },
  {
   "cell_type": "code",
   "execution_count": null,
   "id": "32a159c2",
   "metadata": {},
   "outputs": [
    {
     "name": "stdout",
     "output_type": "stream",
     "text": [
      "SSNIC\n",
      "Hridoy\n",
      "80\n",
      "Hasan\n"
     ]
    }
   ],
   "source": [
    "# Instance attribute > Class attribute\n",
    "class Student:\n",
    "    college_name = \"SSNIC\"\n",
    "    my_name = \"anonymous\"\n",
    "    def __init__(self, fullname, marks, my_name):\n",
    "        self.name = fullname\n",
    "        self.marks = marks\n",
    "        self.my_name = my_name\n",
    "\n",
    "s1 = Student(\"Hridoy\", 80, \"Hasan\")\n",
    "print(s1.college_name)\n",
    "print(s1.name)\n",
    "print(s1.marks)\n",
    "print(s1.my_name)"
   ]
  },
  {
   "cell_type": "markdown",
   "id": "a97d7855",
   "metadata": {},
   "source": [
    "* Method"
   ]
  },
  {
   "cell_type": "code",
   "execution_count": 18,
   "id": "5e10e895",
   "metadata": {},
   "outputs": [
    {
     "name": "stdout",
     "output_type": "stream",
     "text": [
      "Welcome to SSNIC, Hridoy Hasan.\n",
      "Hridoy Hasan, your marks is 89.\n"
     ]
    }
   ],
   "source": [
    "class Student:\n",
    "    college_name = \"SSNIC\"\n",
    "    def __init__(self, name, marks):\n",
    "        self.name = name\n",
    "        self.marks = marks\n",
    "    def welcome(self):\n",
    "        print(f\"Welcome to {self.college_name}, {self.name}.\") # without self not possible\n",
    "    def get_marks(self):\n",
    "        return self.marks\n",
    "\n",
    "s1 = Student(\"Hridoy Hasan\", 89)\n",
    "s1.welcome()\n",
    "print(f\"{s1.name}, your marks is {s1.get_marks()}.\")"
   ]
  },
  {
   "cell_type": "markdown",
   "id": "2a452f28",
   "metadata": {},
   "source": [
    "* Problem solving:"
   ]
  },
  {
   "cell_type": "code",
   "execution_count": 20,
   "id": "cfd34549",
   "metadata": {},
   "outputs": [
    {
     "name": "stdout",
     "output_type": "stream",
     "text": [
      "94.0\n"
     ]
    }
   ],
   "source": [
    "class Student:\n",
    "    def __init__(self, name, sub1_marks, sub2_marks, sub3_marks):\n",
    "        self.name = name\n",
    "        self.sub1_marks = sub1_marks\n",
    "        self.sub2_marks = sub2_marks\n",
    "        self.sub3_marks = sub3_marks\n",
    "\n",
    "    def get_avg_marks(self):\n",
    "        avg_marks = (self.sub1_marks+\n",
    "                     self.sub2_marks+\n",
    "                     self.sub3_marks) / 3\n",
    "        return avg_marks\n",
    "\n",
    "s = Student(\"Hridoy\", 90, 95, 97)\n",
    "print(s.get_avg_marks())"
   ]
  },
  {
   "cell_type": "markdown",
   "id": "4ed27194",
   "metadata": {},
   "source": [
    "* Normal method, class method, static method"
   ]
  },
  {
   "cell_type": "code",
   "execution_count": null,
   "id": "ed97a417",
   "metadata": {},
   "outputs": [
    {
     "name": "stdout",
     "output_type": "stream",
     "text": [
      "Welcome to SSNIC.\n",
      "Welcome to SSNIC\n",
      "Welcome to SSNIC\n"
     ]
    }
   ],
   "source": [
    "class Student:\n",
    "    clg_name = \"SSNIC\"\n",
    "\n",
    "    @staticmethod\n",
    "    def welcome():\n",
    "        print(f\"Welcome to SSNIC.\")\n",
    "\n",
    "    @classmethod\n",
    "    def greeting(cls):\n",
    "        print(f\"Welcome to {cls.clg_name}\")\n",
    "\n",
    "    def welcome_clg(self):\n",
    "        print(f\"Welcome to {self.clg_name}\")\n",
    "\n",
    "s = Student()\n",
    "s.welcome()\n",
    "s.greeting()\n",
    "s.welcome_clg()"
   ]
  },
  {
   "cell_type": "code",
   "execution_count": 8,
   "id": "8625b38f",
   "metadata": {},
   "outputs": [
    {
     "name": "stdout",
     "output_type": "stream",
     "text": [
      "My collge was before change : SGC\n",
      "My collge was after change  : SSNIC\n"
     ]
    }
   ],
   "source": [
    "# Class methods special feature it can change the value of class attribute\n",
    "class Student:\n",
    "    clg_name = \"SGC\"\n",
    "\n",
    "    @classmethod\n",
    "    def cng_clg_name(cls):\n",
    "        cls.clg_name = \"SSNIC\"\n",
    "\n",
    "    def get_clg(self):\n",
    "        return self.clg_name\n",
    "\n",
    "s = Student()\n",
    "print(f\"My collge was before change : {s.get_clg()}\") # before change\n",
    "# To change the college name call the chaning function\n",
    "s.cng_clg_name()\n",
    "print(f\"My collge was after change  : {s.get_clg()}\")"
   ]
  },
  {
   "cell_type": "markdown",
   "id": "82993243",
   "metadata": {},
   "source": [
    "* The `del` keyword"
   ]
  },
  {
   "cell_type": "code",
   "execution_count": 9,
   "id": "32f0315b",
   "metadata": {},
   "outputs": [
    {
     "name": "stdout",
     "output_type": "stream",
     "text": [
      "Student Hridoy created\n",
      "Hridoy\n",
      "AttributeError: Student object has no attribute name\n",
      "NameError: name s1 is not defined\n"
     ]
    }
   ],
   "source": [
    "class Student:\n",
    "    def __init__(self, name):\n",
    "        self.name = name\n",
    "        print(f\"Student {self.name} created\")\n",
    "\n",
    "s1 = Student(\"Hridoy\")\n",
    "print(s1.name)\n",
    "\n",
    "del s1.name\n",
    "\n",
    "try:\n",
    "    print(s1.name)\n",
    "except AttributeError:\n",
    "    print(\"AttributeError: Student object has no attribute name\")\n",
    "\n",
    "del s1\n",
    "try:\n",
    "    print(s1)\n",
    "except NameError:\n",
    "    print(\"NameError: name s1 is not defined\")"
   ]
  },
  {
   "cell_type": "markdown",
   "id": "83dc0271",
   "metadata": {},
   "source": [
    "* Inheritance"
   ]
  },
  {
   "cell_type": "code",
   "execution_count": 12,
   "id": "82f6a3c7",
   "metadata": {},
   "outputs": [
    {
     "name": "stdout",
     "output_type": "stream",
     "text": [
      "Person name: Alice\n",
      "Perosn age : 20\n",
      "Student's ID: S101\n",
      "Person name: Mr. Smith\n",
      "Perosn age : 40\n",
      "Teach : Mathematics\n"
     ]
    }
   ],
   "source": [
    "class Person:\n",
    "\n",
    "    def __init__(self, name, age):\n",
    "        self.name = name\n",
    "        self.age  = age\n",
    "\n",
    "    def show_details(self):\n",
    "        print(f\"Person name: {self.name}\")\n",
    "        print(f\"Perosn age : {self.age}\")\n",
    "\n",
    "class Student(Person):\n",
    "\n",
    "    def __init__(self, name, age, std_id):\n",
    "        super().__init__(name, age)\n",
    "        self.std_id = std_id\n",
    "    def show_details(self):\n",
    "        super().show_details()\n",
    "        print(f\"Student's ID: {self.std_id}\")\n",
    "\n",
    "class Teacher(Person):\n",
    "\n",
    "    def __init__(self, name, age, course):\n",
    "        super().__init__(name, age)\n",
    "        self.course = course\n",
    "    def show_details(self):\n",
    "        super().show_details()\n",
    "        print(f\"Teach : {self.course}\")\n",
    "\n",
    "s1 = Student(\"Alice\", 20, \"S101\")\n",
    "t1 = Teacher(\"Mr. Smith\", 40, \"Mathematics\")\n",
    "\n",
    "s1.show_details()\n",
    "t1.show_details()"
   ]
  },
  {
   "cell_type": "markdown",
   "id": "12ba44d2",
   "metadata": {},
   "source": [
    "* Vehicle Rental System"
   ]
  },
  {
   "cell_type": "code",
   "execution_count": 14,
   "id": "60ac46f3",
   "metadata": {},
   "outputs": [
    {
     "name": "stdout",
     "output_type": "stream",
     "text": [
      "Vehicle Brand   : Toyota\n",
      "Vehicle Model   : Corolla\n",
      "Vehicle Year    : 2020\n",
      "This car have 5 seats\n",
      "\n",
      "Vehicle Brand   : Tesla\n",
      "Vehicle Model   : Model 3\n",
      "Vehicle Year    : 2023\n",
      "This car have 5 seats\n",
      "This battery ranges 450 in km\n"
     ]
    }
   ],
   "source": [
    "class Vehicle:\n",
    "    veh = \"Vehicle\"\n",
    "    def __init__(self, brand, model, year):\n",
    "        self.brand = brand\n",
    "        self.model = model\n",
    "        self.year = year\n",
    "\n",
    "    def show_info(self):\n",
    "        print(f\"{self.veh} Brand   : {self.brand}\")\n",
    "        print(f\"{self.veh} Model   : {self.model}\")\n",
    "        print(f\"{self.veh} Year    : {self.year}\")\n",
    "\n",
    "class Car(Vehicle):\n",
    "\n",
    "    def __init__(self, brand, model, year, seats):\n",
    "        super().__init__(brand, model, year)\n",
    "        self.seats = seats\n",
    "\n",
    "    def show_info(self):\n",
    "        super().show_info()\n",
    "        print(f\"This car have {self.seats} seats\")\n",
    "\n",
    "class ElectricCar(Car):\n",
    "\n",
    "    def __init__(self, brand, model, year, seats, battery_range):\n",
    "        super().__init__(brand, model, year, seats)\n",
    "        self.battery_range = battery_range\n",
    "\n",
    "    def show_info(self):\n",
    "        super().show_info()\n",
    "        print(f\"This battery ranges {self.battery_range} in km\")\n",
    "\n",
    "\n",
    "c1 = Car(\"Toyota\", \"Corolla\", 2020, 5)\n",
    "e1 = ElectricCar(\"Tesla\", \"Model 3\", 2023, 5, 450)\n",
    "\n",
    "c1.show_info()\n",
    "print()\n",
    "e1.show_info()"
   ]
  },
  {
   "cell_type": "markdown",
   "id": "f21b2186",
   "metadata": {},
   "source": [
    "* Vehicle Rental System with Rentals"
   ]
  },
  {
   "cell_type": "code",
   "execution_count": null,
   "id": "bb2e8a8c",
   "metadata": {},
   "outputs": [
    {
     "name": "stdout",
     "output_type": "stream",
     "text": [
      "Customer name: Alice\n",
      "Vehicle Brand   : Toyota\n",
      "Vehicle Model   : Corolla\n",
      "Vehicle Year    : 2020\n",
      "This car have 5 seats\n",
      "Total cost: 120 USD\n",
      "\n",
      "Customer name: Bob\n",
      "Vehicle Brand   : Tesla\n",
      "Vehicle Model   : Model 3\n",
      "Vehicle Year    : 2023\n",
      "This car have 5 seats\n",
      "This battery ranges 450 in km\n",
      "Total cost: 120 USD\n"
     ]
    }
   ],
   "source": [
    "class Vehicle:\n",
    "    veh = \"Vehicle\"\n",
    "    def __init__(self, brand, model, year):\n",
    "        self.brand = brand\n",
    "        self.model = model\n",
    "        self.year = year\n",
    "\n",
    "    def show_info(self):\n",
    "        print(f\"{self.veh} Brand   : {self.brand}\")\n",
    "        print(f\"{self.veh} Model   : {self.model}\")\n",
    "        print(f\"{self.veh} Year    : {self.year}\")\n",
    "\n",
    "class Car(Vehicle):\n",
    "\n",
    "    def __init__(self, brand, model, year, seats):\n",
    "        super().__init__(brand, model, year)\n",
    "        self.seats = seats\n",
    "\n",
    "    def show_info(self):\n",
    "        super().show_info()\n",
    "        print(f\"This car have {self.seats} seats\")\n",
    "\n",
    "class ElectricCar(Car):\n",
    "\n",
    "    def __init__(self, brand, model, year, seats, battery_range):\n",
    "        super().__init__(brand, model, year, seats)\n",
    "        self.battery_range = battery_range\n",
    "\n",
    "    def show_info(self):\n",
    "        super().show_info()\n",
    "        print(f\"This battery ranges {self.battery_range} in km\")\n",
    "\n",
    "class Rental:\n",
    "\n",
    "    def __init__(self, customer_name, vehicle, days):\n",
    "        self.customer_name = customer_name\n",
    "        self.vehicle = vehicle\n",
    "        self.days = days\n",
    "\n",
    "    def rental_info(self):\n",
    "        print(f\"Customer name: {self.customer_name}\")\n",
    "        self.vehicle.show_info()\n",
    "\n",
    "    def calculate_cost(self):\n",
    "        if isinstance(self.vehicle, ElectricCar):\n",
    "            return self.days * 60\n",
    "        else:\n",
    "            return self.days * 40\n",
    "\n",
    "c1 = Car(\"Toyota\", \"Corolla\", 2020, 5)\n",
    "e1 = ElectricCar(\"Tesla\", \"Model 3\", 2023, 5, 450)\n",
    "\n",
    "r1 = Rental(\"Alice\", c1, 3)\n",
    "r2 = Rental(\"Bob\", e1, 2)\n",
    "\n",
    "r1.rental_info()\n",
    "print(\"Total cost:\", r1.calculate_cost(), \"USD\")\n",
    "print()\n",
    "r2.rental_info()\n",
    "print(\"Total cost:\", r2.calculate_cost(), \"USD\")"
   ]
  }
 ],
 "metadata": {
  "kernelspec": {
   "display_name": "base",
   "language": "python",
   "name": "python3"
  },
  "language_info": {
   "codemirror_mode": {
    "name": "ipython",
    "version": 3
   },
   "file_extension": ".py",
   "mimetype": "text/x-python",
   "name": "python",
   "nbconvert_exporter": "python",
   "pygments_lexer": "ipython3",
   "version": "3.12.7"
  }
 },
 "nbformat": 4,
 "nbformat_minor": 5
}
