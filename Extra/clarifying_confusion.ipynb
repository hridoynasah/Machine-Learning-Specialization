{
 "cells": [
  {
   "cell_type": "markdown",
   "id": "561ca74e",
   "metadata": {},
   "source": [
    "### **Code explanations:**"
   ]
  },
  {
   "cell_type": "code",
   "execution_count": 1,
   "id": "e2d21454",
   "metadata": {},
   "outputs": [
    {
     "name": "stdout",
     "output_type": "stream",
     "text": [
      "[3.14 2.72 1.41]\n"
     ]
    }
   ],
   "source": [
    "import numpy as np\n",
    "np.set_printoptions(precision=2)\n",
    "arr = np.array([3.14159, 2.71828, 1.41421])\n",
    "print(arr)"
   ]
  },
  {
   "cell_type": "markdown",
   "id": "819aa519",
   "metadata": {},
   "source": [
    "The `np.set_printoptions(precision=2)` function in NumPy sets the number of decimal places to display for floating-point numbers in arrays to 2."
   ]
  },
  {
   "cell_type": "code",
   "execution_count": 2,
   "id": "475b8d3b",
   "metadata": {},
   "outputs": [
    {
     "name": "stdout",
     "output_type": "stream",
     "text": [
      "118\n"
     ]
    }
   ],
   "source": [
    "a = np.array([9, 7, 4, 5])\n",
    "b = np.array([7, 3, 1, 6])\n",
    "\n",
    "\n",
    "ans = np.dot(a, b)\n",
    "# ans = [(9*7) + (7*3) + (4*1) + (5*6)]\n",
    "# ans = [63 + 21 + 4 + 30]\n",
    "# ans = 118\n",
    "print(ans)"
   ]
  },
  {
   "cell_type": "code",
   "execution_count": 3,
   "id": "e5399ed6",
   "metadata": {},
   "outputs": [
    {
     "name": "stdout",
     "output_type": "stream",
     "text": [
      "[[ 30  24  18]\n",
      " [ 84  69  54]\n",
      " [138 114  90]]\n"
     ]
    }
   ],
   "source": [
    "A = np.array([[1, 2, 3],\n",
    "              [4, 5, 6],\n",
    "              [7, 8, 9]])\n",
    "\n",
    "B = np.array([[9, 8, 7],\n",
    "              [6, 5, 4],\n",
    "              [3, 2, 1]])\n",
    "\n",
    "ans = np.dot(A, B)\n",
    "# The dot product of two matrices A and B results in a new matrix C,\n",
    "# where each element C[i, j] is the dot product of the i-th row of A\n",
    "# and the j-th column of B.\n",
    "\n",
    "# C[0,0] = (A[0,0]*B[0,0]) + (A[0,1]*B[1,0]) + (A[0,2]*B[2,0])\n",
    "#        = (1*9) + (2*6) + (3*3) = 9 + 12 + 9 = 30\n",
    "# C[0,1] = (A[0,0]*B[0,1]) + (A[0,1]*B[1,1]) + (A[0,2]*B[2,1])\n",
    "#        = (1*8) + (2*5) + (3*2) = 8 + 10 + 6 = 24\n",
    "# C[0,2] = (A[0,0]*B[0,2]) + (A[0,1]*B[1,2]) + (A[0,2]*B[2,2])\n",
    "#        = (1*7) + (2*4) + (3*1) = 7 + 8 + 3 = 18\n",
    "\n",
    "# C[1,0] = (A[1,0]*B[0,0]) + (A[1,1]*B[1,0]) + (A[1,2]*B[2,0])\n",
    "#        = (4*9) + (5*6) + (6*3) = 36 + 30 + 18 = 84\n",
    "# C[1,1] = (A[1,0]*B[0,1]) + (A[1,1]*B[1,1]) + (A[1,2]*B[2,1])\n",
    "#        = (4*8) + (5*5) + (6*2) = 32 + 25 + 12 = 69\n",
    "# C[1,2] = (A[1,0]*B[0,2]) + (A[1,1]*B[1,2]) + (A[1,2]*B[2,2])\n",
    "#        = (4*7) + (5*4) + (6*1) = 28 + 20 + 6 = 54\n",
    "\n",
    "# C[2,0] = (A[2,0]*B[0,0]) + (A[2,1]*B[1,0]) + (A[2,2]*B[2,0])\n",
    "#        = (7*9) + (8*6) + (9*3) = 63 + 48 + 27 = 138\n",
    "# C[2,1] = (A[2,0]*B[0,1]) + (A[2,1]*B[1,1]) + (A[2,2]*B[2,1])\n",
    "#        = (7*8) + (8*5) + (9*2) = 56 + 40 + 18 = 114\n",
    "# C[2,2] = (A[2,0]*B[0,2]) + (A[2,1]*B[1,2]) + (A[2,2]*B[2,2])\n",
    "#        = (7*7) + (8*4) + (9*1) = 49 + 32 + 9 = 90\n",
    "\n",
    "# ans = [[30, 24, 18],\n",
    "#        [84, 69, 54],\n",
    "#        [138, 114, 90]]\n",
    "print(ans)"
   ]
  },
  {
   "cell_type": "code",
   "execution_count": 4,
   "id": "705ada49",
   "metadata": {},
   "outputs": [
    {
     "name": "stdout",
     "output_type": "stream",
     "text": [
      "[[ 30  24  18]\n",
      " [ 84  69  54]\n",
      " [138 114  90]]\n"
     ]
    }
   ],
   "source": [
    "A = np.array([[1, 2, 3],\n",
    "              [4, 5, 6],\n",
    "              [7, 8, 9]])\n",
    "\n",
    "B = np.array([[9, 8, 7],\n",
    "              [6, 5, 4],\n",
    "              [3, 2, 1]])\n",
    "\n",
    "ans = A@B\n",
    "print(ans)"
   ]
  },
  {
   "cell_type": "code",
   "execution_count": 5,
   "id": "5a29e951",
   "metadata": {},
   "outputs": [
    {
     "name": "stdout",
     "output_type": "stream",
     "text": [
      "(3, 3) (3,)\n",
      "[140 320 500]\n"
     ]
    }
   ],
   "source": [
    "A = np.array([[1, 2, 3],\n",
    "              [4, 5, 6],\n",
    "              [7, 8, 9]])\n",
    "\n",
    "# B visually looks like a row matrix but it is actually a columan matrix\n",
    "B = np.array([10, 20, 30])\n",
    "\n",
    "# A(3x3) & B(3x1)\n",
    "print(A.shape, B.shape)\n",
    "ans = A @ B\n",
    "print(ans)"
   ]
  },
  {
   "cell_type": "code",
   "execution_count": 7,
   "id": "44cb9f0a",
   "metadata": {},
   "outputs": [
    {
     "name": "stdout",
     "output_type": "stream",
     "text": [
      "(3, 3) (3,)\n",
      "[ 100 2500 1600]\n"
     ]
    }
   ],
   "source": [
    "A = np.array([[1, 2, 3],\n",
    "              [4, 5, 6],\n",
    "              [7, 8, 9]])\n",
    "\n",
    "# B visually looks like a row matrix but it is actually a columan matrix\n",
    "B = np.array([10, 20, 30])\n",
    "\n",
    "# A(3x3) & B(3x1)\n",
    "print(A.shape, B.shape)\n",
    "X = A @ B\n",
    "\n",
    "C = np.array([130, 270, 460])\n",
    "\n",
    "ans = np.power((X - C), 2)\n",
    "\n",
    "print(ans)"
   ]
  },
  {
   "cell_type": "code",
   "execution_count": 2,
   "id": "23fd5d59",
   "metadata": {},
   "outputs": [
    {
     "name": "stdout",
     "output_type": "stream",
     "text": [
      "[ True False False False False False False False]\n"
     ]
    }
   ],
   "source": [
    "import numpy as np\n",
    "A = np.array([1, 0, 0, 13, -4, 5, -1, 0])\n",
    "boolean_array = A == 1\n",
    "print(boolean_array)"
   ]
  },
  {
   "cell_type": "code",
   "execution_count": 1,
   "id": "60a5db4e",
   "metadata": {},
   "outputs": [
    {
     "data": {
      "image/png": "[encoded data removed]",
      "text/plain": [
       "<Figure size 640x480 with 1 Axes>"
      ]
     },
     "metadata": {},
     "output_type": "display_data"
    }
   ],
   "source": [
    "import numpy as np\n",
    "import matplotlib.pyplot as plt\n",
    "\n",
    "# Create two 1D NumPy arrays\n",
    "x = np.array([1, 2, 3, 4, 5])\n",
    "y = np.array([10, 12, 15, 18, 20])\n",
    "\n",
    "# Plot scatter plot\n",
    "plt.scatter(x, y, color='blue', marker='o')\n",
    "\n",
    "# Add labels and title\n",
    "plt.xlabel('X-axis')\n",
    "plt.ylabel('Y-axis')\n",
    "plt.title('Simple Scatter Plot')\n",
    "\n",
    "# Show plot\n",
    "plt.show()\n"
   ]
  },
  {
   "cell_type": "code",
   "execution_count": 5,
   "id": "362b654e",
   "metadata": {},
   "outputs": [
    {
     "data": {
      "image/png": "[encoded data removed]",
      "text/plain": [
       "<Figure size 640x480 with 1 Axes>"
      ]
     },
     "metadata": {},
     "output_type": "display_data"
    }
   ],
   "source": [
    "import numpy as np\n",
    "import matplotlib.pyplot as plt\n",
    "\n",
    "# Create two 1D NumPy arrays\n",
    "x = np.array([1, 2, 2.4,2.5, 3, 4, 5])\n",
    "y = np.array([10, 12,15,15, 15, 18, 20])\n",
    "\n",
    "plt.scatter(x, y, marker=\"o\", c = \"red\", label = \"Nothing\")\n",
    "\n",
    "# add label and title \n",
    "plt.xlabel(\"X-axis\")\n",
    "plt.ylabel(\"Y-axis\")\n",
    "plt.title(\"Scatter Plot\")\n",
    "\n",
    "# plt.legend()\n",
    "plt.show()\n"
   ]
  },
  {
   "cell_type": "code",
   "execution_count": 4,
   "id": "795e98bc",
   "metadata": {},
   "outputs": [
    {
     "data": {
      "image/png": "[encoded data removed]",
      "text/plain": [
       "<Figure size 640x480 with 1 Axes>"
      ]
     },
     "metadata": {},
     "output_type": "display_data"
    }
   ],
   "source": [
    "import numpy as np\n",
    "import matplotlib.pyplot as plt\n",
    "\n",
    "# Create two 1D NumPy arrays\n",
    "x = np.array([1, 2, 2.4,2.5, 3, 4, 5])\n",
    "y = np.array([10, 12,15,15, 15, 18, 20])\n",
    "\n",
    "plt.scatter(x, y, marker=\"o\", c = \"red\", label = \"Nothing\")\n",
    "\n",
    "# add label and title \n",
    "plt.xlabel(\"X-axis\")\n",
    "plt.ylabel(\"Y-axis\")\n",
    "plt.title(\"Scatter Plot\")\n",
    "\n",
    "plt.legend()\n",
    "plt.show()"
   ]
  },
  {
   "cell_type": "code",
   "execution_count": 6,
   "id": "9d58781c",
   "metadata": {},
   "outputs": [
    {
     "name": "stdout",
     "output_type": "stream",
     "text": [
      "X_train2[pos2, 0]: [3.  7.  7.5]\n",
      "X_train2[pos2, 1]: [4. 8. 9.]\n"
     ]
    },
    {
     "data": {
      "image/png": "[encoded data removed]",
      "text/plain": [
       "<Figure size 500x300 with 1 Axes>"
      ]
     },
     "metadata": {},
     "output_type": "display_data"
    }
   ],
   "source": [
    "import numpy as np\n",
    "\n",
    "# Sample data\n",
    "X_train2 = np.array([[1.0, 2.0],  # Row 0: [x_0=1.0, x_1=2.0]\n",
    "                     [3.0, 4.0],  # Row 1: [x_0=3.0, x_1=4.0]\n",
    "                     [5.0, 6.0],  # Row 2: [x_0=5.0, x_1=6.0]\n",
    "                     [7.0, 8.0],\n",
    "                     [7.5, 9.0]]) # Row 3: [x_0=7.0, x_1=8.0]\n",
    "\n",
    "y_train2 = np.array([0, 1, 0, 1, 1])  # Binary labels for each row\n",
    "\n",
    "# Create boolean array for y_train2 == 1\n",
    "pos2 = y_train2 == 1  # [False, True, False, True]\n",
    "\n",
    "# Select rows where pos2 is True and get column 0 (x_0)\n",
    "x0_values = X_train2[pos2, 0]  # Gets x_0 values where y_train2 == 1\n",
    "print(\"X_train2[pos2, 0]:\", x0_values)  # Output: [3. 7.]\n",
    "\n",
    "# Select rows where pos2 is True and get column 1 (x_1)\n",
    "x1_values = X_train2[pos2, 1]  # Gets x_1 values where y_train2 == 1\n",
    "print(\"X_train2[pos2, 1]:\", x1_values)  # Output: [4. 8.]\n",
    "\n",
    "# For context, let's plot these points using matplotlib\n",
    "import matplotlib.pyplot as plt\n",
    "\n",
    "plt.figure(figsize=(5, 3))\n",
    "plt.scatter(x0_values, x1_values, marker='X', s=80, c='red', label='y=1')\n",
    "plt.xlabel('$x_0$', fontsize=12)\n",
    "plt.ylabel('$x_1$', fontsize=12)\n",
    "plt.title('Scatter Plot for y=1')\n",
    "plt.legend()\n",
    "plt.show()"
   ]
  }
 ],
 "metadata": {
  "kernelspec": {
   "display_name": "base",
   "language": "python",
   "name": "python3"
  },
  "language_info": {
   "codemirror_mode": {
    "name": "ipython",
    "version": 3
   },
   "file_extension": ".py",
   "mimetype": "text/x-python",
   "name": "python",
   "nbconvert_exporter": "python",
   "pygments_lexer": "ipython3",
   "version": "3.12.7"
  }
 },
 "nbformat": 4,
 "nbformat_minor": 5
}
